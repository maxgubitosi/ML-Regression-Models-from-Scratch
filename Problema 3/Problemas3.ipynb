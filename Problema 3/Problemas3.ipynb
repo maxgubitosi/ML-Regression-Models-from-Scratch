{
 "cells": [
  {
   "cell_type": "markdown",
   "metadata": {},
   "source": [
    "# Redes Multicapa para Regresión"
   ]
  },
  {
   "cell_type": "code",
   "execution_count": 1,
   "metadata": {},
   "outputs": [],
   "source": [
    "%load_ext autoreload\n",
    "%autoreload 2"
   ]
  },
  {
   "cell_type": "code",
   "execution_count": 2,
   "metadata": {},
   "outputs": [],
   "source": [
    "import numpy as np\n",
    "import matplotlib.pyplot as plt\n",
    "import pandas as pd\n",
    "import tqdm\n",
    "from functions3 import *\n",
    "import itertools\n",
    "import sys"
   ]
  },
  {
   "cell_type": "code",
   "execution_count": 3,
   "metadata": {},
   "outputs": [
    {
     "data": {
      "text/html": [
       "<div>\n",
       "<style scoped>\n",
       "    .dataframe tbody tr th:only-of-type {\n",
       "        vertical-align: middle;\n",
       "    }\n",
       "\n",
       "    .dataframe tbody tr th {\n",
       "        vertical-align: top;\n",
       "    }\n",
       "\n",
       "    .dataframe thead th {\n",
       "        text-align: right;\n",
       "    }\n",
       "</style>\n",
       "<table border=\"1\" class=\"dataframe\">\n",
       "  <thead>\n",
       "    <tr style=\"text-align: right;\">\n",
       "      <th></th>\n",
       "      <th>forecasted_performance</th>\n",
       "      <th>hs_sleep</th>\n",
       "      <th>hs_study</th>\n",
       "      <th>prev_scores</th>\n",
       "      <th>practice</th>\n",
       "      <th>extracurricular_activities</th>\n",
       "    </tr>\n",
       "  </thead>\n",
       "  <tbody>\n",
       "    <tr>\n",
       "      <th>0</th>\n",
       "      <td>6.326605</td>\n",
       "      <td>6.560017</td>\n",
       "      <td>5.043475</td>\n",
       "      <td>4.958906</td>\n",
       "      <td>4</td>\n",
       "      <td>False</td>\n",
       "    </tr>\n",
       "    <tr>\n",
       "      <th>1</th>\n",
       "      <td>7.774666</td>\n",
       "      <td>6.459315</td>\n",
       "      <td>3.529156</td>\n",
       "      <td>9.601236</td>\n",
       "      <td>5</td>\n",
       "      <td>False</td>\n",
       "    </tr>\n",
       "    <tr>\n",
       "      <th>2</th>\n",
       "      <td>7.343601</td>\n",
       "      <td>6.487913</td>\n",
       "      <td>2.500939</td>\n",
       "      <td>6.390868</td>\n",
       "      <td>4</td>\n",
       "      <td>False</td>\n",
       "    </tr>\n",
       "    <tr>\n",
       "      <th>3</th>\n",
       "      <td>1.851852</td>\n",
       "      <td>10.126572</td>\n",
       "      <td>2.311390</td>\n",
       "      <td>4.000000</td>\n",
       "      <td>5</td>\n",
       "      <td>False</td>\n",
       "    </tr>\n",
       "    <tr>\n",
       "      <th>4</th>\n",
       "      <td>3.607081</td>\n",
       "      <td>8.093355</td>\n",
       "      <td>3.419712</td>\n",
       "      <td>4.857238</td>\n",
       "      <td>9</td>\n",
       "      <td>False</td>\n",
       "    </tr>\n",
       "    <tr>\n",
       "      <th>...</th>\n",
       "      <td>...</td>\n",
       "      <td>...</td>\n",
       "      <td>...</td>\n",
       "      <td>...</td>\n",
       "      <td>...</td>\n",
       "      <td>...</td>\n",
       "    </tr>\n",
       "    <tr>\n",
       "      <th>1395</th>\n",
       "      <td>5.010497</td>\n",
       "      <td>6.481511</td>\n",
       "      <td>2.531747</td>\n",
       "      <td>4.598361</td>\n",
       "      <td>3</td>\n",
       "      <td>False</td>\n",
       "    </tr>\n",
       "    <tr>\n",
       "      <th>1396</th>\n",
       "      <td>6.280722</td>\n",
       "      <td>6.056482</td>\n",
       "      <td>5.997887</td>\n",
       "      <td>4.408789</td>\n",
       "      <td>8</td>\n",
       "      <td>False</td>\n",
       "    </tr>\n",
       "    <tr>\n",
       "      <th>1397</th>\n",
       "      <td>5.492269</td>\n",
       "      <td>5.402522</td>\n",
       "      <td>5.867482</td>\n",
       "      <td>4.000000</td>\n",
       "      <td>5</td>\n",
       "      <td>False</td>\n",
       "    </tr>\n",
       "    <tr>\n",
       "      <th>1398</th>\n",
       "      <td>7.002018</td>\n",
       "      <td>6.425094</td>\n",
       "      <td>5.027055</td>\n",
       "      <td>5.284618</td>\n",
       "      <td>6</td>\n",
       "      <td>False</td>\n",
       "    </tr>\n",
       "    <tr>\n",
       "      <th>1399</th>\n",
       "      <td>5.278553</td>\n",
       "      <td>8.119775</td>\n",
       "      <td>2.149788</td>\n",
       "      <td>6.454177</td>\n",
       "      <td>5</td>\n",
       "      <td>False</td>\n",
       "    </tr>\n",
       "  </tbody>\n",
       "</table>\n",
       "<p>1400 rows × 6 columns</p>\n",
       "</div>"
      ],
      "text/plain": [
       "      forecasted_performance   hs_sleep  hs_study  prev_scores  practice  \\\n",
       "0                   6.326605   6.560017  5.043475     4.958906         4   \n",
       "1                   7.774666   6.459315  3.529156     9.601236         5   \n",
       "2                   7.343601   6.487913  2.500939     6.390868         4   \n",
       "3                   1.851852  10.126572  2.311390     4.000000         5   \n",
       "4                   3.607081   8.093355  3.419712     4.857238         9   \n",
       "...                      ...        ...       ...          ...       ...   \n",
       "1395                5.010497   6.481511  2.531747     4.598361         3   \n",
       "1396                6.280722   6.056482  5.997887     4.408789         8   \n",
       "1397                5.492269   5.402522  5.867482     4.000000         5   \n",
       "1398                7.002018   6.425094  5.027055     5.284618         6   \n",
       "1399                5.278553   8.119775  2.149788     6.454177         5   \n",
       "\n",
       "      extracurricular_activities  \n",
       "0                          False  \n",
       "1                          False  \n",
       "2                          False  \n",
       "3                          False  \n",
       "4                          False  \n",
       "...                          ...  \n",
       "1395                       False  \n",
       "1396                       False  \n",
       "1397                       False  \n",
       "1398                       False  \n",
       "1399                       False  \n",
       "\n",
       "[1400 rows x 6 columns]"
      ]
     },
     "execution_count": 3,
     "metadata": {},
     "output_type": "execute_result"
    }
   ],
   "source": [
    "# import data from csv\n",
    "data = pd.read_csv('/Users/maxi/Downloads/Actuales/ML/ML-TP2/datasets/Student_Performance_DEV.csv').drop(columns='idx')\n",
    "data"
   ]
  },
  {
   "cell_type": "markdown",
   "metadata": {},
   "source": [
    "### a)\n",
    "Implementar una red neuronal multicapa, que funcione para cualquier valor $L \\ge 1$, y $M^{(l)} \\ge 1$, así como el algoritmo de optimización de descenso por gradiente y backpropagation para optimizar los pesos de las unidades ocultas, asumiendo una “loss-function” que sea la suma de los errores cuadráticos."
   ]
  },
  {
   "cell_type": "code",
   "execution_count": 4,
   "metadata": {},
   "outputs": [
    {
     "data": {
      "text/html": [
       "<div>\n",
       "<style scoped>\n",
       "    .dataframe tbody tr th:only-of-type {\n",
       "        vertical-align: middle;\n",
       "    }\n",
       "\n",
       "    .dataframe tbody tr th {\n",
       "        vertical-align: top;\n",
       "    }\n",
       "\n",
       "    .dataframe thead th {\n",
       "        text-align: right;\n",
       "    }\n",
       "</style>\n",
       "<table border=\"1\" class=\"dataframe\">\n",
       "  <thead>\n",
       "    <tr style=\"text-align: right;\">\n",
       "      <th></th>\n",
       "      <th>hs_sleep</th>\n",
       "      <th>hs_study</th>\n",
       "      <th>prev_scores</th>\n",
       "      <th>practice</th>\n",
       "      <th>extracurricular_activities</th>\n",
       "      <th>practice_prev_scores</th>\n",
       "      <th>hs_study*hs_sleep</th>\n",
       "    </tr>\n",
       "  </thead>\n",
       "  <tbody>\n",
       "    <tr>\n",
       "      <th>0</th>\n",
       "      <td>7.512345</td>\n",
       "      <td>5.072058</td>\n",
       "      <td>8.775325</td>\n",
       "      <td>14</td>\n",
       "      <td>1</td>\n",
       "      <td>122.854554</td>\n",
       "      <td>0.675163</td>\n",
       "    </tr>\n",
       "    <tr>\n",
       "      <th>1</th>\n",
       "      <td>7.645378</td>\n",
       "      <td>5.266626</td>\n",
       "      <td>8.351701</td>\n",
       "      <td>6</td>\n",
       "      <td>1</td>\n",
       "      <td>50.110206</td>\n",
       "      <td>0.688864</td>\n",
       "    </tr>\n",
       "    <tr>\n",
       "      <th>2</th>\n",
       "      <td>7.096499</td>\n",
       "      <td>3.071855</td>\n",
       "      <td>8.498025</td>\n",
       "      <td>2</td>\n",
       "      <td>1</td>\n",
       "      <td>16.996050</td>\n",
       "      <td>0.432869</td>\n",
       "    </tr>\n",
       "    <tr>\n",
       "      <th>3</th>\n",
       "      <td>6.454375</td>\n",
       "      <td>3.299192</td>\n",
       "      <td>9.913947</td>\n",
       "      <td>9</td>\n",
       "      <td>0</td>\n",
       "      <td>89.225524</td>\n",
       "      <td>0.511156</td>\n",
       "    </tr>\n",
       "    <tr>\n",
       "      <th>4</th>\n",
       "      <td>7.731830</td>\n",
       "      <td>2.091205</td>\n",
       "      <td>4.052463</td>\n",
       "      <td>17</td>\n",
       "      <td>0</td>\n",
       "      <td>68.891872</td>\n",
       "      <td>0.270467</td>\n",
       "    </tr>\n",
       "    <tr>\n",
       "      <th>...</th>\n",
       "      <td>...</td>\n",
       "      <td>...</td>\n",
       "      <td>...</td>\n",
       "      <td>...</td>\n",
       "      <td>...</td>\n",
       "      <td>...</td>\n",
       "      <td>...</td>\n",
       "    </tr>\n",
       "    <tr>\n",
       "      <th>1115</th>\n",
       "      <td>8.401831</td>\n",
       "      <td>5.314130</td>\n",
       "      <td>4.808138</td>\n",
       "      <td>16</td>\n",
       "      <td>0</td>\n",
       "      <td>76.930210</td>\n",
       "      <td>0.632497</td>\n",
       "    </tr>\n",
       "    <tr>\n",
       "      <th>1116</th>\n",
       "      <td>6.644282</td>\n",
       "      <td>4.947815</td>\n",
       "      <td>5.392057</td>\n",
       "      <td>2</td>\n",
       "      <td>0</td>\n",
       "      <td>10.784113</td>\n",
       "      <td>0.744673</td>\n",
       "    </tr>\n",
       "    <tr>\n",
       "      <th>1117</th>\n",
       "      <td>7.629650</td>\n",
       "      <td>4.989611</td>\n",
       "      <td>6.980204</td>\n",
       "      <td>9</td>\n",
       "      <td>0</td>\n",
       "      <td>62.821840</td>\n",
       "      <td>0.653976</td>\n",
       "    </tr>\n",
       "    <tr>\n",
       "      <th>1118</th>\n",
       "      <td>8.681235</td>\n",
       "      <td>5.776701</td>\n",
       "      <td>8.484583</td>\n",
       "      <td>9</td>\n",
       "      <td>0</td>\n",
       "      <td>76.361246</td>\n",
       "      <td>0.665424</td>\n",
       "    </tr>\n",
       "    <tr>\n",
       "      <th>1119</th>\n",
       "      <td>8.592443</td>\n",
       "      <td>4.060003</td>\n",
       "      <td>7.849113</td>\n",
       "      <td>2</td>\n",
       "      <td>0</td>\n",
       "      <td>15.698226</td>\n",
       "      <td>0.472509</td>\n",
       "    </tr>\n",
       "  </tbody>\n",
       "</table>\n",
       "<p>1120 rows × 7 columns</p>\n",
       "</div>"
      ],
      "text/plain": [
       "      hs_sleep  hs_study  prev_scores  practice  extracurricular_activities  \\\n",
       "0     7.512345  5.072058     8.775325        14                           1   \n",
       "1     7.645378  5.266626     8.351701         6                           1   \n",
       "2     7.096499  3.071855     8.498025         2                           1   \n",
       "3     6.454375  3.299192     9.913947         9                           0   \n",
       "4     7.731830  2.091205     4.052463        17                           0   \n",
       "...        ...       ...          ...       ...                         ...   \n",
       "1115  8.401831  5.314130     4.808138        16                           0   \n",
       "1116  6.644282  4.947815     5.392057         2                           0   \n",
       "1117  7.629650  4.989611     6.980204         9                           0   \n",
       "1118  8.681235  5.776701     8.484583         9                           0   \n",
       "1119  8.592443  4.060003     7.849113         2                           0   \n",
       "\n",
       "      practice_prev_scores  hs_study*hs_sleep  \n",
       "0               122.854554           0.675163  \n",
       "1                50.110206           0.688864  \n",
       "2                16.996050           0.432869  \n",
       "3                89.225524           0.511156  \n",
       "4                68.891872           0.270467  \n",
       "...                    ...                ...  \n",
       "1115             76.930210           0.632497  \n",
       "1116             10.784113           0.744673  \n",
       "1117             62.821840           0.653976  \n",
       "1118             76.361246           0.665424  \n",
       "1119             15.698226           0.472509  \n",
       "\n",
       "[1120 rows x 7 columns]"
      ]
     },
     "execution_count": 4,
     "metadata": {},
     "output_type": "execute_result"
    }
   ],
   "source": [
    "# data = one_hot_encoding(data, 'extracurricular_activities')\n",
    "data = data.astype({'extracurricular_activities': 'int'})\n",
    "\n",
    "# add column with practice * prev_scores\n",
    "data['practice_prev_scores'] = data['practice'] * data['prev_scores']\n",
    "\n",
    "# add column with hs_study/hs_sleep\n",
    "data['hs_study*hs_sleep'] = data['hs_study'] / data['hs_sleep']\n",
    "\n",
    "\n",
    "X = data.drop(columns=['forecasted_performance'])\n",
    "y = data['forecasted_performance'].values\n",
    "\n",
    "train_data, test_data = train_test_split(data, test_size=0.2, seed=42)\n",
    "\n",
    "X_train = train_data.drop(columns=['forecasted_performance'])\n",
    "y_train = train_data['forecasted_performance'].values\n",
    "\n",
    "X_test = test_data.drop(columns=['forecasted_performance'])\n",
    "y_test = test_data['forecasted_performance'].values\n",
    "\n",
    "X_train"
   ]
  },
  {
   "cell_type": "code",
   "execution_count": 5,
   "metadata": {},
   "outputs": [
    {
     "name": "stderr",
     "output_type": "stream",
     "text": [
      "100%|██████████| 200/200 [00:12<00:00, 16.26it/s]\n"
     ]
    }
   ],
   "source": [
    "nn_1 = MLP(input_size=X_train.shape[1], layers=[X_train.shape[1], 25, 1], activations='default', verbose=False)\n",
    "\n",
    "# Fit the MLP model to the training data\n",
    "train_losses_1, test_losses_1 = nn_1.fit(training_data=list(zip(X_train.values, y_train)), \n",
    "                                    test_data=list(zip(X_test.values, y_test)), \n",
    "                                    max_epochs=200, \n",
    "                                    mini_batch_size=10, \n",
    "                                    alpha=1e-7,\n",
    "                                    update_rule='single_example')\n"
   ]
  },
  {
   "cell_type": "code",
   "execution_count": 6,
   "metadata": {},
   "outputs": [
    {
     "name": "stdout",
     "output_type": "stream",
     "text": [
      "num layers: 3\n",
      "layers: [7, 25, 1]\n",
      "activations: ['relu', 'relu', 'linear']\n"
     ]
    }
   ],
   "source": [
    "print(f\"num layers: {nn_1.num_layers}\")\n",
    "print(f\"layers: {nn_1.layers}\")\n",
    "print(f\"activations: {nn_1.activations}\")"
   ]
  },
  {
   "cell_type": "code",
   "execution_count": 7,
   "metadata": {},
   "outputs": [
    {
     "name": "stderr",
     "output_type": "stream",
     "text": [
      "  0%|          | 1/200 [00:00<00:38,  5.14it/s]"
     ]
    },
    {
     "name": "stderr",
     "output_type": "stream",
     "text": [
      "100%|██████████| 200/200 [00:15<00:00, 12.76it/s]\n"
     ]
    }
   ],
   "source": [
    "nn_2 = MLP(input_size=X_train.shape[1], layers=[X_train.shape[1], 5, 5, 1], verbose=False)\n",
    "\n",
    "nn_2.activations\n",
    "# Fit the MLP model to the training data\n",
    "train_losses_2, test_losses_2 = nn_2.fit(training_data=list(zip(X_train.values, y_train)), \n",
    "                                    test_data=list(zip(X_test.values, y_test)), \n",
    "                                    max_epochs=200, \n",
    "                                    mini_batch_size=10, \n",
    "                                    alpha=1e-7,\n",
    "                                    update_rule='single_example')"
   ]
  },
  {
   "cell_type": "code",
   "execution_count": 8,
   "metadata": {},
   "outputs": [
    {
     "name": "stderr",
     "output_type": "stream",
     "text": [
      "100%|██████████| 200/200 [00:19<00:00, 10.17it/s]\n"
     ]
    }
   ],
   "source": [
    "nn_3 = MLP(input_size=X_train.shape[1], layers=[X_train.shape[1], 5, 7, 5, 1], verbose=False)\n",
    "\n",
    "# Fit the MLP model to the training data\n",
    "train_losses_3, test_losses_3 = nn_3.fit(training_data=list(zip(X_train.values, y_train)), \n",
    "                                    test_data=list(zip(X_test.values, y_test)), \n",
    "                                    max_epochs=200, \n",
    "                                    mini_batch_size=10, \n",
    "                                    alpha=1e-7,\n",
    "                                    update_rule='single_example')"
   ]
  },
  {
   "cell_type": "code",
   "execution_count": 9,
   "metadata": {},
   "outputs": [
    {
     "name": "stderr",
     "output_type": "stream",
     "text": [
      "  0%|          | 1/200 [00:00<00:20,  9.82it/s]"
     ]
    },
    {
     "name": "stderr",
     "output_type": "stream",
     "text": [
      "100%|██████████| 200/200 [00:11<00:00, 17.42it/s]\n"
     ]
    }
   ],
   "source": [
    "nn_4 = MLP(input_size=X_train.shape[1], layers=[X_train.shape[1], 1, 1], verbose=False)\n",
    "\n",
    "# Fit the MLP model to the training data\n",
    "train_losses_4, test_losses_4 = nn_4.fit(training_data=list(zip(X_train.values, y_train)), \n",
    "                                    test_data=list(zip(X_test.values, y_test)), \n",
    "                                    max_epochs=200, \n",
    "                                    mini_batch_size=10, \n",
    "                                    alpha=1e-7,\n",
    "                                    update_rule='single_example')"
   ]
  },
  {
   "cell_type": "markdown",
   "metadata": {},
   "source": [
    "### b)\n",
    "Implementar descenso por gradiente estocástico y graficar la evolución del error de entrenamiento en función de las  épocas."
   ]
  },
  {
   "cell_type": "code",
   "execution_count": 10,
   "metadata": {},
   "outputs": [
    {
     "data": {
      "image/png": "[encoded data removed]",
      "text/plain": [
       "<Figure size 1152x864 with 4 Axes>"
      ]
     },
     "metadata": {
      "needs_background": "light"
     },
     "output_type": "display_data"
    }
   ],
   "source": [
    "fig, axs = plt.subplots(2, 2, figsize=(16, 12))\n",
    "axs[0, 0].plot(range(1, len(train_losses_1) + 1), train_losses_1, label='Train Loss')\n",
    "axs[0, 0].plot(range(1, len(test_losses_1) + 1), test_losses_1, label='Test Loss')\n",
    "axs[0, 0].set_yscale('log')\n",
    "axs[0, 0].set_xlabel('Epochs')\n",
    "axs[0, 0].set_ylabel('Loss')\n",
    "axs[0, 0].set_title('Train and Test Loss - 1 hidden layer (25 neurons)')\n",
    "axs[0, 0].legend()\n",
    "\n",
    "axs[0, 1].plot(range(1, len(train_losses_2) + 1), train_losses_2, label='Train Loss')\n",
    "axs[0, 1].plot(range(1, len(test_losses_2) + 1), test_losses_2, label='Test Loss')\n",
    "axs[0, 1].set_yscale('log')\n",
    "axs[0, 1].set_xlabel('Epochs')\n",
    "axs[0, 1].set_ylabel('Loss')\n",
    "axs[0, 1].set_title('Train and Test Loss - 2 hidden layers (5, 5 neurons)')\n",
    "axs[0, 1].legend()\n",
    "\n",
    "axs[1, 0].plot(range(1, len(train_losses_3) + 1), train_losses_3, label='Train Loss')\n",
    "axs[1, 0].plot(range(1, len(test_losses_3) + 1), test_losses_3, label='Test Loss')\n",
    "axs[1, 0].set_yscale('log')\n",
    "axs[1, 0].set_xlabel('Epochs')\n",
    "axs[1, 0].set_ylabel('Loss')\n",
    "axs[1, 0].set_title('Train and Test Loss - 3 hidden layers (5, 7, 5 neurons)')\n",
    "axs[1, 0].legend()\n",
    "\n",
    "axs[1, 1].plot(range(1, len(train_losses_4) + 1), train_losses_4, label='Train Loss')\n",
    "axs[1, 1].plot(range(1, len(test_losses_4) + 1), test_losses_4, label='Test Loss')\n",
    "axs[1, 1].set_yscale('log')\n",
    "axs[1, 1].set_xlabel('Epochs')\n",
    "axs[1, 1].set_ylabel('Loss')\n",
    "axs[1, 1].set_title('Train and Test Loss - 1 hidden layer (1 neuron)')\n",
    "axs[1, 1].legend()\n",
    "\n",
    "plt.show()"
   ]
  },
  {
   "cell_type": "code",
   "execution_count": 11,
   "metadata": {},
   "outputs": [
    {
     "name": "stdout",
     "output_type": "stream",
     "text": [
      "nn_1 Predictions:\n",
      "  Predictions  |   Test\n",
      "[0.2798738] 9.678152468405315\n",
      "[4.20500583] 7.337679311836268\n",
      "[3.64692146] 4.542551445452206\n",
      "[3.96062855] 4.408466887658554\n",
      "[10.57986653] 6.5918391130432274\n",
      "[7.50602513] 7.126303113365252\n",
      "[0.] 5.824865318066567\n",
      "[7.46876665] 4.318271770712224\n",
      "[9.80283023] 2.6946935959490674\n",
      "[13.43195151] 4.621360632505932\n",
      "[14.28785515] 6.289601307408167\n",
      "[5.95811807] 6.659869395546703\n",
      "[16.69832668] 8.050121380949898\n",
      "[4.04735711] 1.851851851851852\n",
      "[12.10983046] 7.629186838253545\n",
      "[2.74584093] 3.628587783482679\n",
      "[3.43744866] 6.490047212114392\n",
      "[3.3858135] 10.0\n",
      "[6.34629625] 7.926128337307125\n",
      "[9.27383649] 5.3777726427393455\n",
      "[11.41621853] 7.71268659291545\n",
      "[0.16836484] 1.851851851851852\n",
      "[7.27945796] 6.9952581159936535\n",
      "[5.37420111] 8.652310141516276\n",
      "[10.17229495] 8.104721281886103\n",
      "[3.67556528] 5.10361369184111\n",
      "[9.10540084] 8.99645782049267\n",
      "[0.] 6.235928190854355\n",
      "[13.31750381] 5.7733074895165295\n",
      "[16.79839443] 7.697125657561498\n",
      "[3.03787937] 6.698293228713865\n",
      "[4.25202352] 4.8051094649325865\n",
      "[5.0281279] 5.88535735192808\n",
      "[8.74699748] 9.812243420198824\n",
      "[0.76794755] 9.026993870331069\n",
      "[8.74298086] 6.829178919202152\n",
      "[11.19645032] 6.850488817449615\n",
      "[10.15610994] 7.220273352710861\n",
      "[13.38357036] 6.092571619586716\n",
      "[6.0239005] 7.831163231092303\n",
      "[3.4284114] 5.855187227917766\n",
      "[0.26891951] 2.3991097521211104\n",
      "[15.79198834] 7.130027097160447\n",
      "[18.00379463] 7.455975073551501\n",
      "[0.8484749] 3.839433378833896\n",
      "[6.44989901] 4.729313415274334\n",
      "[3.53824935] 6.417834061095757\n",
      "[3.69618958] 7.43195391665195\n",
      "[7.6961708] 10.0\n",
      "[3.14567896] 6.2235686309135225\n",
      "[1.20498179] 3.916905586373556\n",
      "[7.90846145] 7.853345560476516\n",
      "[10.71456358] 6.678783257215971\n",
      "[6.17908985] 7.693881706844417\n",
      "[6.44603992] 4.04830879843461\n",
      "[12.40863445] 7.697675549459332\n",
      "[4.4295599] 8.616421338645985\n",
      "[11.03423841] 9.8205789684851\n",
      "[8.1975816] 5.591443771170499\n",
      "[9.15588364] 4.234447967478822\n",
      "[8.8636776] 9.372264847021324\n",
      "[4.61414764] 6.086691110151598\n",
      "[10.71562406] 7.93090306430204\n",
      "[4.50759839] 6.5715193914351255\n",
      "[6.80330705] 5.857555133446171\n",
      "[9.14165927] 7.140359042192372\n",
      "[12.57978049] 5.773383693190968\n",
      "[7.822327] 5.545563748913312\n",
      "[6.87502082] 6.527046711226614\n",
      "[2.97548505] 9.61489355830388\n",
      "[7.7238413] 4.670991822114346\n",
      "[5.13321369] 4.905126195718866\n",
      "[0.] 8.539677102214675\n",
      "[2.11722818] 2.445026580927401\n",
      "[5.09315193] 7.428749043357068\n",
      "[4.95853196] 7.427608399204245\n",
      "[0.] 3.353426343703587\n",
      "[13.38631933] 6.703324494202079\n",
      "[10.42437564] 4.422722669549343\n",
      "[2.06246365] 5.401628890207007\n",
      "[4.13142695] 7.0214092102133705\n",
      "[8.27833458] 7.36898683970395\n",
      "[5.59232838] 9.303098624890875\n",
      "[4.64381516] 8.323197616567995\n",
      "[16.71370846] 8.397646156593888\n",
      "[4.65678865] 7.76150814157945\n",
      "[0.] 3.1527410578268995\n",
      "[7.25109189] 6.788871633535091\n",
      "[12.94390248] 7.484849980734305\n",
      "[8.20992654] 6.953883354512839\n",
      "[6.98024704] 7.460020069520389\n",
      "[6.67182985] 6.57922812385583\n",
      "[8.04897414] 8.052887460935686\n",
      "[11.84186591] 8.51106417323274\n",
      "[8.32178116] 7.528361342633898\n",
      "[10.49632384] 8.744514850462306\n",
      "[11.5346399] 9.416814309186956\n",
      "[8.72660832] 7.085841111755837\n",
      "[1.58081859] 4.017129476895292\n",
      "[12.18803893] 6.068285552001813\n",
      "[10.75340903] 7.732426866582186\n",
      "[9.65327757] 9.62294539524904\n",
      "[3.89303259] 9.502242842132748\n",
      "[4.9503357] 4.786597230034527\n",
      "[2.02057833] 4.398700046396327\n",
      "[4.47712712] 6.403931169773522\n",
      "[1.86208844] 8.141309313439354\n",
      "[13.80777416] 7.774666080208885\n",
      "[6.61938146] 9.415062225336204\n",
      "[0.38824058] 3.3508994784176105\n",
      "[3.92762374] 8.424345779469341\n",
      "[0.] 3.667628392571016\n",
      "[6.23444784] 7.268141250929147\n",
      "[0.] 5.864951635896716\n",
      "[2.51268167] 6.455178969148361\n",
      "[1.65172451] 5.562442741915923\n",
      "[0.] 3.539388742041167\n",
      "[5.15494727] 7.0054893866381605\n",
      "[10.43930504] 2.0115855105298164\n",
      "[2.15939433] 4.779656887834538\n",
      "[9.96831215] 4.852054158288751\n",
      "[0.] 7.168212731997052\n",
      "[0.] 2.3870365662974287\n",
      "[6.2079036] 6.228308815533413\n",
      "[13.68438271] 8.565020101562524\n",
      "[3.91502358] 6.121199072735244\n",
      "[1.77886749] 5.0777242331350525\n",
      "[8.01685107] 7.609252729898098\n",
      "[5.28872565] 10.0\n",
      "[1.72676657] 5.926197346668048\n",
      "[8.92560327] 9.917304426558296\n",
      "[4.54749067] 5.008970969459362\n",
      "[6.67244698] 10.0\n",
      "[13.0558567] 7.406735971008565\n",
      "[3.46857155] 5.439953443998031\n",
      "[2.58114044] 5.131396695783959\n",
      "[18.04340716] 7.459258601930566\n",
      "[12.71127415] 7.214956829120206\n",
      "[15.02514751] 1.851851851851852\n",
      "[2.03805279] 4.539161964144308\n",
      "[0.] 2.4202864541269857\n",
      "[12.15932469] 9.738921524383914\n",
      "[10.65580507] 7.600965616311389\n",
      "[8.00522252] 6.5368313209396\n",
      "[0.57520865] 3.68413563566261\n",
      "[9.88909035] 5.916263249940056\n",
      "[9.94288496] 1.8700372326561148\n",
      "[3.91472979] 6.182824282100945\n",
      "[5.16362897] 8.177116116252755\n",
      "[0.] 4.739907278240945\n",
      "[6.43658997] 6.820726411134219\n",
      "[8.96974384] 7.776847800308603\n",
      "[7.62341075] 4.163937694471125\n",
      "[4.53111561] 8.498133030310102\n",
      "[4.64818366] 4.840610413999844\n",
      "[5.69809639] 9.954259037050916\n",
      "[11.69125612] 8.854750065067972\n",
      "[13.57238284] 8.00594305841284\n",
      "[4.93700092] 6.628133277088092\n",
      "[10.31311541] 2.2848432569028327\n",
      "[2.97486993] 7.582033487599176\n",
      "[14.68559366] 7.341067788650251\n",
      "[7.57348752] 6.47086865304802\n",
      "[6.18211019] 9.432421948715271\n",
      "[9.69074475] 5.835714725527012\n",
      "[6.27745439] 10.0\n",
      "[6.70076622] 7.499119217121452\n",
      "[3.40998232] 6.739829052380251\n",
      "[2.96695876] 5.26428307818077\n",
      "[8.97156677] 8.075860159401408\n",
      "[3.72102313] 5.091114712917372\n",
      "[1.70242211] 6.1596829919475375\n",
      "[4.08331398] 9.707809896934556\n",
      "[10.65467657] 9.37378931879819\n",
      "[6.9042168] 8.018011177604297\n",
      "[6.03908606] 7.634665171226384\n",
      "[16.46663574] 7.75915544711984\n",
      "[2.31312921] 4.615577744899654\n",
      "[2.37920496] 9.232990678605082\n",
      "[10.36857932] 3.3863057771118275\n",
      "[0.80572105] 9.952696898560028\n",
      "[0.] 3.417512181472918\n",
      "[2.82284711] 5.771965865654502\n",
      "[8.7114591] 7.151728041441432\n",
      "[6.07534921] 6.878611733124606\n",
      "[2.7450054] 4.948118794025939\n",
      "[6.98768309] 5.083964232766949\n",
      "[3.82664794] 5.421010522207244\n",
      "[3.48203078] 1.851851851851852\n",
      "[13.40341409] 8.578818177388193\n",
      "[3.80751194] 6.65937708058702\n",
      "[7.50943502] 6.61629895471467\n",
      "[0.] 1.851851851851852\n",
      "[7.08650926] 7.423819666391299\n",
      "[14.78088595] 7.716914660783912\n",
      "[3.17891487] 7.5415046990706145\n",
      "[0.88179231] 6.049329321176241\n",
      "[0.] 2.250382772970725\n",
      "[10.89938073] 9.90798867352064\n",
      "[11.24292199] 2.931300075839756\n",
      "[8.73414642] 7.863806008845423\n",
      "[11.69655514] 9.296410702126392\n",
      "[0.] 8.244454971376689\n",
      "[10.08183553] 6.061848331826649\n",
      "[3.39343805] 5.439450516199926\n",
      "[3.83286038] 5.492269473343678\n",
      "[4.86739876] 7.511558107037333\n",
      "[2.94542528] 6.697565428279466\n",
      "[3.41176806] 10.0\n",
      "[11.01656315] 7.848320992919247\n",
      "[0.] 4.094862968810799\n",
      "[8.17722057] 6.436878506557429\n",
      "[10.20551212] 8.878239101078316\n",
      "[10.54981866] 2.935395652150902\n",
      "[4.28966829] 5.040501150643223\n",
      "[10.03380672] 5.786532833769113\n",
      "[2.36355249] 5.979586664749691\n",
      "[0.] 5.306279822204499\n",
      "[3.82441396] 2.8468897787232805\n",
      "[8.08867904] 6.475822091545631\n",
      "[1.82722544] 5.1286134940852826\n",
      "[6.89467236] 6.479241160255439\n",
      "[11.05592598] 8.26365943775248\n",
      "[7.02234322] 3.926358560050596\n",
      "[2.55858448] 1.851851851851852\n",
      "[6.49534347] 6.217647718864438\n",
      "[3.24492482] 8.615936128999689\n",
      "[13.69370018] 8.445644563357412\n",
      "[11.41013847] 5.501240699731439\n",
      "[8.89470352] 9.331951529417958\n",
      "[2.79593495] 4.960118556994908\n",
      "[0.65291562] 6.661716658956585\n",
      "[6.28667461] 6.16252056098483\n",
      "[9.42978048] 6.606884116655985\n",
      "[8.50992298] 6.178471199021354\n",
      "[13.65000332] 8.648189535699306\n",
      "[6.82322244] 7.293873578105795\n",
      "[8.33927673] 8.58900182293059\n",
      "[0.] 6.919001354136199\n",
      "[4.385591] 5.782641789750783\n",
      "[5.64390222] 6.745188230708847\n",
      "[10.64686312] 8.729895310763187\n",
      "[6.95779369] 8.7520702745822\n",
      "[0.] 2.956251130925136\n",
      "[0.] 4.901682489457501\n",
      "[9.83880939] 7.702868405019511\n",
      "[3.1569329] 4.940154551128343\n",
      "[8.17871768] 6.937318930605292\n",
      "[6.65749918] 4.611939973759612\n",
      "[6.37655579] 5.370445928558012\n",
      "[0.] 6.365217867485603\n",
      "[10.69775857] 10.0\n",
      "[5.71393414] 6.386895591770129\n",
      "[2.06364402] 5.570361684625506\n",
      "[3.37120119] 6.738211445254173\n",
      "[0.79542379] 5.695169184106348\n",
      "[1.71269015] 8.487494479679516\n",
      "[4.53271599] 7.334634318477685\n",
      "[4.79568113] 4.018484331007162\n",
      "[15.83734004] 6.907635045131309\n",
      "[0.] 4.532711140346562\n",
      "[5.34979861] 6.824645591042441\n",
      "[4.69022223] 2.2785416789526334\n",
      "[7.1884443] 6.884307261274248\n",
      "[0.] 4.6045944810957815\n",
      "[13.72169397] 7.227234989705268\n",
      "[1.91324506] 5.194487096750931\n",
      "[3.0002399] 5.276434979707855\n",
      "[15.53316232] 8.28226890228201\n",
      "[3.51059835] 5.096369072556445\n",
      "[9.27439961] 7.453364710650697\n",
      "[12.18341582] 7.913231463617754\n",
      "[7.38429871] 7.01712659468858\n",
      "[12.77406808] 8.241735056808233\n",
      "[4.28702519] 6.759185265998009\n",
      "[8.4306609] 7.406332267222321\n",
      "[3.20466349] 6.090466185289252\n",
      "[4.84373149] 10.0\n",
      "[11.83805083] 5.357620879306063\n",
      "[9.09245576] 5.660658121913187\n",
      "\n",
      "\n",
      "nn_2 Predictions:\n",
      "  Predictions  |   Test\n",
      "[2.01230855] 9.678152468405315\n",
      "[2.01230855] 7.337679311836268\n",
      "[2.01230855] 4.542551445452206\n",
      "[2.01230855] 4.408466887658554\n",
      "[2.01230855] 6.5918391130432274\n",
      "[2.01230855] 7.126303113365252\n",
      "[2.01230855] 5.824865318066567\n",
      "[2.01230855] 4.318271770712224\n",
      "[2.01230855] 2.6946935959490674\n",
      "[2.01230855] 4.621360632505932\n",
      "[2.01230855] 6.289601307408167\n",
      "[2.01230855] 6.659869395546703\n",
      "[2.01230855] 8.050121380949898\n",
      "[2.01230855] 1.851851851851852\n",
      "[2.01230855] 7.629186838253545\n",
      "[2.01230855] 3.628587783482679\n",
      "[2.01230855] 6.490047212114392\n",
      "[2.01230855] 10.0\n",
      "[2.01230855] 7.926128337307125\n",
      "[2.01230855] 5.3777726427393455\n",
      "[2.01230855] 7.71268659291545\n",
      "[2.01230855] 1.851851851851852\n",
      "[2.01230855] 6.9952581159936535\n",
      "[2.01230855] 8.652310141516276\n",
      "[2.01230855] 8.104721281886103\n",
      "[2.01230855] 5.10361369184111\n",
      "[2.01230855] 8.99645782049267\n",
      "[2.01230855] 6.235928190854355\n",
      "[2.01230855] 5.7733074895165295\n",
      "[2.01230855] 7.697125657561498\n",
      "[2.01230855] 6.698293228713865\n",
      "[2.01230855] 4.8051094649325865\n",
      "[2.01230855] 5.88535735192808\n",
      "[2.01230855] 9.812243420198824\n",
      "[2.01230855] 9.026993870331069\n",
      "[2.01230855] 6.829178919202152\n",
      "[2.01230855] 6.850488817449615\n",
      "[2.01230855] 7.220273352710861\n",
      "[2.01230855] 6.092571619586716\n",
      "[2.01230855] 7.831163231092303\n",
      "[2.01230855] 5.855187227917766\n",
      "[2.01230855] 2.3991097521211104\n",
      "[2.01230855] 7.130027097160447\n",
      "[2.01230855] 7.455975073551501\n",
      "[2.01230855] 3.839433378833896\n",
      "[2.01230855] 4.729313415274334\n",
      "[2.01230855] 6.417834061095757\n",
      "[2.01230855] 7.43195391665195\n",
      "[2.01230855] 10.0\n",
      "[2.01230855] 6.2235686309135225\n",
      "[2.01230855] 3.916905586373556\n",
      "[2.01230855] 7.853345560476516\n",
      "[2.01230855] 6.678783257215971\n",
      "[2.01230855] 7.693881706844417\n",
      "[2.01230855] 4.04830879843461\n",
      "[2.01230855] 7.697675549459332\n",
      "[2.01230855] 8.616421338645985\n",
      "[2.01230855] 9.8205789684851\n",
      "[2.01230855] 5.591443771170499\n",
      "[2.01230855] 4.234447967478822\n",
      "[2.01230855] 9.372264847021324\n",
      "[2.01230855] 6.086691110151598\n",
      "[2.01230855] 7.93090306430204\n",
      "[2.01230855] 6.5715193914351255\n",
      "[2.01230855] 5.857555133446171\n",
      "[2.01230855] 7.140359042192372\n",
      "[2.01230855] 5.773383693190968\n",
      "[2.01230855] 5.545563748913312\n",
      "[2.01230855] 6.527046711226614\n",
      "[2.01230855] 9.61489355830388\n",
      "[2.01230855] 4.670991822114346\n",
      "[2.01230855] 4.905126195718866\n",
      "[2.01230855] 8.539677102214675\n",
      "[2.01230855] 2.445026580927401\n",
      "[2.01230855] 7.428749043357068\n",
      "[2.01230855] 7.427608399204245\n",
      "[2.01230855] 3.353426343703587\n",
      "[2.01230855] 6.703324494202079\n",
      "[2.01230855] 4.422722669549343\n",
      "[2.01230855] 5.401628890207007\n",
      "[2.01230855] 7.0214092102133705\n",
      "[2.01230855] 7.36898683970395\n",
      "[2.01230855] 9.303098624890875\n",
      "[2.01230855] 8.323197616567995\n",
      "[2.01230855] 8.397646156593888\n",
      "[2.01230855] 7.76150814157945\n",
      "[2.01230855] 3.1527410578268995\n",
      "[2.01230855] 6.788871633535091\n",
      "[2.01230855] 7.484849980734305\n",
      "[2.01230855] 6.953883354512839\n",
      "[2.01230855] 7.460020069520389\n",
      "[2.01230855] 6.57922812385583\n",
      "[2.01230855] 8.052887460935686\n",
      "[2.01230855] 8.51106417323274\n",
      "[2.01230855] 7.528361342633898\n",
      "[2.01230855] 8.744514850462306\n",
      "[2.01230855] 9.416814309186956\n",
      "[2.01230855] 7.085841111755837\n",
      "[2.01230855] 4.017129476895292\n",
      "[2.01230855] 6.068285552001813\n",
      "[2.01230855] 7.732426866582186\n",
      "[2.01230855] 9.62294539524904\n",
      "[2.01230855] 9.502242842132748\n",
      "[2.01230855] 4.786597230034527\n",
      "[2.01230855] 4.398700046396327\n",
      "[2.01230855] 6.403931169773522\n",
      "[2.01230855] 8.141309313439354\n",
      "[2.01230855] 7.774666080208885\n",
      "[2.01230855] 9.415062225336204\n",
      "[2.01230855] 3.3508994784176105\n",
      "[2.01230855] 8.424345779469341\n",
      "[2.01230855] 3.667628392571016\n",
      "[2.01230855] 7.268141250929147\n",
      "[2.01230855] 5.864951635896716\n",
      "[2.01230855] 6.455178969148361\n",
      "[2.01230855] 5.562442741915923\n",
      "[2.01230855] 3.539388742041167\n",
      "[2.01230855] 7.0054893866381605\n",
      "[2.01230855] 2.0115855105298164\n",
      "[2.01230855] 4.779656887834538\n",
      "[2.01230855] 4.852054158288751\n",
      "[2.01230855] 7.168212731997052\n",
      "[2.01230855] 2.3870365662974287\n",
      "[2.01230855] 6.228308815533413\n",
      "[2.01230855] 8.565020101562524\n",
      "[2.01230855] 6.121199072735244\n",
      "[2.01230855] 5.0777242331350525\n",
      "[2.01230855] 7.609252729898098\n",
      "[2.01230855] 10.0\n",
      "[2.01230855] 5.926197346668048\n",
      "[2.01230855] 9.917304426558296\n",
      "[2.01230855] 5.008970969459362\n",
      "[2.01230855] 10.0\n",
      "[2.01230855] 7.406735971008565\n",
      "[2.01230855] 5.439953443998031\n",
      "[2.01230855] 5.131396695783959\n",
      "[2.01230855] 7.459258601930566\n",
      "[2.01230855] 7.214956829120206\n",
      "[2.01230855] 1.851851851851852\n",
      "[2.01230855] 4.539161964144308\n",
      "[2.01230855] 2.4202864541269857\n",
      "[2.01230855] 9.738921524383914\n",
      "[2.01230855] 7.600965616311389\n",
      "[2.01230855] 6.5368313209396\n",
      "[2.01230855] 3.68413563566261\n",
      "[2.01230855] 5.916263249940056\n",
      "[2.01230855] 1.8700372326561148\n",
      "[2.01230855] 6.182824282100945\n",
      "[2.01230855] 8.177116116252755\n",
      "[2.01230855] 4.739907278240945\n",
      "[2.01230855] 6.820726411134219\n",
      "[2.01230855] 7.776847800308603\n",
      "[2.01230855] 4.163937694471125\n",
      "[2.01230855] 8.498133030310102\n",
      "[2.01230855] 4.840610413999844\n",
      "[2.01230855] 9.954259037050916\n",
      "[2.01230855] 8.854750065067972\n",
      "[2.01230855] 8.00594305841284\n",
      "[2.01230855] 6.628133277088092\n",
      "[2.01230855] 2.2848432569028327\n",
      "[2.01230855] 7.582033487599176\n",
      "[2.01230855] 7.341067788650251\n",
      "[2.01230855] 6.47086865304802\n",
      "[2.01230855] 9.432421948715271\n",
      "[2.01230855] 5.835714725527012\n",
      "[2.01230855] 10.0\n",
      "[2.01230855] 7.499119217121452\n",
      "[2.01230855] 6.739829052380251\n",
      "[2.01230855] 5.26428307818077\n",
      "[2.01230855] 8.075860159401408\n",
      "[2.01230855] 5.091114712917372\n",
      "[2.01230855] 6.1596829919475375\n",
      "[2.01230855] 9.707809896934556\n",
      "[2.01230855] 9.37378931879819\n",
      "[2.01230855] 8.018011177604297\n",
      "[2.01230855] 7.634665171226384\n",
      "[2.01230855] 7.75915544711984\n",
      "[2.01230855] 4.615577744899654\n",
      "[2.01230855] 9.232990678605082\n",
      "[2.01230855] 3.3863057771118275\n",
      "[2.01230855] 9.952696898560028\n",
      "[2.01230855] 3.417512181472918\n",
      "[2.01230855] 5.771965865654502\n",
      "[2.01230855] 7.151728041441432\n",
      "[2.01230855] 6.878611733124606\n",
      "[2.01230855] 4.948118794025939\n",
      "[2.01230855] 5.083964232766949\n",
      "[2.01230855] 5.421010522207244\n",
      "[2.01230855] 1.851851851851852\n",
      "[2.01230855] 8.578818177388193\n",
      "[2.01230855] 6.65937708058702\n",
      "[2.01230855] 6.61629895471467\n",
      "[2.01230855] 1.851851851851852\n",
      "[2.01230855] 7.423819666391299\n",
      "[2.01230855] 7.716914660783912\n",
      "[2.01230855] 7.5415046990706145\n",
      "[2.01230855] 6.049329321176241\n",
      "[2.01230855] 2.250382772970725\n",
      "[2.01230855] 9.90798867352064\n",
      "[2.01230855] 2.931300075839756\n",
      "[2.01230855] 7.863806008845423\n",
      "[2.01230855] 9.296410702126392\n",
      "[2.01230855] 8.244454971376689\n",
      "[2.01230855] 6.061848331826649\n",
      "[2.01230855] 5.439450516199926\n",
      "[2.01230855] 5.492269473343678\n",
      "[2.01230855] 7.511558107037333\n",
      "[2.01230855] 6.697565428279466\n",
      "[2.01230855] 10.0\n",
      "[2.01230855] 7.848320992919247\n",
      "[2.01230855] 4.094862968810799\n",
      "[2.01230855] 6.436878506557429\n",
      "[2.01230855] 8.878239101078316\n",
      "[2.01230855] 2.935395652150902\n",
      "[2.01230855] 5.040501150643223\n",
      "[2.01230855] 5.786532833769113\n",
      "[2.01230855] 5.979586664749691\n",
      "[2.01230855] 5.306279822204499\n",
      "[2.01230855] 2.8468897787232805\n",
      "[2.01230855] 6.475822091545631\n",
      "[2.01230855] 5.1286134940852826\n",
      "[2.01230855] 6.479241160255439\n",
      "[2.01230855] 8.26365943775248\n",
      "[2.01230855] 3.926358560050596\n",
      "[2.01230855] 1.851851851851852\n",
      "[2.01230855] 6.217647718864438\n",
      "[2.01230855] 8.615936128999689\n",
      "[2.01230855] 8.445644563357412\n",
      "[2.01230855] 5.501240699731439\n",
      "[2.01230855] 9.331951529417958\n",
      "[2.01230855] 4.960118556994908\n",
      "[2.01230855] 6.661716658956585\n",
      "[2.01230855] 6.16252056098483\n",
      "[2.01230855] 6.606884116655985\n",
      "[2.01230855] 6.178471199021354\n",
      "[2.01230855] 8.648189535699306\n",
      "[2.01230855] 7.293873578105795\n",
      "[2.01230855] 8.58900182293059\n",
      "[2.01230855] 6.919001354136199\n",
      "[2.01230855] 5.782641789750783\n",
      "[2.01230855] 6.745188230708847\n",
      "[2.01230855] 8.729895310763187\n",
      "[2.01230855] 8.7520702745822\n",
      "[2.01230855] 2.956251130925136\n",
      "[2.01230855] 4.901682489457501\n",
      "[2.01230855] 7.702868405019511\n",
      "[2.01230855] 4.940154551128343\n",
      "[2.01230855] 6.937318930605292\n",
      "[2.01230855] 4.611939973759612\n",
      "[2.01230855] 5.370445928558012\n",
      "[2.01230855] 6.365217867485603\n",
      "[2.01230855] 10.0\n",
      "[2.01230855] 6.386895591770129\n",
      "[2.01230855] 5.570361684625506\n",
      "[2.01230855] 6.738211445254173\n",
      "[2.01230855] 5.695169184106348\n",
      "[2.01230855] 8.487494479679516\n",
      "[2.01230855] 7.334634318477685\n",
      "[2.01230855] 4.018484331007162\n",
      "[2.01230855] 6.907635045131309\n",
      "[2.01230855] 4.532711140346562\n",
      "[2.01230855] 6.824645591042441\n",
      "[2.01230855] 2.2785416789526334\n",
      "[2.01230855] 6.884307261274248\n",
      "[2.01230855] 4.6045944810957815\n",
      "[2.01230855] 7.227234989705268\n",
      "[2.01230855] 5.194487096750931\n",
      "[2.01230855] 5.276434979707855\n",
      "[2.01230855] 8.28226890228201\n",
      "[2.01230855] 5.096369072556445\n",
      "[2.01230855] 7.453364710650697\n",
      "[2.01230855] 7.913231463617754\n",
      "[2.01230855] 7.01712659468858\n",
      "[2.01230855] 8.241735056808233\n",
      "[2.01230855] 6.759185265998009\n",
      "[2.01230855] 7.406332267222321\n",
      "[2.01230855] 6.090466185289252\n",
      "[2.01230855] 10.0\n",
      "[2.01230855] 5.357620879306063\n",
      "[2.01230855] 5.660658121913187\n",
      "\n",
      "\n",
      "nn_3 Predictions:\n",
      "  Predictions  |   Test\n",
      "[0.4606403] 9.678152468405315\n",
      "[0.4606403] 7.337679311836268\n",
      "[0.4606403] 4.542551445452206\n",
      "[0.4606403] 4.408466887658554\n",
      "[0.4606403] 6.5918391130432274\n",
      "[0.4606403] 7.126303113365252\n",
      "[0.4606403] 5.824865318066567\n",
      "[0.4606403] 4.318271770712224\n",
      "[0.4606403] 2.6946935959490674\n",
      "[0.4606403] 4.621360632505932\n",
      "[0.4606403] 6.289601307408167\n",
      "[0.4606403] 6.659869395546703\n",
      "[0.4606403] 8.050121380949898\n",
      "[0.4606403] 1.851851851851852\n",
      "[0.4606403] 7.629186838253545\n",
      "[0.4606403] 3.628587783482679\n",
      "[0.4606403] 6.490047212114392\n",
      "[0.4606403] 10.0\n",
      "[0.4606403] 7.926128337307125\n",
      "[0.4606403] 5.3777726427393455\n",
      "[0.4606403] 7.71268659291545\n",
      "[0.4606403] 1.851851851851852\n",
      "[0.4606403] 6.9952581159936535\n",
      "[0.4606403] 8.652310141516276\n",
      "[0.4606403] 8.104721281886103\n",
      "[0.4606403] 5.10361369184111\n",
      "[0.4606403] 8.99645782049267\n",
      "[0.4606403] 6.235928190854355\n",
      "[0.4606403] 5.7733074895165295\n",
      "[0.4606403] 7.697125657561498\n",
      "[0.4606403] 6.698293228713865\n",
      "[0.4606403] 4.8051094649325865\n",
      "[0.4606403] 5.88535735192808\n",
      "[0.4606403] 9.812243420198824\n",
      "[0.4606403] 9.026993870331069\n",
      "[0.4606403] 6.829178919202152\n",
      "[0.4606403] 6.850488817449615\n",
      "[0.4606403] 7.220273352710861\n",
      "[0.4606403] 6.092571619586716\n",
      "[0.4606403] 7.831163231092303\n",
      "[0.4606403] 5.855187227917766\n",
      "[0.4606403] 2.3991097521211104\n",
      "[0.4606403] 7.130027097160447\n",
      "[0.4606403] 7.455975073551501\n",
      "[0.4606403] 3.839433378833896\n",
      "[0.4606403] 4.729313415274334\n",
      "[0.4606403] 6.417834061095757\n",
      "[0.4606403] 7.43195391665195\n",
      "[0.4606403] 10.0\n",
      "[0.4606403] 6.2235686309135225\n",
      "[0.4606403] 3.916905586373556\n",
      "[0.4606403] 7.853345560476516\n",
      "[0.4606403] 6.678783257215971\n",
      "[0.4606403] 7.693881706844417\n",
      "[0.4606403] 4.04830879843461\n",
      "[0.4606403] 7.697675549459332\n",
      "[0.4606403] 8.616421338645985\n",
      "[0.4606403] 9.8205789684851\n",
      "[0.4606403] 5.591443771170499\n",
      "[0.4606403] 4.234447967478822\n",
      "[0.4606403] 9.372264847021324\n",
      "[0.4606403] 6.086691110151598\n",
      "[0.4606403] 7.93090306430204\n",
      "[0.4606403] 6.5715193914351255\n",
      "[0.4606403] 5.857555133446171\n",
      "[0.4606403] 7.140359042192372\n",
      "[0.4606403] 5.773383693190968\n",
      "[0.4606403] 5.545563748913312\n",
      "[0.4606403] 6.527046711226614\n",
      "[0.4606403] 9.61489355830388\n",
      "[0.4606403] 4.670991822114346\n",
      "[0.4606403] 4.905126195718866\n",
      "[0.4606403] 8.539677102214675\n",
      "[0.4606403] 2.445026580927401\n",
      "[0.4606403] 7.428749043357068\n",
      "[0.4606403] 7.427608399204245\n",
      "[0.4606403] 3.353426343703587\n",
      "[0.4606403] 6.703324494202079\n",
      "[0.4606403] 4.422722669549343\n",
      "[0.4606403] 5.401628890207007\n",
      "[0.4606403] 7.0214092102133705\n",
      "[0.4606403] 7.36898683970395\n",
      "[0.4606403] 9.303098624890875\n",
      "[0.4606403] 8.323197616567995\n",
      "[0.4606403] 8.397646156593888\n",
      "[0.4606403] 7.76150814157945\n",
      "[0.4606403] 3.1527410578268995\n",
      "[0.4606403] 6.788871633535091\n",
      "[0.4606403] 7.484849980734305\n",
      "[0.4606403] 6.953883354512839\n",
      "[0.4606403] 7.460020069520389\n",
      "[0.4606403] 6.57922812385583\n",
      "[0.4606403] 8.052887460935686\n",
      "[0.4606403] 8.51106417323274\n",
      "[0.4606403] 7.528361342633898\n",
      "[0.4606403] 8.744514850462306\n",
      "[0.4606403] 9.416814309186956\n",
      "[0.4606403] 7.085841111755837\n",
      "[0.4606403] 4.017129476895292\n",
      "[0.4606403] 6.068285552001813\n",
      "[0.4606403] 7.732426866582186\n",
      "[0.4606403] 9.62294539524904\n",
      "[0.4606403] 9.502242842132748\n",
      "[0.4606403] 4.786597230034527\n",
      "[0.4606403] 4.398700046396327\n",
      "[0.4606403] 6.403931169773522\n",
      "[0.4606403] 8.141309313439354\n",
      "[0.4606403] 7.774666080208885\n",
      "[0.4606403] 9.415062225336204\n",
      "[0.4606403] 3.3508994784176105\n",
      "[0.4606403] 8.424345779469341\n",
      "[0.4606403] 3.667628392571016\n",
      "[0.4606403] 7.268141250929147\n",
      "[0.4606403] 5.864951635896716\n",
      "[0.4606403] 6.455178969148361\n",
      "[0.4606403] 5.562442741915923\n",
      "[0.4606403] 3.539388742041167\n",
      "[0.4606403] 7.0054893866381605\n",
      "[0.4606403] 2.0115855105298164\n",
      "[0.4606403] 4.779656887834538\n",
      "[0.4606403] 4.852054158288751\n",
      "[0.4606403] 7.168212731997052\n",
      "[0.4606403] 2.3870365662974287\n",
      "[0.4606403] 6.228308815533413\n",
      "[0.4606403] 8.565020101562524\n",
      "[0.4606403] 6.121199072735244\n",
      "[0.4606403] 5.0777242331350525\n",
      "[0.4606403] 7.609252729898098\n",
      "[0.4606403] 10.0\n",
      "[0.4606403] 5.926197346668048\n",
      "[0.4606403] 9.917304426558296\n",
      "[0.4606403] 5.008970969459362\n",
      "[0.4606403] 10.0\n",
      "[0.4606403] 7.406735971008565\n",
      "[0.4606403] 5.439953443998031\n",
      "[0.4606403] 5.131396695783959\n",
      "[0.4606403] 7.459258601930566\n",
      "[0.4606403] 7.214956829120206\n",
      "[0.4606403] 1.851851851851852\n",
      "[0.4606403] 4.539161964144308\n",
      "[0.4606403] 2.4202864541269857\n",
      "[0.4606403] 9.738921524383914\n",
      "[0.4606403] 7.600965616311389\n",
      "[0.4606403] 6.5368313209396\n",
      "[0.4606403] 3.68413563566261\n",
      "[0.4606403] 5.916263249940056\n",
      "[0.4606403] 1.8700372326561148\n",
      "[0.4606403] 6.182824282100945\n",
      "[0.4606403] 8.177116116252755\n",
      "[0.4606403] 4.739907278240945\n",
      "[0.4606403] 6.820726411134219\n",
      "[0.4606403] 7.776847800308603\n",
      "[0.4606403] 4.163937694471125\n",
      "[0.4606403] 8.498133030310102\n",
      "[0.4606403] 4.840610413999844\n",
      "[0.4606403] 9.954259037050916\n",
      "[0.4606403] 8.854750065067972\n",
      "[0.4606403] 8.00594305841284\n",
      "[0.4606403] 6.628133277088092\n",
      "[0.4606403] 2.2848432569028327\n",
      "[0.4606403] 7.582033487599176\n",
      "[0.4606403] 7.341067788650251\n",
      "[0.4606403] 6.47086865304802\n",
      "[0.4606403] 9.432421948715271\n",
      "[0.4606403] 5.835714725527012\n",
      "[0.4606403] 10.0\n",
      "[0.4606403] 7.499119217121452\n",
      "[0.4606403] 6.739829052380251\n",
      "[0.4606403] 5.26428307818077\n",
      "[0.4606403] 8.075860159401408\n",
      "[0.4606403] 5.091114712917372\n",
      "[0.4606403] 6.1596829919475375\n",
      "[0.4606403] 9.707809896934556\n",
      "[0.4606403] 9.37378931879819\n",
      "[0.4606403] 8.018011177604297\n",
      "[0.4606403] 7.634665171226384\n",
      "[0.4606403] 7.75915544711984\n",
      "[0.4606403] 4.615577744899654\n",
      "[0.4606403] 9.232990678605082\n",
      "[0.4606403] 3.3863057771118275\n",
      "[0.4606403] 9.952696898560028\n",
      "[0.4606403] 3.417512181472918\n",
      "[0.4606403] 5.771965865654502\n",
      "[0.4606403] 7.151728041441432\n",
      "[0.4606403] 6.878611733124606\n",
      "[0.4606403] 4.948118794025939\n",
      "[0.4606403] 5.083964232766949\n",
      "[0.4606403] 5.421010522207244\n",
      "[0.4606403] 1.851851851851852\n",
      "[0.4606403] 8.578818177388193\n",
      "[0.4606403] 6.65937708058702\n",
      "[0.4606403] 6.61629895471467\n",
      "[0.4606403] 1.851851851851852\n",
      "[0.4606403] 7.423819666391299\n",
      "[0.4606403] 7.716914660783912\n",
      "[0.4606403] 7.5415046990706145\n",
      "[0.4606403] 6.049329321176241\n",
      "[0.4606403] 2.250382772970725\n",
      "[0.4606403] 9.90798867352064\n",
      "[0.4606403] 2.931300075839756\n",
      "[0.4606403] 7.863806008845423\n",
      "[0.4606403] 9.296410702126392\n",
      "[0.4606403] 8.244454971376689\n",
      "[0.4606403] 6.061848331826649\n",
      "[0.4606403] 5.439450516199926\n",
      "[0.4606403] 5.492269473343678\n",
      "[0.4606403] 7.511558107037333\n",
      "[0.4606403] 6.697565428279466\n",
      "[0.4606403] 10.0\n",
      "[0.4606403] 7.848320992919247\n",
      "[0.4606403] 4.094862968810799\n",
      "[0.4606403] 6.436878506557429\n",
      "[0.4606403] 8.878239101078316\n",
      "[0.4606403] 2.935395652150902\n",
      "[0.4606403] 5.040501150643223\n",
      "[0.4606403] 5.786532833769113\n",
      "[0.4606403] 5.979586664749691\n",
      "[0.4606403] 5.306279822204499\n",
      "[0.4606403] 2.8468897787232805\n",
      "[0.4606403] 6.475822091545631\n",
      "[0.4606403] 5.1286134940852826\n",
      "[0.4606403] 6.479241160255439\n",
      "[0.4606403] 8.26365943775248\n",
      "[0.4606403] 3.926358560050596\n",
      "[0.4606403] 1.851851851851852\n",
      "[0.4606403] 6.217647718864438\n",
      "[0.4606403] 8.615936128999689\n",
      "[0.4606403] 8.445644563357412\n",
      "[0.4606403] 5.501240699731439\n",
      "[0.4606403] 9.331951529417958\n",
      "[0.4606403] 4.960118556994908\n",
      "[0.4606403] 6.661716658956585\n",
      "[0.4606403] 6.16252056098483\n",
      "[0.4606403] 6.606884116655985\n",
      "[0.4606403] 6.178471199021354\n",
      "[0.4606403] 8.648189535699306\n",
      "[0.4606403] 7.293873578105795\n",
      "[0.4606403] 8.58900182293059\n",
      "[0.4606403] 6.919001354136199\n",
      "[0.4606403] 5.782641789750783\n",
      "[0.4606403] 6.745188230708847\n",
      "[0.4606403] 8.729895310763187\n",
      "[0.4606403] 8.7520702745822\n",
      "[0.4606403] 2.956251130925136\n",
      "[0.4606403] 4.901682489457501\n",
      "[0.4606403] 7.702868405019511\n",
      "[0.4606403] 4.940154551128343\n",
      "[0.4606403] 6.937318930605292\n",
      "[0.4606403] 4.611939973759612\n",
      "[0.4606403] 5.370445928558012\n",
      "[0.4606403] 6.365217867485603\n",
      "[0.4606403] 10.0\n",
      "[0.4606403] 6.386895591770129\n",
      "[0.4606403] 5.570361684625506\n",
      "[0.4606403] 6.738211445254173\n",
      "[0.4606403] 5.695169184106348\n",
      "[0.4606403] 8.487494479679516\n",
      "[0.4606403] 7.334634318477685\n",
      "[0.4606403] 4.018484331007162\n",
      "[0.4606403] 6.907635045131309\n",
      "[0.4606403] 4.532711140346562\n",
      "[0.4606403] 6.824645591042441\n",
      "[0.4606403] 2.2785416789526334\n",
      "[0.4606403] 6.884307261274248\n",
      "[0.4606403] 4.6045944810957815\n",
      "[0.4606403] 7.227234989705268\n",
      "[0.4606403] 5.194487096750931\n",
      "[0.4606403] 5.276434979707855\n",
      "[0.4606403] 8.28226890228201\n",
      "[0.4606403] 5.096369072556445\n",
      "[0.4606403] 7.453364710650697\n",
      "[0.4606403] 7.913231463617754\n",
      "[0.4606403] 7.01712659468858\n",
      "[0.4606403] 8.241735056808233\n",
      "[0.4606403] 6.759185265998009\n",
      "[0.4606403] 7.406332267222321\n",
      "[0.4606403] 6.090466185289252\n",
      "[0.4606403] 10.0\n",
      "[0.4606403] 5.357620879306063\n",
      "[0.4606403] 5.660658121913187\n",
      "\n",
      "\n",
      "nn_4 Predictions:\n",
      "  Predictions  |   Test\n",
      "[5.96333054] 9.678152468405315\n",
      "[2.99570753] 7.337679311836268\n",
      "[3.1943617] 4.542551445452206\n",
      "[4.62284082] 4.408466887658554\n",
      "[7.39484336] 6.5918391130432274\n",
      "[3.26428669] 7.126303113365252\n",
      "[2.80583231] 5.824865318066567\n",
      "[2.30769852] 4.318271770712224\n",
      "[2.04457637] 2.6946935959490674\n",
      "[2.37354973] 4.621360632505932\n",
      "[6.94671835] 6.289601307408167\n",
      "[10.0003095] 6.659869395546703\n",
      "[8.3836652] 8.050121380949898\n",
      "[2.86760546] 1.851851851851852\n",
      "[7.2901299] 7.629186838253545\n",
      "[4.52735711] 3.628587783482679\n",
      "[6.8479316] 6.490047212114392\n",
      "[7.87302919] 10.0\n",
      "[4.95388383] 7.926128337307125\n",
      "[3.0400253] 5.3777726427393455\n",
      "[2.41842769] 7.71268659291545\n",
      "[3.1625343] 1.851851851851852\n",
      "[6.2926194] 6.9952581159936535\n",
      "[6.42381517] 8.652310141516276\n",
      "[5.53191679] 8.104721281886103\n",
      "[2.14481747] 5.10361369184111\n",
      "[7.63480495] 8.99645782049267\n",
      "[2.80919896] 6.235928190854355\n",
      "[7.60121295] 5.7733074895165295\n",
      "[7.62718058] 7.697125657561498\n",
      "[6.42688817] 6.698293228713865\n",
      "[6.99940175] 4.8051094649325865\n",
      "[7.02377419] 5.88535735192808\n",
      "[7.60857723] 9.812243420198824\n",
      "[4.9377001] 9.026993870331069\n",
      "[5.05301821] 6.829178919202152\n",
      "[8.28729034] 6.850488817449615\n",
      "[2.71532762] 7.220273352710861\n",
      "[2.71559928] 6.092571619586716\n",
      "[8.10866123] 7.831163231092303\n",
      "[3.98296261] 5.855187227917766\n",
      "[2.82655419] 2.3991097521211104\n",
      "[2.62576844] 7.130027097160447\n",
      "[10.94846392] 7.455975073551501\n",
      "[2.5276165] 3.839433378833896\n",
      "[2.23456505] 4.729313415274334\n",
      "[8.63131138] 6.417834061095757\n",
      "[7.31830793] 7.43195391665195\n",
      "[9.59457889] 10.0\n",
      "[3.85569977] 6.2235686309135225\n",
      "[6.82424352] 3.916905586373556\n",
      "[4.21966998] 7.853345560476516\n",
      "[4.00760402] 6.678783257215971\n",
      "[6.73471832] 7.693881706844417\n",
      "[2.58788823] 4.04830879843461\n",
      "[5.22393744] 7.697675549459332\n",
      "[3.03405193] 8.616421338645985\n",
      "[9.14364726] 9.8205789684851\n",
      "[5.65247604] 5.591443771170499\n",
      "[5.52274402] 4.234447967478822\n",
      "[10.62511083] 9.372264847021324\n",
      "[6.20792037] 6.086691110151598\n",
      "[6.28141539] 7.93090306430204\n",
      "[7.50476305] 6.5715193914351255\n",
      "[4.7673914] 5.857555133446171\n",
      "[2.70774872] 7.140359042192372\n",
      "[7.14307443] 5.773383693190968\n",
      "[3.92025948] 5.545563748913312\n",
      "[3.43872915] 6.527046711226614\n",
      "[7.01208275] 9.61489355830388\n",
      "[4.11531304] 4.670991822114346\n",
      "[2.67624222] 4.905126195718866\n",
      "[2.80169065] 8.539677102214675\n",
      "[3.09350432] 2.445026580927401\n",
      "[6.27921729] 7.428749043357068\n",
      "[4.53988347] 7.427608399204245\n",
      "[3.5010942] 3.353426343703587\n",
      "[3.01739873] 6.703324494202079\n",
      "[1.86719394] 4.422722669549343\n",
      "[6.97362308] 5.401628890207007\n",
      "[7.48752469] 7.0214092102133705\n",
      "[7.80253038] 7.36898683970395\n",
      "[9.8628053] 9.303098624890875\n",
      "[4.96691323] 8.323197616567995\n",
      "[10.41837972] 8.397646156593888\n",
      "[7.49133853] 7.76150814157945\n",
      "[3.31479968] 3.1527410578268995\n",
      "[4.01046082] 6.788871633535091\n",
      "[4.31796373] 7.484849980734305\n",
      "[5.56598247] 6.953883354512839\n",
      "[12.42427586] 7.460020069520389\n",
      "[6.02797055] 6.57922812385583\n",
      "[13.04438608] 8.052887460935686\n",
      "[6.94688796] 8.51106417323274\n",
      "[5.89649416] 7.528361342633898\n",
      "[2.76031802] 8.744514850462306\n",
      "[10.00012614] 9.416814309186956\n",
      "[6.2174377] 7.085841111755837\n",
      "[2.33180122] 4.017129476895292\n",
      "[2.1569231] 6.068285552001813\n",
      "[5.52101124] 7.732426866582186\n",
      "[7.33522899] 9.62294539524904\n",
      "[3.21510365] 9.502242842132748\n",
      "[3.1053006] 4.786597230034527\n",
      "[3.94989126] 4.398700046396327\n",
      "[3.62412002] 6.403931169773522\n",
      "[4.03810502] 8.141309313439354\n",
      "[4.79509574] 7.774666080208885\n",
      "[8.92483995] 9.415062225336204\n",
      "[4.81957274] 3.3508994784176105\n",
      "[16.63600825] 8.424345779469341\n",
      "[3.61324085] 3.667628392571016\n",
      "[6.58689239] 7.268141250929147\n",
      "[2.865737] 5.864951635896716\n",
      "[5.59118203] 6.455178969148361\n",
      "[6.99487617] 5.562442741915923\n",
      "[4.51644076] 3.539388742041167\n",
      "[10.13299059] 7.0054893866381605\n",
      "[2.25873756] 2.0115855105298164\n",
      "[2.21093393] 4.779656887834538\n",
      "[7.53349948] 4.852054158288751\n",
      "[3.58049845] 7.168212731997052\n",
      "[3.27948175] 2.3870365662974287\n",
      "[4.78592815] 6.228308815533413\n",
      "[8.15263645] 8.565020101562524\n",
      "[3.38915023] 6.121199072735244\n",
      "[3.18677783] 5.0777242331350525\n",
      "[4.61684014] 7.609252729898098\n",
      "[14.80635427] 10.0\n",
      "[3.78567203] 5.926197346668048\n",
      "[11.97785676] 9.917304426558296\n",
      "[5.23563782] 5.008970969459362\n",
      "[6.32691991] 10.0\n",
      "[4.8871851] 7.406735971008565\n",
      "[3.16015562] 5.439953443998031\n",
      "[3.25716907] 5.131396695783959\n",
      "[9.00594611] 7.459258601930566\n",
      "[5.91659876] 7.214956829120206\n",
      "[1.78551044] 1.851851851851852\n",
      "[1.90658198] 4.539161964144308\n",
      "[4.39690788] 2.4202864541269857\n",
      "[8.7196687] 9.738921524383914\n",
      "[2.56149641] 7.600965616311389\n",
      "[6.35131671] 6.5368313209396\n",
      "[2.58945617] 3.68413563566261\n",
      "[7.90724376] 5.916263249940056\n",
      "[2.065968] 1.8700372326561148\n",
      "[5.66555202] 6.182824282100945\n",
      "[2.59977597] 8.177116116252755\n",
      "[4.44585691] 4.739907278240945\n",
      "[3.46591508] 6.820726411134219\n",
      "[7.88823142] 7.776847800308603\n",
      "[3.39997094] 4.163937694471125\n",
      "[9.53925628] 8.498133030310102\n",
      "[3.03467982] 4.840610413999844\n",
      "[8.39083832] 9.954259037050916\n",
      "[10.04592834] 8.854750065067972\n",
      "[3.24786134] 8.00594305841284\n",
      "[6.79585218] 6.628133277088092\n",
      "[3.6262538] 2.2848432569028327\n",
      "[5.01009923] 7.582033487599176\n",
      "[7.25606436] 7.341067788650251\n",
      "[5.41145162] 6.47086865304802\n",
      "[9.58748352] 9.432421948715271\n",
      "[2.17894237] 5.835714725527012\n",
      "[10.03610565] 10.0\n",
      "[7.99820744] 7.499119217121452\n",
      "[3.111155] 6.739829052380251\n",
      "[7.36850075] 5.26428307818077\n",
      "[9.11135036] 8.075860159401408\n",
      "[8.43798598] 5.091114712917372\n",
      "[2.62298025] 6.1596829919475375\n",
      "[6.20518792] 9.707809896934556\n",
      "[9.99702686] 9.37378931879819\n",
      "[3.29330195] 8.018011177604297\n",
      "[4.2767127] 7.634665171226384\n",
      "[11.72708375] 7.75915544711984\n",
      "[4.5618075] 4.615577744899654\n",
      "[3.73089927] 9.232990678605082\n",
      "[1.66837542] 3.3863057771118275\n",
      "[7.79034097] 9.952696898560028\n",
      "[2.53962095] 3.417512181472918\n",
      "[3.50868752] 5.771965865654502\n",
      "[15.19589826] 7.151728041441432\n",
      "[7.49632833] 6.878611733124606\n",
      "[2.64691539] 4.948118794025939\n",
      "[4.36681191] 5.083964232766949\n",
      "[3.70577684] 5.421010522207244\n",
      "[2.60604552] 1.851851851851852\n",
      "[2.57544445] 8.578818177388193\n",
      "[8.46715425] 6.65937708058702\n",
      "[5.22147897] 6.61629895471467\n",
      "[3.94753626] 1.851851851851852\n",
      "[4.97574565] 7.423819666391299\n",
      "[7.73817375] 7.716914660783912\n",
      "[7.36279709] 7.5415046990706145\n",
      "[5.2594964] 6.049329321176241\n",
      "[3.38289227] 2.250382772970725\n",
      "[4.85510748] 9.90798867352064\n",
      "[4.19628212] 2.931300075839756\n",
      "[5.93371733] 7.863806008845423\n",
      "[7.33989194] 9.296410702126392\n",
      "[5.13234405] 8.244454971376689\n",
      "[9.45239552] 6.061848331826649\n",
      "[3.48405603] 5.439450516199926\n",
      "[3.11442923] 5.492269473343678\n",
      "[9.37402295] 7.511558107037333\n",
      "[4.16430462] 6.697565428279466\n",
      "[17.15580818] 10.0\n",
      "[2.84343987] 7.848320992919247\n",
      "[2.49484969] 4.094862968810799\n",
      "[3.86393928] 6.436878506557429\n",
      "[9.98970899] 8.878239101078316\n",
      "[2.13888519] 2.935395652150902\n",
      "[2.74125273] 5.040501150643223\n",
      "[5.59437213] 5.786532833769113\n",
      "[3.18255366] 5.979586664749691\n",
      "[2.695315] 5.306279822204499\n",
      "[4.08501525] 2.8468897787232805\n",
      "[4.61205019] 6.475822091545631\n",
      "[3.21942479] 5.1286134940852826\n",
      "[2.08249762] 6.479241160255439\n",
      "[7.46108693] 8.26365943775248\n",
      "[2.36160729] 3.926358560050596\n",
      "[4.42302961] 1.851851851851852\n",
      "[4.73402488] 6.217647718864438\n",
      "[5.23953567] 8.615936128999689\n",
      "[7.45377804] 8.445644563357412\n",
      "[3.01656995] 5.501240699731439\n",
      "[9.54387417] 9.331951529417958\n",
      "[3.96945941] 4.960118556994908\n",
      "[3.48003404] 6.661716658956585\n",
      "[4.96659587] 6.16252056098483\n",
      "[7.56870315] 6.606884116655985\n",
      "[2.75917343] 6.178471199021354\n",
      "[13.67382865] 8.648189535699306\n",
      "[6.61400674] 7.293873578105795\n",
      "[3.08005691] 8.58900182293059\n",
      "[12.94480756] 6.919001354136199\n",
      "[6.33280488] 5.782641789750783\n",
      "[6.10579419] 6.745188230708847\n",
      "[2.92652845] 8.729895310763187\n",
      "[9.5873618] 8.7520702745822\n",
      "[3.48406429] 2.956251130925136\n",
      "[2.27317876] 4.901682489457501\n",
      "[10.87038319] 7.702868405019511\n",
      "[2.7629046] 4.940154551128343\n",
      "[10.82569428] 6.937318930605292\n",
      "[6.37750907] 4.611939973759612\n",
      "[4.33816833] 5.370445928558012\n",
      "[2.7124857] 6.365217867485603\n",
      "[13.47553783] 10.0\n",
      "[6.06266175] 6.386895591770129\n",
      "[4.45558294] 5.570361684625506\n",
      "[5.29241842] 6.738211445254173\n",
      "[3.87447972] 5.695169184106348\n",
      "[5.59214823] 8.487494479679516\n",
      "[2.45567185] 7.334634318477685\n",
      "[1.76969459] 4.018484331007162\n",
      "[2.73361409] 6.907635045131309\n",
      "[4.26802766] 4.532711140346562\n",
      "[9.3278466] 6.824645591042441\n",
      "[2.61042833] 2.2785416789526334\n",
      "[4.79848652] 6.884307261274248\n",
      "[3.03524989] 4.6045944810957815\n",
      "[7.14291622] 7.227234989705268\n",
      "[3.66527853] 5.194487096750931\n",
      "[4.08122934] 5.276434979707855\n",
      "[8.08945962] 8.28226890228201\n",
      "[4.16018934] 5.096369072556445\n",
      "[2.6371517] 7.453364710650697\n",
      "[2.80238624] 7.913231463617754\n",
      "[4.55344566] 7.01712659468858\n",
      "[6.60446996] 8.241735056808233\n",
      "[12.46574221] 6.759185265998009\n",
      "[6.24311975] 7.406332267222321\n",
      "[4.07992832] 6.090466185289252\n",
      "[10.59443051] 10.0\n",
      "[3.78877643] 5.357620879306063\n",
      "[8.10253427] 5.660658121913187\n",
      "\n",
      "\n"
     ]
    }
   ],
   "source": [
    "for i in range(1, 5):\n",
    "    nn = eval(f'nn_{i}')\n",
    "    predictions = nn.predict(X_test)\n",
    "    print(f'nn_{i} Predictions:')\n",
    "    print(\"  Predictions  |   Test\")\n",
    "    for i in range(len(predictions)):\n",
    "        print(predictions[i], y_test[i])\n",
    "    print('\\n')\n",
    "predictions = nn_1.predict(X_test)"
   ]
  },
  {
   "cell_type": "markdown",
   "metadata": {},
   "source": [
    "### c)\n",
    "Implementar descenso por gradiente con mini-baches, y graficar la evolución del error de entrenamiento en función de las épocas, para distintos tamaños de baches. Deberáas elegir a tu criterio el tamaño de los mini-batches."
   ]
  },
  {
   "cell_type": "code",
   "execution_count": 12,
   "metadata": {},
   "outputs": [
    {
     "name": "stderr",
     "output_type": "stream",
     "text": [
      "100%|██████████| 200/200 [00:10<00:00, 18.60it/s]\n",
      "100%|██████████| 200/200 [00:14<00:00, 14.20it/s]\n",
      "100%|██████████| 200/200 [00:17<00:00, 11.27it/s]\n",
      "100%|██████████| 200/200 [00:10<00:00, 19.64it/s]\n"
     ]
    }
   ],
   "source": [
    "nn_c1 = MLP(input_size=X_train.shape[1], layers=[X_train.shape[1], 25, 1], verbose=False)\n",
    "# Fit the MLP model to the training data\n",
    "train_losses_c1, test_losses_c1 = nn_c1.fit(training_data=list(zip(X_train.values, y_train)), \n",
    "                                    test_data=list(zip(X_test.values, y_test)), \n",
    "                                    max_epochs=200, \n",
    "                                    mini_batch_size=10, \n",
    "                                    alpha=1e-7,\n",
    "                                    update_rule='mini_batch')\n",
    "\n",
    "nn_c2 = MLP(input_size=X_train.shape[1], layers=[X_train.shape[1], 5, 5, 1], verbose=False)\n",
    "# Fit the MLP model to the training data\n",
    "train_losses_c2, test_losses_c2 = nn_c2.fit(training_data=list(zip(X_train.values, y_train)), \n",
    "                                    test_data=list(zip(X_test.values, y_test)), \n",
    "                                    max_epochs=200, \n",
    "                                    mini_batch_size=10, \n",
    "                                    alpha=1e-7,\n",
    "                                    update_rule='mini_batch')\n",
    "\n",
    "nn_c3 = MLP(input_size=X_train.shape[1], layers=[X_train.shape[1], 5, 7, 5, 1],verbose=False)\n",
    "# Fit the MLP model to the training data\n",
    "train_losses_c3, test_losses_c3 = nn_c3.fit(training_data=list(zip(X_train.values, y_train)), \n",
    "                                    test_data=list(zip(X_test.values, y_test)), \n",
    "                                    max_epochs=200, \n",
    "                                    mini_batch_size=10, \n",
    "                                    alpha=1e-7,\n",
    "                                    update_rule='mini_batch')\n",
    "\n",
    "nn_c4 = MLP(input_size=X_train.shape[1], layers=[X_train.shape[1], 1, 1], verbose=False)\n",
    "# Fit the MLP model to the training data\n",
    "train_losses_c4, test_losses_c4 = nn_c4.fit(training_data=list(zip(X_train.values, y_train)), \n",
    "                                    test_data=list(zip(X_test.values, y_test)), \n",
    "                                    max_epochs=200, \n",
    "                                    mini_batch_size=10, \n",
    "                                    alpha=1e-7,\n",
    "                                    update_rule='mini_batch')"
   ]
  },
  {
   "cell_type": "code",
   "execution_count": 13,
   "metadata": {},
   "outputs": [
    {
     "data": {
      "image/png": "[encoded data removed]",
      "text/plain": [
       "<Figure size 1152x864 with 4 Axes>"
      ]
     },
     "metadata": {
      "needs_background": "light"
     },
     "output_type": "display_data"
    }
   ],
   "source": [
    "fig, axs = plt.subplots(2, 2, figsize=(16, 12))\n",
    "axs[0, 0].plot(range(1, len(train_losses_c1) + 1), train_losses_c1, label='Train Loss')\n",
    "axs[0, 0].plot(range(1, len(test_losses_c1) + 1), test_losses_c1, label='Test Loss')\n",
    "axs[0, 0].set_yscale('log')\n",
    "axs[0, 0].set_xlabel('Epochs')\n",
    "axs[0, 0].set_ylabel('Loss')\n",
    "axs[0, 0].set_title('Train and Test Loss - 1 hidden layer (25 neurons)')\n",
    "axs[0, 0].legend()\n",
    "\n",
    "axs[0, 1].plot(range(1, len(train_losses_c2) + 1), train_losses_c2, label='Train Loss')\n",
    "axs[0, 1].plot(range(1, len(test_losses_c2) + 1), test_losses_c2, label='Test Loss')\n",
    "axs[0, 1].set_yscale('log')\n",
    "axs[0, 1].set_xlabel('Epochs')\n",
    "axs[0, 1].set_ylabel('Loss')\n",
    "axs[0, 1].set_title('Train and Test Loss - 2 hidden layers (5, 5 neurons)')\n",
    "axs[0, 1].legend()\n",
    "\n",
    "axs[1, 0].plot(range(1, len(train_losses_c3) + 1), train_losses_c3, label='Train Loss')\n",
    "axs[1, 0].plot(range(1, len(test_losses_c3) + 1), test_losses_c3, label='Test Loss')\n",
    "axs[1, 0].set_yscale('log')\n",
    "axs[1, 0].set_xlabel('Epochs')\n",
    "axs[1, 0].set_ylabel('Loss')\n",
    "axs[1, 0].set_title('Train and Test Loss - 3 hidden layers (5, 7, 5 neurons)')\n",
    "axs[1, 0].legend()\n",
    "\n",
    "axs[1, 1].plot(range(1, len(train_losses_c4) + 1), train_losses_c4, label='Train Loss')\n",
    "axs[1, 1].plot(range(1, len(test_losses_c4) + 1), test_losses_c4, label='Test Loss')\n",
    "axs[1, 1].set_yscale('log')\n",
    "axs[1, 1].set_xlabel('Epochs')\n",
    "axs[1, 1].set_ylabel('Loss')\n",
    "axs[1, 1].set_title('Train and Test Loss - 1 hidden layer (1 neuron)')\n",
    "axs[1, 1].legend()\n",
    "\n",
    "plt.show()"
   ]
  },
  {
   "cell_type": "markdown",
   "metadata": {},
   "source": [
    "### d)\n",
    "Utilizando el set de desarrollo y la metodología de cross-validation, seleccionar los hiperparámetros de la red. Para esto puede usar el algoritmo de gradiente descendiente que usted desee (normalmente, uno querrá usar el optimizador que mejor resultado le haya dado, en cuanto a performance del modelo entrenado y el tiempo de convergencia).\n",
    "\n",
    "**Sugerencia:** si bien uno puede hacer una búsqueda exhaustiva sobre el espacio de hiperparámetros $L$ y $M^{(l)}$, esto puede resultar computacionalmente demasiado costoso, debido a que para cada combinación y cada fold, se de debe re-entrenar el modelo y evaluarlo. Piense si hay alguna manera de recorrer el espacio de búsqueda con menor costo computacional. Además, recuerde que dados dos modelos de performance similar, se privilegia elegir el de menor complejidad (menor cantidad de parámetros), porque tenderá a tener menor varianza en el error predictivo sobre data sets “nuevos” (es decir, que no hayan sido usados para el deasrrollo del modelo).\n"
   ]
  },
  {
   "cell_type": "markdown",
   "metadata": {},
   "source": [
    "Va a tardar aprox 4hs en correr así como está"
   ]
  },
  {
   "cell_type": "code",
   "execution_count": 21,
   "metadata": {},
   "outputs": [
    {
     "name": "stdout",
     "output_type": "stream",
     "text": [
      "108\n",
      "\n",
      "Combination: ([7, 5, 1], 1e-05, 6)\n"
     ]
    },
    {
     "name": "stderr",
     "output_type": "stream",
     "text": [
      "100%|██████████| 200/200 [00:10<00:00, 18.23it/s]\n",
      "100%|██████████| 200/200 [00:10<00:00, 18.71it/s]\n",
      "100%|██████████| 200/200 [00:10<00:00, 18.81it/s]\n",
      "100%|██████████| 200/200 [00:10<00:00, 18.46it/s]\n",
      "100%|██████████| 200/200 [00:10<00:00, 18.43it/s]\n"
     ]
    },
    {
     "name": "stdout",
     "output_type": "stream",
     "text": [
      "\n",
      "Avg Train Loss: 15.552705367639486, Avg Test Loss: 3.920484147474722\n",
      "\n",
      "Combination: ([7, 5, 1], 1e-05, 20)\n"
     ]
    },
    {
     "name": "stderr",
     "output_type": "stream",
     "text": [
      "100%|██████████| 200/200 [00:10<00:00, 19.37it/s]\n",
      "100%|██████████| 200/200 [00:10<00:00, 19.18it/s]\n",
      "100%|██████████| 200/200 [00:10<00:00, 19.32it/s]\n",
      "100%|██████████| 200/200 [00:10<00:00, 19.30it/s]\n",
      "100%|██████████| 200/200 [00:10<00:00, 19.32it/s]\n"
     ]
    },
    {
     "name": "stdout",
     "output_type": "stream",
     "text": [
      "\n",
      "Avg Train Loss: 89.72422279280553, Avg Test Loss: 4.642760768524019\n",
      "\n",
      "Combination: ([7, 5, 1], 1e-05, 40)\n"
     ]
    },
    {
     "name": "stderr",
     "output_type": "stream",
     "text": [
      "100%|██████████| 200/200 [00:10<00:00, 19.38it/s]\n",
      "100%|██████████| 200/200 [00:10<00:00, 19.54it/s]\n",
      "100%|██████████| 200/200 [00:10<00:00, 19.33it/s]\n",
      "100%|██████████| 200/200 [00:10<00:00, 19.64it/s]\n",
      "100%|██████████| 200/200 [00:10<00:00, 19.41it/s]\n"
     ]
    },
    {
     "name": "stdout",
     "output_type": "stream",
     "text": [
      "\n",
      "Avg Train Loss: 181.04542828311097, Avg Test Loss: 5.0406955533107105\n",
      "\n",
      "Combination: ([7, 5, 1], 1e-06, 6)\n"
     ]
    },
    {
     "name": "stderr",
     "output_type": "stream",
     "text": [
      "100%|██████████| 200/200 [00:10<00:00, 18.58it/s]\n",
      "100%|██████████| 200/200 [00:10<00:00, 18.68it/s]\n",
      "100%|██████████| 200/200 [00:10<00:00, 18.67it/s]\n",
      "100%|██████████| 200/200 [00:10<00:00, 18.60it/s]\n",
      "100%|██████████| 200/200 [00:10<00:00, 18.56it/s]\n"
     ]
    },
    {
     "name": "stdout",
     "output_type": "stream",
     "text": [
      "\n",
      "Avg Train Loss: 25.07772807156375, Avg Test Loss: 5.29326177625195\n",
      "\n",
      "Combination: ([7, 5, 1], 1e-06, 20)\n"
     ]
    },
    {
     "name": "stderr",
     "output_type": "stream",
     "text": [
      "100%|██████████| 200/200 [00:10<00:00, 19.15it/s]\n",
      "100%|██████████| 200/200 [00:10<00:00, 19.18it/s]\n",
      "100%|██████████| 200/200 [00:10<00:00, 19.26it/s]\n",
      "100%|██████████| 200/200 [00:10<00:00, 19.43it/s]\n",
      "100%|██████████| 200/200 [00:10<00:00, 19.19it/s]\n"
     ]
    },
    {
     "name": "stdout",
     "output_type": "stream",
     "text": [
      "\n",
      "Avg Train Loss: 583.4223967801114, Avg Test Loss: 35.41905959710778\n",
      "\n",
      "Combination: ([7, 5, 1], 1e-06, 40)\n"
     ]
    },
    {
     "name": "stderr",
     "output_type": "stream",
     "text": [
      "100%|██████████| 200/200 [00:10<00:00, 19.40it/s]\n",
      "100%|██████████| 200/200 [00:10<00:00, 19.55it/s]\n",
      "100%|██████████| 200/200 [00:10<00:00, 19.29it/s]\n",
      "100%|██████████| 200/200 [00:10<00:00, 19.60it/s]\n",
      "100%|██████████| 200/200 [00:10<00:00, 19.60it/s]\n"
     ]
    },
    {
     "name": "stdout",
     "output_type": "stream",
     "text": [
      "\n",
      "Avg Train Loss: 1819.594283083452, Avg Test Loss: 44.296879643563805\n",
      "\n",
      "Combination: ([7, 5, 1], 1e-09, 6)\n"
     ]
    },
    {
     "name": "stderr",
     "output_type": "stream",
     "text": [
      "100%|██████████| 200/200 [00:10<00:00, 18.45it/s]\n",
      "100%|██████████| 200/200 [00:10<00:00, 18.82it/s]\n",
      "100%|██████████| 200/200 [00:10<00:00, 18.73it/s]\n",
      "100%|██████████| 200/200 [00:11<00:00, 18.08it/s]\n",
      "100%|██████████| 200/200 [00:10<00:00, 18.68it/s]\n"
     ]
    },
    {
     "name": "stdout",
     "output_type": "stream",
     "text": [
      "\n",
      "Avg Train Loss: 300.41848732415383, Avg Test Loss: 46.57118127605746\n",
      "\n",
      "Combination: ([7, 5, 1], 1e-09, 20)\n"
     ]
    },
    {
     "name": "stderr",
     "output_type": "stream",
     "text": [
      "100%|██████████| 200/200 [00:10<00:00, 19.42it/s]\n",
      "100%|██████████| 200/200 [00:10<00:00, 19.05it/s]\n",
      "100%|██████████| 200/200 [00:10<00:00, 19.18it/s]\n",
      "100%|██████████| 200/200 [00:10<00:00, 19.06it/s]\n",
      "100%|██████████| 200/200 [00:10<00:00, 19.28it/s]\n"
     ]
    },
    {
     "name": "stdout",
     "output_type": "stream",
     "text": [
      "\n",
      "Avg Train Loss: 1324.979295011487, Avg Test Loss: 46.57344152347742\n",
      "\n",
      "Combination: ([7, 5, 1], 1e-09, 40)\n"
     ]
    },
    {
     "name": "stderr",
     "output_type": "stream",
     "text": [
      "100%|██████████| 200/200 [00:10<00:00, 19.44it/s]\n",
      "100%|██████████| 200/200 [00:10<00:00, 19.66it/s]\n",
      "100%|██████████| 200/200 [00:10<00:00, 19.46it/s]\n",
      "100%|██████████| 200/200 [00:10<00:00, 19.37it/s]\n",
      "100%|██████████| 200/200 [00:10<00:00, 19.60it/s]\n"
     ]
    },
    {
     "name": "stdout",
     "output_type": "stream",
     "text": [
      "\n",
      "Avg Train Loss: 2912.5313926631507, Avg Test Loss: 46.57384182632306\n",
      "\n",
      "Combination: ([7, 25, 1], 1e-05, 6)\n"
     ]
    },
    {
     "name": "stderr",
     "output_type": "stream",
     "text": [
      "100%|██████████| 200/200 [00:11<00:00, 18.14it/s]\n",
      "100%|██████████| 200/200 [00:10<00:00, 18.33it/s]\n",
      "100%|██████████| 200/200 [00:11<00:00, 18.08it/s]\n",
      "100%|██████████| 200/200 [00:11<00:00, 17.31it/s]\n",
      "100%|██████████| 200/200 [00:12<00:00, 16.44it/s]\n"
     ]
    },
    {
     "name": "stdout",
     "output_type": "stream",
     "text": [
      "\n",
      "Avg Train Loss: 3.4753943142698462, Avg Test Loss: 2.133970290607894\n",
      "\n",
      "Combination: ([7, 25, 1], 1e-05, 20)\n"
     ]
    },
    {
     "name": "stderr",
     "output_type": "stream",
     "text": [
      "100%|██████████| 200/200 [00:12<00:00, 16.23it/s]\n",
      "100%|██████████| 200/200 [00:10<00:00, 18.23it/s]\n",
      "100%|██████████| 200/200 [00:10<00:00, 18.77it/s]\n",
      "100%|██████████| 200/200 [00:10<00:00, 18.36it/s]\n",
      "100%|██████████| 200/200 [00:10<00:00, 18.87it/s]\n"
     ]
    },
    {
     "name": "stdout",
     "output_type": "stream",
     "text": [
      "\n",
      "Avg Train Loss: 69.34438151024227, Avg Test Loss: 3.927443699238703\n",
      "\n",
      "Combination: ([7, 25, 1], 1e-05, 40)\n"
     ]
    },
    {
     "name": "stderr",
     "output_type": "stream",
     "text": [
      "100%|██████████| 200/200 [00:10<00:00, 18.81it/s]\n",
      "100%|██████████| 200/200 [00:10<00:00, 19.12it/s]\n",
      "100%|██████████| 200/200 [00:10<00:00, 19.09it/s]\n",
      "100%|██████████| 200/200 [00:10<00:00, 19.14it/s]\n",
      "100%|██████████| 200/200 [00:10<00:00, 19.10it/s]\n"
     ]
    },
    {
     "name": "stdout",
     "output_type": "stream",
     "text": [
      "\n",
      "Avg Train Loss: 328.0263646089845, Avg Test Loss: 8.05634951559447\n",
      "\n",
      "Combination: ([7, 25, 1], 1e-06, 6)\n"
     ]
    },
    {
     "name": "stderr",
     "output_type": "stream",
     "text": [
      "100%|██████████| 200/200 [00:10<00:00, 18.22it/s]\n",
      "100%|██████████| 200/200 [00:11<00:00, 18.14it/s]\n",
      "100%|██████████| 200/200 [00:11<00:00, 18.18it/s]\n",
      "100%|██████████| 200/200 [00:10<00:00, 18.20it/s]\n",
      "100%|██████████| 200/200 [00:11<00:00, 18.16it/s]\n"
     ]
    },
    {
     "name": "stdout",
     "output_type": "stream",
     "text": [
      "\n",
      "Avg Train Loss: 68.1759207077593, Avg Test Loss: 13.393977375442114\n",
      "\n",
      "Combination: ([7, 25, 1], 1e-06, 20)\n"
     ]
    },
    {
     "name": "stderr",
     "output_type": "stream",
     "text": [
      "100%|██████████| 200/200 [00:10<00:00, 18.82it/s]\n",
      "100%|██████████| 200/200 [00:10<00:00, 18.92it/s]\n",
      "100%|██████████| 200/200 [00:10<00:00, 18.95it/s]\n",
      "100%|██████████| 200/200 [00:10<00:00, 18.89it/s]\n",
      "100%|██████████| 200/200 [00:10<00:00, 18.95it/s]\n"
     ]
    },
    {
     "name": "stdout",
     "output_type": "stream",
     "text": [
      "\n",
      "Avg Train Loss: 475.0365793690552, Avg Test Loss: 26.021328451879725\n",
      "\n",
      "Combination: ([7, 25, 1], 1e-06, 40)\n"
     ]
    },
    {
     "name": "stderr",
     "output_type": "stream",
     "text": [
      "100%|██████████| 200/200 [00:10<00:00, 19.02it/s]\n",
      "100%|██████████| 200/200 [00:10<00:00, 19.16it/s]\n",
      "100%|██████████| 200/200 [00:10<00:00, 19.03it/s]\n",
      "100%|██████████| 200/200 [00:10<00:00, 19.16it/s]\n",
      "100%|██████████| 200/200 [00:10<00:00, 19.12it/s]\n"
     ]
    },
    {
     "name": "stdout",
     "output_type": "stream",
     "text": [
      "\n",
      "Avg Train Loss: 1263.0460093451584, Avg Test Loss: 31.918021656261146\n",
      "\n",
      "Combination: ([7, 25, 1], 1e-09, 6)\n"
     ]
    },
    {
     "name": "stderr",
     "output_type": "stream",
     "text": [
      "100%|██████████| 200/200 [00:10<00:00, 18.23it/s]\n",
      "100%|██████████| 200/200 [00:10<00:00, 18.24it/s]\n",
      "100%|██████████| 200/200 [00:11<00:00, 18.01it/s]\n",
      "100%|██████████| 200/200 [00:11<00:00, 18.11it/s]\n",
      "100%|██████████| 200/200 [00:11<00:00, 18.05it/s]\n"
     ]
    },
    {
     "name": "stdout",
     "output_type": "stream",
     "text": [
      "\n",
      "Avg Train Loss: 303.8080927945474, Avg Test Loss: 89.85254045164103\n",
      "\n",
      "Combination: ([7, 25, 1], 1e-09, 20)\n"
     ]
    },
    {
     "name": "stderr",
     "output_type": "stream",
     "text": [
      "100%|██████████| 200/200 [00:10<00:00, 18.92it/s]\n",
      "100%|██████████| 200/200 [00:10<00:00, 18.75it/s]\n",
      "100%|██████████| 200/200 [00:10<00:00, 18.96it/s]\n",
      "100%|██████████| 200/200 [00:10<00:00, 18.77it/s]\n",
      "100%|██████████| 200/200 [00:10<00:00, 18.91it/s]\n"
     ]
    },
    {
     "name": "stdout",
     "output_type": "stream",
     "text": [
      "\n",
      "Avg Train Loss: 39574.98877830188, Avg Test Loss: 2210.0543384212233\n",
      "\n",
      "Combination: ([7, 25, 1], 1e-09, 40)\n"
     ]
    },
    {
     "name": "stderr",
     "output_type": "stream",
     "text": [
      "100%|██████████| 200/200 [00:10<00:00, 19.14it/s]\n",
      "100%|██████████| 200/200 [00:10<00:00, 18.96it/s]\n",
      "100%|██████████| 200/200 [00:10<00:00, 19.04it/s]\n",
      "100%|██████████| 200/200 [00:10<00:00, 19.06it/s]\n",
      "100%|██████████| 200/200 [00:10<00:00, 18.79it/s]\n"
     ]
    },
    {
     "name": "stdout",
     "output_type": "stream",
     "text": [
      "\n",
      "Avg Train Loss: 392147.070246298, Avg Test Loss: 9209.95245756728\n",
      "\n",
      "Combination: ([7, 50, 1], 1e-05, 6)\n"
     ]
    },
    {
     "name": "stderr",
     "output_type": "stream",
     "text": [
      "100%|██████████| 200/200 [00:11<00:00, 18.02it/s]\n",
      "100%|██████████| 200/200 [00:11<00:00, 17.82it/s]\n",
      "100%|██████████| 200/200 [00:11<00:00, 18.08it/s]\n",
      "100%|██████████| 200/200 [00:11<00:00, 18.00it/s]\n",
      "100%|██████████| 200/200 [00:11<00:00, 17.82it/s]\n"
     ]
    },
    {
     "name": "stdout",
     "output_type": "stream",
     "text": [
      "\n",
      "Avg Train Loss: 12.236644357962284, Avg Test Loss: 3.4693115232551976\n",
      "\n",
      "Combination: ([7, 50, 1], 1e-05, 20)\n"
     ]
    },
    {
     "name": "stderr",
     "output_type": "stream",
     "text": [
      "100%|██████████| 200/200 [00:10<00:00, 18.67it/s]\n",
      "100%|██████████| 200/200 [00:10<00:00, 18.59it/s]\n",
      "100%|██████████| 200/200 [00:10<00:00, 18.71it/s]\n",
      "100%|██████████| 200/200 [00:10<00:00, 18.67it/s]\n",
      "100%|██████████| 200/200 [00:10<00:00, 18.63it/s]\n"
     ]
    },
    {
     "name": "stdout",
     "output_type": "stream",
     "text": [
      "\n",
      "Avg Train Loss: 54.89598040398427, Avg Test Loss: 3.4262134281560797\n",
      "\n",
      "Combination: ([7, 50, 1], 1e-05, 40)\n"
     ]
    },
    {
     "name": "stderr",
     "output_type": "stream",
     "text": [
      "100%|██████████| 200/200 [00:10<00:00, 18.85it/s]\n",
      "100%|██████████| 200/200 [00:10<00:00, 18.78it/s]\n",
      "100%|██████████| 200/200 [00:10<00:00, 18.97it/s]\n",
      "100%|██████████| 200/200 [00:10<00:00, 18.92it/s]\n",
      "100%|██████████| 200/200 [00:10<00:00, 18.58it/s]\n"
     ]
    },
    {
     "name": "stdout",
     "output_type": "stream",
     "text": [
      "\n",
      "Avg Train Loss: 191.5071762249102, Avg Test Loss: 4.063517385142096\n",
      "\n",
      "Combination: ([7, 50, 1], 1e-06, 6)\n"
     ]
    },
    {
     "name": "stderr",
     "output_type": "stream",
     "text": [
      "100%|██████████| 200/200 [00:11<00:00, 18.01it/s]\n",
      "100%|██████████| 200/200 [00:11<00:00, 17.91it/s]\n",
      "100%|██████████| 200/200 [00:11<00:00, 18.03it/s]\n",
      "100%|██████████| 200/200 [00:11<00:00, 18.08it/s]\n",
      "100%|██████████| 200/200 [00:11<00:00, 17.87it/s]\n"
     ]
    },
    {
     "name": "stdout",
     "output_type": "stream",
     "text": [
      "\n",
      "Avg Train Loss: 12.614739744445526, Avg Test Loss: 4.664674869145036\n",
      "\n",
      "Combination: ([7, 50, 1], 1e-06, 20)\n"
     ]
    },
    {
     "name": "stderr",
     "output_type": "stream",
     "text": [
      "100%|██████████| 200/200 [00:10<00:00, 18.74it/s]\n",
      "100%|██████████| 200/200 [00:10<00:00, 18.64it/s]\n",
      "100%|██████████| 200/200 [00:10<00:00, 18.59it/s]\n",
      "100%|██████████| 200/200 [00:10<00:00, 18.75it/s]\n",
      "100%|██████████| 200/200 [00:10<00:00, 18.57it/s]\n"
     ]
    },
    {
     "name": "stdout",
     "output_type": "stream",
     "text": [
      "\n",
      "Avg Train Loss: 274.7442148886448, Avg Test Loss: 12.033451020932855\n",
      "\n",
      "Combination: ([7, 50, 1], 1e-06, 40)\n"
     ]
    },
    {
     "name": "stderr",
     "output_type": "stream",
     "text": [
      "100%|██████████| 200/200 [00:10<00:00, 18.89it/s]\n",
      "100%|██████████| 200/200 [00:10<00:00, 18.87it/s]\n",
      "100%|██████████| 200/200 [00:10<00:00, 18.67it/s]\n",
      "100%|██████████| 200/200 [00:10<00:00, 18.82it/s]\n",
      "100%|██████████| 200/200 [00:10<00:00, 18.90it/s]\n"
     ]
    },
    {
     "name": "stdout",
     "output_type": "stream",
     "text": [
      "\n",
      "Avg Train Loss: 835.2574855866011, Avg Test Loss: 19.345536151826956\n",
      "\n",
      "Combination: ([7, 50, 1], 1e-09, 6)\n"
     ]
    },
    {
     "name": "stderr",
     "output_type": "stream",
     "text": [
      "100%|██████████| 200/200 [00:11<00:00, 17.97it/s]\n",
      "100%|██████████| 200/200 [00:11<00:00, 17.65it/s]\n",
      "100%|██████████| 200/200 [00:11<00:00, 17.78it/s]\n",
      "100%|██████████| 200/200 [00:11<00:00, 18.14it/s]\n",
      "100%|██████████| 200/200 [00:11<00:00, 17.94it/s]\n"
     ]
    },
    {
     "name": "stdout",
     "output_type": "stream",
     "text": [
      "\n",
      "Avg Train Loss: 3784.754248118069, Avg Test Loss: 1001.6348466047426\n",
      "\n",
      "Combination: ([7, 50, 1], 1e-09, 20)\n"
     ]
    },
    {
     "name": "stderr",
     "output_type": "stream",
     "text": [
      "100%|██████████| 200/200 [00:10<00:00, 18.55it/s]\n",
      "100%|██████████| 200/200 [00:10<00:00, 18.71it/s]\n",
      "100%|██████████| 200/200 [00:10<00:00, 18.33it/s]\n",
      "100%|██████████| 200/200 [00:10<00:00, 18.80it/s]\n",
      "100%|██████████| 200/200 [00:10<00:00, 18.67it/s]\n"
     ]
    },
    {
     "name": "stdout",
     "output_type": "stream",
     "text": [
      "\n",
      "Avg Train Loss: 64083.94236868499, Avg Test Loss: 525.2224314309726\n",
      "\n",
      "Combination: ([7, 50, 1], 1e-09, 40)\n"
     ]
    },
    {
     "name": "stderr",
     "output_type": "stream",
     "text": [
      "100%|██████████| 200/200 [00:10<00:00, 18.25it/s]\n",
      "100%|██████████| 200/200 [00:10<00:00, 18.68it/s]\n",
      "100%|██████████| 200/200 [00:10<00:00, 18.63it/s]\n",
      "100%|██████████| 200/200 [00:10<00:00, 18.47it/s]\n",
      "100%|██████████| 200/200 [00:10<00:00, 18.59it/s]\n"
     ]
    },
    {
     "name": "stdout",
     "output_type": "stream",
     "text": [
      "\n",
      "Avg Train Loss: 902261.7253225613, Avg Test Loss: 140.37873268618486\n",
      "\n",
      "Combination: ([7, 100, 1], 1e-05, 6)\n"
     ]
    },
    {
     "name": "stderr",
     "output_type": "stream",
     "text": [
      "100%|██████████| 200/200 [00:11<00:00, 16.95it/s]\n",
      "100%|██████████| 200/200 [00:11<00:00, 17.43it/s]\n",
      "100%|██████████| 200/200 [00:11<00:00, 17.44it/s]\n",
      "100%|██████████| 200/200 [00:11<00:00, 17.38it/s]\n",
      "100%|██████████| 200/200 [00:11<00:00, 17.59it/s]\n"
     ]
    },
    {
     "name": "stdout",
     "output_type": "stream",
     "text": [
      "\n",
      "Avg Train Loss: 12.829816201738485, Avg Test Loss: 3.2872065536375965\n",
      "\n",
      "Combination: ([7, 100, 1], 1e-05, 20)\n"
     ]
    },
    {
     "name": "stderr",
     "output_type": "stream",
     "text": [
      "100%|██████████| 200/200 [00:10<00:00, 18.30it/s]\n",
      "100%|██████████| 200/200 [00:11<00:00, 18.18it/s]\n",
      "100%|██████████| 200/200 [00:11<00:00, 18.11it/s]\n",
      "100%|██████████| 200/200 [00:11<00:00, 18.15it/s]\n",
      "100%|██████████| 200/200 [00:11<00:00, 18.04it/s]\n"
     ]
    },
    {
     "name": "stdout",
     "output_type": "stream",
     "text": [
      "\n",
      "Avg Train Loss: 83.74801697692132, Avg Test Loss: 4.942902128061016\n",
      "\n",
      "Combination: ([7, 100, 1], 1e-05, 40)\n"
     ]
    },
    {
     "name": "stderr",
     "output_type": "stream",
     "text": [
      "100%|██████████| 200/200 [00:10<00:00, 18.41it/s]\n",
      "100%|██████████| 200/200 [00:10<00:00, 18.51it/s]\n",
      "100%|██████████| 200/200 [00:10<00:00, 18.35it/s]\n",
      "100%|██████████| 200/200 [00:10<00:00, 18.38it/s]\n",
      "100%|██████████| 200/200 [00:10<00:00, 18.35it/s]\n"
     ]
    },
    {
     "name": "stdout",
     "output_type": "stream",
     "text": [
      "\n",
      "Avg Train Loss: 310.77905331515416, Avg Test Loss: 8.756957929928975\n",
      "\n",
      "Combination: ([7, 100, 1], 1e-06, 6)\n"
     ]
    },
    {
     "name": "stderr",
     "output_type": "stream",
     "text": [
      "100%|██████████| 200/200 [00:11<00:00, 17.36it/s]\n",
      "100%|██████████| 200/200 [00:11<00:00, 17.57it/s]\n",
      "100%|██████████| 200/200 [00:11<00:00, 17.52it/s]\n",
      "100%|██████████| 200/200 [00:11<00:00, 17.47it/s]\n",
      "100%|██████████| 200/200 [00:11<00:00, 17.43it/s]\n"
     ]
    },
    {
     "name": "stdout",
     "output_type": "stream",
     "text": [
      "\n",
      "Avg Train Loss: 14.347130977950698, Avg Test Loss: 12.40804022576164\n",
      "\n",
      "Combination: ([7, 100, 1], 1e-06, 20)\n"
     ]
    },
    {
     "name": "stderr",
     "output_type": "stream",
     "text": [
      "100%|██████████| 200/200 [00:10<00:00, 18.24it/s]\n",
      "100%|██████████| 200/200 [00:10<00:00, 18.25it/s]\n",
      "100%|██████████| 200/200 [00:11<00:00, 17.67it/s]\n",
      "100%|██████████| 200/200 [00:10<00:00, 18.27it/s]\n",
      "100%|██████████| 200/200 [00:11<00:00, 17.97it/s]\n"
     ]
    },
    {
     "name": "stdout",
     "output_type": "stream",
     "text": [
      "\n",
      "Avg Train Loss: 657.7492022841832, Avg Test Loss: 25.271979138139663\n",
      "\n",
      "Combination: ([7, 100, 1], 1e-06, 40)\n"
     ]
    },
    {
     "name": "stderr",
     "output_type": "stream",
     "text": [
      "100%|██████████| 200/200 [00:10<00:00, 18.34it/s]\n",
      "100%|██████████| 200/200 [00:11<00:00, 17.53it/s]\n",
      "100%|██████████| 200/200 [00:10<00:00, 18.21it/s]\n",
      "100%|██████████| 200/200 [00:11<00:00, 17.15it/s]\n",
      "100%|██████████| 200/200 [00:11<00:00, 16.88it/s]\n"
     ]
    },
    {
     "name": "stdout",
     "output_type": "stream",
     "text": [
      "\n",
      "Avg Train Loss: 1818.1223444588304, Avg Test Loss: 36.171940889827724\n",
      "\n",
      "Combination: ([7, 100, 1], 1e-09, 6)\n"
     ]
    },
    {
     "name": "stderr",
     "output_type": "stream",
     "text": [
      "100%|██████████| 200/200 [00:11<00:00, 16.80it/s]\n",
      "100%|██████████| 200/200 [00:11<00:00, 17.15it/s]\n",
      "100%|██████████| 200/200 [00:11<00:00, 17.46it/s]\n",
      "100%|██████████| 200/200 [00:11<00:00, 17.13it/s]\n",
      "100%|██████████| 200/200 [00:11<00:00, 17.55it/s]\n"
     ]
    },
    {
     "name": "stdout",
     "output_type": "stream",
     "text": [
      "\n",
      "Avg Train Loss: 1860.8978418238999, Avg Test Loss: 891.4490955610623\n",
      "\n",
      "Combination: ([7, 100, 1], 1e-09, 20)\n"
     ]
    },
    {
     "name": "stderr",
     "output_type": "stream",
     "text": [
      "100%|██████████| 200/200 [00:11<00:00, 18.05it/s]\n",
      "100%|██████████| 200/200 [00:10<00:00, 18.23it/s]\n",
      "100%|██████████| 200/200 [00:11<00:00, 18.17it/s]\n",
      "100%|██████████| 200/200 [00:10<00:00, 18.30it/s]\n",
      "100%|██████████| 200/200 [00:10<00:00, 18.19it/s]\n"
     ]
    },
    {
     "name": "stdout",
     "output_type": "stream",
     "text": [
      "\n",
      "Avg Train Loss: 26385.631155890733, Avg Test Loss: 1229.4284207525302\n",
      "\n",
      "Combination: ([7, 100, 1], 1e-09, 40)\n"
     ]
    },
    {
     "name": "stderr",
     "output_type": "stream",
     "text": [
      "100%|██████████| 200/200 [00:10<00:00, 18.39it/s]\n",
      "100%|██████████| 200/200 [00:10<00:00, 18.44it/s]\n",
      "100%|██████████| 200/200 [00:10<00:00, 18.42it/s]\n",
      "100%|██████████| 200/200 [00:10<00:00, 18.47it/s]\n",
      "100%|██████████| 200/200 [00:10<00:00, 18.44it/s]\n"
     ]
    },
    {
     "name": "stdout",
     "output_type": "stream",
     "text": [
      "\n",
      "Avg Train Loss: 122374.23456696293, Avg Test Loss: 3167.1295919077515\n",
      "\n",
      "Combination: ([7, 2, 2, 1], 1e-05, 6)\n"
     ]
    },
    {
     "name": "stderr",
     "output_type": "stream",
     "text": [
      "100%|██████████| 200/200 [00:14<00:00, 13.80it/s]\n",
      "100%|██████████| 200/200 [00:14<00:00, 13.61it/s]\n",
      "100%|██████████| 200/200 [00:14<00:00, 13.78it/s]\n",
      "100%|██████████| 200/200 [00:14<00:00, 13.92it/s]\n",
      "100%|██████████| 200/200 [00:14<00:00, 13.83it/s]\n"
     ]
    },
    {
     "name": "stdout",
     "output_type": "stream",
     "text": [
      "\n",
      "Avg Train Loss: 17.31605384212962, Avg Test Loss: 5.098690611164036\n",
      "\n",
      "Combination: ([7, 2, 2, 1], 1e-05, 20)\n"
     ]
    },
    {
     "name": "stderr",
     "output_type": "stream",
     "text": [
      "100%|██████████| 200/200 [00:14<00:00, 14.27it/s]\n",
      "100%|██████████| 200/200 [00:13<00:00, 14.37it/s]\n",
      "100%|██████████| 200/200 [00:13<00:00, 14.36it/s]\n",
      "100%|██████████| 200/200 [00:13<00:00, 14.33it/s]\n",
      "100%|██████████| 200/200 [00:13<00:00, 14.30it/s]\n"
     ]
    },
    {
     "name": "stdout",
     "output_type": "stream",
     "text": [
      "\n",
      "Avg Train Loss: 555.2416222256034, Avg Test Loss: 35.68149892926864\n",
      "\n",
      "Combination: ([7, 2, 2, 1], 1e-05, 40)\n"
     ]
    },
    {
     "name": "stderr",
     "output_type": "stream",
     "text": [
      "100%|██████████| 200/200 [00:13<00:00, 14.43it/s]\n",
      "100%|██████████| 200/200 [00:13<00:00, 14.49it/s]\n",
      "100%|██████████| 200/200 [00:13<00:00, 14.48it/s]\n",
      "100%|██████████| 200/200 [00:13<00:00, 14.47it/s]\n",
      "100%|██████████| 200/200 [00:14<00:00, 13.41it/s]\n"
     ]
    },
    {
     "name": "stdout",
     "output_type": "stream",
     "text": [
      "\n",
      "Avg Train Loss: 1840.695227318367, Avg Test Loss: 45.89604984619909\n",
      "\n",
      "Combination: ([7, 2, 2, 1], 1e-06, 6)\n"
     ]
    },
    {
     "name": "stderr",
     "output_type": "stream",
     "text": [
      "100%|██████████| 200/200 [00:15<00:00, 13.16it/s]\n",
      "100%|██████████| 200/200 [00:14<00:00, 13.85it/s]\n",
      "100%|██████████| 200/200 [00:14<00:00, 13.70it/s]\n",
      "100%|██████████| 200/200 [00:14<00:00, 13.81it/s]\n",
      "100%|██████████| 200/200 [00:14<00:00, 13.79it/s]\n"
     ]
    },
    {
     "name": "stdout",
     "output_type": "stream",
     "text": [
      "\n",
      "Avg Train Loss: 184.22657828554534, Avg Test Loss: 46.502627070259464\n",
      "\n",
      "Combination: ([7, 2, 2, 1], 1e-06, 20)\n"
     ]
    },
    {
     "name": "stderr",
     "output_type": "stream",
     "text": [
      "100%|██████████| 200/200 [00:13<00:00, 14.29it/s]\n",
      "100%|██████████| 200/200 [00:13<00:00, 14.37it/s]\n",
      "100%|██████████| 200/200 [00:13<00:00, 14.30it/s]\n",
      "100%|██████████| 200/200 [00:13<00:00, 14.30it/s]\n",
      "100%|██████████| 200/200 [00:13<00:00, 14.46it/s]\n"
     ]
    },
    {
     "name": "stdout",
     "output_type": "stream",
     "text": [
      "\n",
      "Avg Train Loss: 1109.128882583378, Avg Test Loss: 46.58063369115145\n",
      "\n",
      "Combination: ([7, 2, 2, 1], 1e-06, 40)\n"
     ]
    },
    {
     "name": "stderr",
     "output_type": "stream",
     "text": [
      "100%|██████████| 200/200 [00:13<00:00, 14.36it/s]\n",
      "100%|██████████| 200/200 [00:13<00:00, 14.46it/s]\n",
      "100%|██████████| 200/200 [00:13<00:00, 14.49it/s]\n",
      "100%|██████████| 200/200 [00:13<00:00, 14.48it/s]\n",
      "100%|██████████| 200/200 [00:13<00:00, 14.46it/s]\n"
     ]
    },
    {
     "name": "stdout",
     "output_type": "stream",
     "text": [
      "\n",
      "Avg Train Loss: 2718.920395773101, Avg Test Loss: 46.58063369115145\n",
      "\n",
      "Combination: ([7, 2, 2, 1], 1e-09, 6)\n"
     ]
    },
    {
     "name": "stderr",
     "output_type": "stream",
     "text": [
      "100%|██████████| 200/200 [00:14<00:00, 13.82it/s]\n",
      "100%|██████████| 200/200 [00:14<00:00, 13.76it/s]\n",
      "100%|██████████| 200/200 [00:14<00:00, 13.82it/s]\n",
      "100%|██████████| 200/200 [00:14<00:00, 13.75it/s]\n",
      "100%|██████████| 200/200 [00:14<00:00, 13.83it/s]\n"
     ]
    },
    {
     "name": "stdout",
     "output_type": "stream",
     "text": [
      "\n",
      "Avg Train Loss: 261.11088964723376, Avg Test Loss: 46.58063369115145\n",
      "\n",
      "Combination: ([7, 2, 2, 1], 1e-09, 20)\n"
     ]
    },
    {
     "name": "stderr",
     "output_type": "stream",
     "text": [
      "100%|██████████| 200/200 [00:14<00:00, 14.18it/s]\n",
      "100%|██████████| 200/200 [00:14<00:00, 14.27it/s]\n",
      "100%|██████████| 200/200 [00:13<00:00, 14.43it/s]\n",
      "100%|██████████| 200/200 [00:14<00:00, 14.24it/s]\n",
      "100%|██████████| 200/200 [00:13<00:00, 14.37it/s]\n"
     ]
    },
    {
     "name": "stdout",
     "output_type": "stream",
     "text": [
      "\n",
      "Avg Train Loss: 4559.689935598678, Avg Test Loss: 46.58063369115145\n",
      "\n",
      "Combination: ([7, 2, 2, 1], 1e-09, 40)\n"
     ]
    },
    {
     "name": "stderr",
     "output_type": "stream",
     "text": [
      "100%|██████████| 200/200 [00:14<00:00, 14.22it/s]\n",
      "100%|██████████| 200/200 [00:13<00:00, 14.56it/s]\n",
      "100%|██████████| 200/200 [00:13<00:00, 14.49it/s]\n",
      "100%|██████████| 200/200 [00:13<00:00, 14.38it/s]\n",
      "100%|██████████| 200/200 [00:13<00:00, 14.49it/s]\n"
     ]
    },
    {
     "name": "stdout",
     "output_type": "stream",
     "text": [
      "\n",
      "Avg Train Loss: 9945.083870127204, Avg Test Loss: 46.58063369115145\n",
      "\n",
      "Combination: ([7, 12, 12, 1], 1e-05, 6)\n"
     ]
    },
    {
     "name": "stderr",
     "output_type": "stream",
     "text": [
      "100%|██████████| 200/200 [00:14<00:00, 13.42it/s]\n",
      "100%|██████████| 200/200 [00:14<00:00, 13.40it/s]\n",
      "100%|██████████| 200/200 [00:14<00:00, 13.37it/s]\n",
      "100%|██████████| 200/200 [00:14<00:00, 13.38it/s]\n",
      "100%|██████████| 200/200 [00:14<00:00, 13.51it/s]\n"
     ]
    },
    {
     "name": "stdout",
     "output_type": "stream",
     "text": [
      "\n",
      "Avg Train Loss: 67.47891207729046, Avg Test Loss: 22.186192873040802\n",
      "\n",
      "Combination: ([7, 12, 12, 1], 1e-05, 20)\n"
     ]
    },
    {
     "name": "stderr",
     "output_type": "stream",
     "text": [
      "100%|██████████| 200/200 [00:14<00:00, 13.87it/s]\n",
      "100%|██████████| 200/200 [00:14<00:00, 13.80it/s]\n",
      "100%|██████████| 200/200 [00:14<00:00, 13.98it/s]\n",
      "100%|██████████| 200/200 [00:14<00:00, 13.88it/s]\n",
      "100%|██████████| 200/200 [00:14<00:00, 14.01it/s]\n"
     ]
    },
    {
     "name": "stdout",
     "output_type": "stream",
     "text": [
      "\n",
      "Avg Train Loss: 570.8627140136701, Avg Test Loss: 35.79379220865715\n",
      "\n",
      "Combination: ([7, 12, 12, 1], 1e-05, 40)\n"
     ]
    },
    {
     "name": "stderr",
     "output_type": "stream",
     "text": [
      "100%|██████████| 200/200 [00:14<00:00, 13.99it/s]\n",
      "100%|██████████| 200/200 [00:14<00:00, 13.92it/s]\n",
      "100%|██████████| 200/200 [00:14<00:00, 13.98it/s]\n",
      "100%|██████████| 200/200 [00:14<00:00, 14.00it/s]\n",
      "100%|██████████| 200/200 [00:14<00:00, 14.05it/s]\n"
     ]
    },
    {
     "name": "stdout",
     "output_type": "stream",
     "text": [
      "\n",
      "Avg Train Loss: 1950.6298961733046, Avg Test Loss: 46.58063369115145\n",
      "\n",
      "Combination: ([7, 12, 12, 1], 1e-06, 6)\n"
     ]
    },
    {
     "name": "stderr",
     "output_type": "stream",
     "text": [
      "100%|██████████| 200/200 [00:14<00:00, 13.44it/s]\n",
      "100%|██████████| 200/200 [00:14<00:00, 13.39it/s]\n",
      "100%|██████████| 200/200 [00:14<00:00, 13.53it/s]\n",
      "100%|██████████| 200/200 [00:14<00:00, 13.35it/s]\n",
      "100%|██████████| 200/200 [00:14<00:00, 13.40it/s]\n"
     ]
    },
    {
     "name": "stdout",
     "output_type": "stream",
     "text": [
      "\n",
      "Avg Train Loss: 11.404917907307912, Avg Test Loss: 2.504835234485193\n",
      "\n",
      "Combination: ([7, 12, 12, 1], 1e-06, 20)\n"
     ]
    },
    {
     "name": "stderr",
     "output_type": "stream",
     "text": [
      "100%|██████████| 200/200 [00:14<00:00, 13.99it/s]\n",
      "100%|██████████| 200/200 [00:14<00:00, 13.85it/s]\n",
      "100%|██████████| 200/200 [00:14<00:00, 13.95it/s]\n",
      "100%|██████████| 200/200 [00:14<00:00, 13.79it/s]\n",
      "100%|██████████| 200/200 [00:14<00:00, 14.02it/s]\n"
     ]
    },
    {
     "name": "stdout",
     "output_type": "stream",
     "text": [
      "\n",
      "Avg Train Loss: 281.8165808666614, Avg Test Loss: 11.869823131236014\n",
      "\n",
      "Combination: ([7, 12, 12, 1], 1e-06, 40)\n"
     ]
    },
    {
     "name": "stderr",
     "output_type": "stream",
     "text": [
      "100%|██████████| 200/200 [00:14<00:00, 14.05it/s]\n",
      "100%|██████████| 200/200 [00:14<00:00, 13.95it/s]\n",
      "100%|██████████| 200/200 [00:14<00:00, 14.04it/s]\n",
      "100%|██████████| 200/200 [00:14<00:00, 14.04it/s]\n",
      "100%|██████████| 200/200 [00:14<00:00, 14.09it/s]\n"
     ]
    },
    {
     "name": "stdout",
     "output_type": "stream",
     "text": [
      "\n",
      "Avg Train Loss: 754.3301984135387, Avg Test Loss: 23.429995353956524\n",
      "\n",
      "Combination: ([7, 12, 12, 1], 1e-09, 6)\n"
     ]
    },
    {
     "name": "stderr",
     "output_type": "stream",
     "text": [
      "100%|██████████| 200/200 [00:14<00:00, 13.49it/s]\n",
      "100%|██████████| 200/200 [00:14<00:00, 13.35it/s]\n",
      "100%|██████████| 200/200 [00:14<00:00, 13.50it/s]\n",
      "100%|██████████| 200/200 [00:15<00:00, 13.30it/s]\n",
      "100%|██████████| 200/200 [00:14<00:00, 13.42it/s]\n"
     ]
    },
    {
     "name": "stdout",
     "output_type": "stream",
     "text": [
      "\n",
      "Avg Train Loss: 1766.7584034394881, Avg Test Loss: 362.9749422561978\n",
      "\n",
      "Combination: ([7, 12, 12, 1], 1e-09, 20)\n"
     ]
    },
    {
     "name": "stderr",
     "output_type": "stream",
     "text": [
      "100%|██████████| 200/200 [00:14<00:00, 13.87it/s]\n",
      "100%|██████████| 200/200 [00:14<00:00, 13.95it/s]\n",
      "100%|██████████| 200/200 [00:14<00:00, 13.93it/s]\n",
      "100%|██████████| 200/200 [00:14<00:00, 13.80it/s]\n",
      "100%|██████████| 200/200 [00:14<00:00, 13.98it/s]\n"
     ]
    },
    {
     "name": "stdout",
     "output_type": "stream",
     "text": [
      "\n",
      "Avg Train Loss: 17626.456912578746, Avg Test Loss: 428.0050677130921\n",
      "\n",
      "Combination: ([7, 12, 12, 1], 1e-09, 40)\n"
     ]
    },
    {
     "name": "stderr",
     "output_type": "stream",
     "text": [
      "100%|██████████| 200/200 [00:14<00:00, 14.01it/s]\n",
      "100%|██████████| 200/200 [00:14<00:00, 14.07it/s]\n",
      "100%|██████████| 200/200 [00:14<00:00, 14.07it/s]\n",
      "100%|██████████| 200/200 [00:14<00:00, 14.10it/s]\n",
      "100%|██████████| 200/200 [00:14<00:00, 13.91it/s]\n"
     ]
    },
    {
     "name": "stdout",
     "output_type": "stream",
     "text": [
      "\n",
      "Avg Train Loss: 36455.60477663429, Avg Test Loss: 322.0814786926961\n",
      "\n",
      "Combination: ([7, 25, 25, 1], 1e-05, 6)\n"
     ]
    },
    {
     "name": "stderr",
     "output_type": "stream",
     "text": [
      "100%|██████████| 200/200 [00:15<00:00, 13.04it/s]\n",
      "100%|██████████| 200/200 [00:15<00:00, 12.87it/s]\n",
      "100%|██████████| 200/200 [00:15<00:00, 13.05it/s]\n",
      "100%|██████████| 200/200 [00:15<00:00, 12.88it/s]\n",
      "100%|██████████| 200/200 [00:15<00:00, 13.04it/s]\n"
     ]
    },
    {
     "name": "stdout",
     "output_type": "stream",
     "text": [
      "\n",
      "Avg Train Loss: 15.207351771992952, Avg Test Loss: 3.669817275052631\n",
      "\n",
      "Combination: ([7, 25, 25, 1], 1e-05, 20)\n"
     ]
    },
    {
     "name": "stderr",
     "output_type": "stream",
     "text": [
      "100%|██████████| 200/200 [00:14<00:00, 13.49it/s]\n",
      "100%|██████████| 200/200 [00:14<00:00, 13.49it/s]\n",
      "100%|██████████| 200/200 [00:14<00:00, 13.52it/s]\n",
      "100%|██████████| 200/200 [00:14<00:00, 13.38it/s]\n",
      "100%|██████████| 200/200 [00:14<00:00, 13.52it/s]\n"
     ]
    },
    {
     "name": "stdout",
     "output_type": "stream",
     "text": [
      "\n",
      "Avg Train Loss: 86.08439840915977, Avg Test Loss: 4.078760236013079\n",
      "\n",
      "Combination: ([7, 25, 25, 1], 1e-05, 40)\n"
     ]
    },
    {
     "name": "stderr",
     "output_type": "stream",
     "text": [
      "100%|██████████| 200/200 [00:14<00:00, 13.52it/s]\n",
      "100%|██████████| 200/200 [00:14<00:00, 13.56it/s]\n",
      "100%|██████████| 200/200 [00:14<00:00, 13.60it/s]\n",
      "100%|██████████| 200/200 [00:14<00:00, 13.68it/s]\n",
      "100%|██████████| 200/200 [00:14<00:00, 13.58it/s]\n"
     ]
    },
    {
     "name": "stdout",
     "output_type": "stream",
     "text": [
      "\n",
      "Avg Train Loss: 203.40306888026424, Avg Test Loss: 4.83794012891588\n",
      "\n",
      "Combination: ([7, 25, 25, 1], 1e-06, 6)\n"
     ]
    },
    {
     "name": "stderr",
     "output_type": "stream",
     "text": [
      "100%|██████████| 200/200 [00:15<00:00, 13.03it/s]\n",
      "100%|██████████| 200/200 [00:15<00:00, 12.95it/s]\n",
      "100%|██████████| 200/200 [00:15<00:00, 13.06it/s]\n",
      "100%|██████████| 200/200 [00:15<00:00, 12.87it/s]\n",
      "100%|██████████| 200/200 [00:15<00:00, 13.03it/s]\n"
     ]
    },
    {
     "name": "stdout",
     "output_type": "stream",
     "text": [
      "\n",
      "Avg Train Loss: 6.12754161553287, Avg Test Loss: 3.8933354943618923\n",
      "\n",
      "Combination: ([7, 25, 25, 1], 1e-06, 20)\n"
     ]
    },
    {
     "name": "stderr",
     "output_type": "stream",
     "text": [
      "100%|██████████| 200/200 [00:14<00:00, 13.53it/s]\n",
      "100%|██████████| 200/200 [00:14<00:00, 13.43it/s]\n",
      "100%|██████████| 200/200 [00:14<00:00, 13.51it/s]\n",
      "100%|██████████| 200/200 [00:14<00:00, 13.49it/s]\n",
      "100%|██████████| 200/200 [00:14<00:00, 13.54it/s]\n"
     ]
    },
    {
     "name": "stdout",
     "output_type": "stream",
     "text": [
      "\n",
      "Avg Train Loss: 80.97129957313959, Avg Test Loss: 6.20677365072447\n",
      "\n",
      "Combination: ([7, 25, 25, 1], 1e-06, 40)\n"
     ]
    },
    {
     "name": "stderr",
     "output_type": "stream",
     "text": [
      "100%|██████████| 200/200 [00:14<00:00, 13.59it/s]\n",
      "100%|██████████| 200/200 [00:14<00:00, 13.56it/s]\n",
      "100%|██████████| 200/200 [00:14<00:00, 13.57it/s]\n",
      "100%|██████████| 200/200 [00:14<00:00, 13.71it/s]\n",
      "100%|██████████| 200/200 [00:14<00:00, 13.58it/s]\n"
     ]
    },
    {
     "name": "stdout",
     "output_type": "stream",
     "text": [
      "\n",
      "Avg Train Loss: 483.2794839747318, Avg Test Loss: 9.109965859138267\n",
      "\n",
      "Combination: ([7, 25, 25, 1], 1e-09, 6)\n"
     ]
    },
    {
     "name": "stderr",
     "output_type": "stream",
     "text": [
      "100%|██████████| 200/200 [00:15<00:00, 12.99it/s]\n",
      "100%|██████████| 200/200 [00:15<00:00, 12.84it/s]\n",
      "100%|██████████| 200/200 [00:15<00:00, 13.03it/s]\n",
      "100%|██████████| 200/200 [00:15<00:00, 13.04it/s]\n",
      "100%|██████████| 200/200 [00:15<00:00, 12.99it/s]\n"
     ]
    },
    {
     "name": "stdout",
     "output_type": "stream",
     "text": [
      "\n",
      "Avg Train Loss: 3093.4316863109075, Avg Test Loss: 229.3901859143266\n",
      "\n",
      "Combination: ([7, 25, 25, 1], 1e-09, 20)\n"
     ]
    },
    {
     "name": "stderr",
     "output_type": "stream",
     "text": [
      "100%|██████████| 200/200 [00:14<00:00, 13.52it/s]\n",
      "100%|██████████| 200/200 [00:14<00:00, 13.48it/s]\n",
      "100%|██████████| 200/200 [00:14<00:00, 13.53it/s]\n",
      "100%|██████████| 200/200 [00:14<00:00, 13.48it/s]\n",
      "100%|██████████| 200/200 [00:14<00:00, 13.36it/s]\n"
     ]
    },
    {
     "name": "stdout",
     "output_type": "stream",
     "text": [
      "\n",
      "Avg Train Loss: 67961.19493821454, Avg Test Loss: 526.4268845112953\n",
      "\n",
      "Combination: ([7, 25, 25, 1], 1e-09, 40)\n"
     ]
    },
    {
     "name": "stderr",
     "output_type": "stream",
     "text": [
      "100%|██████████| 200/200 [00:14<00:00, 13.72it/s]\n",
      "100%|██████████| 200/200 [00:14<00:00, 13.50it/s]\n",
      "100%|██████████| 200/200 [00:14<00:00, 13.68it/s]\n",
      "100%|██████████| 200/200 [00:14<00:00, 13.56it/s]\n",
      "100%|██████████| 200/200 [00:14<00:00, 13.63it/s]\n"
     ]
    },
    {
     "name": "stdout",
     "output_type": "stream",
     "text": [
      "\n",
      "Avg Train Loss: 142146.0202336017, Avg Test Loss: 680.2113934516519\n",
      "\n",
      "Combination: ([7, 50, 50, 1], 1e-05, 6)\n"
     ]
    },
    {
     "name": "stderr",
     "output_type": "stream",
     "text": [
      "100%|██████████| 200/200 [00:16<00:00, 12.23it/s]\n",
      "100%|██████████| 200/200 [00:16<00:00, 12.18it/s]\n",
      "100%|██████████| 200/200 [00:16<00:00, 12.23it/s]\n",
      "100%|██████████| 200/200 [00:16<00:00, 12.18it/s]\n",
      "100%|██████████| 200/200 [00:16<00:00, 12.13it/s]\n"
     ]
    },
    {
     "name": "stdout",
     "output_type": "stream",
     "text": [
      "\n",
      "Avg Train Loss: 8.245396745522436e+58, Avg Test Loss: 2.0613079596030158e+58\n",
      "\n",
      "Combination: ([7, 50, 50, 1], 1e-05, 20)\n"
     ]
    },
    {
     "name": "stderr",
     "output_type": "stream",
     "text": [
      "  0%|          | 0/200 [00:00<?, ?it/s]/Users/maxi/Downloads/Actuales/ML/ML-TP2/Problema 3/functions3.py:163: RuntimeWarning: invalid value encountered in multiply\n",
      "  d[l-1] = np.dot(self.weights[l].T, d[l]) * h_deriv(a[l-1])\n",
      "/Users/maxi/Downloads/Actuales/ML/ML-TP2/Problema 3/functions3.py:101: RuntimeWarning: overflow encountered in square\n",
      "  return np.mean((a_out - y) ** 2)\n",
      "100%|██████████| 200/200 [00:15<00:00, 12.63it/s]\n",
      "100%|██████████| 200/200 [00:15<00:00, 12.53it/s]\n",
      "100%|██████████| 200/200 [00:15<00:00, 12.67it/s]\n",
      "100%|██████████| 200/200 [00:16<00:00, 12.43it/s]\n",
      "100%|██████████| 200/200 [00:15<00:00, 12.63it/s]\n"
     ]
    },
    {
     "name": "stdout",
     "output_type": "stream",
     "text": [
      "\n",
      "Avg Train Loss: nan, Avg Test Loss: nan\n",
      "\n",
      "Combination: ([7, 50, 50, 1], 1e-05, 40)\n"
     ]
    },
    {
     "name": "stderr",
     "output_type": "stream",
     "text": [
      "100%|██████████| 200/200 [00:15<00:00, 12.72it/s]\n",
      "100%|██████████| 200/200 [00:15<00:00, 12.70it/s]\n",
      "100%|██████████| 200/200 [00:15<00:00, 12.77it/s]\n",
      "100%|██████████| 200/200 [00:15<00:00, 12.65it/s]\n",
      "100%|██████████| 200/200 [00:15<00:00, 12.73it/s]\n"
     ]
    },
    {
     "name": "stdout",
     "output_type": "stream",
     "text": [
      "\n",
      "Avg Train Loss: nan, Avg Test Loss: nan\n",
      "\n",
      "Combination: ([7, 50, 50, 1], 1e-06, 6)\n"
     ]
    },
    {
     "name": "stderr",
     "output_type": "stream",
     "text": [
      "100%|██████████| 200/200 [00:16<00:00, 12.21it/s]\n",
      "100%|██████████| 200/200 [00:16<00:00, 12.05it/s]\n",
      "100%|██████████| 200/200 [00:16<00:00, 12.21it/s]\n",
      "100%|██████████| 200/200 [00:16<00:00, 12.19it/s]\n",
      "100%|██████████| 200/200 [00:16<00:00, 12.14it/s]\n"
     ]
    },
    {
     "name": "stdout",
     "output_type": "stream",
     "text": [
      "\n",
      "Avg Train Loss: 16.760214810585346, Avg Test Loss: 9.179744467418377\n",
      "\n",
      "Combination: ([7, 50, 50, 1], 1e-06, 20)\n"
     ]
    },
    {
     "name": "stderr",
     "output_type": "stream",
     "text": [
      "100%|██████████| 200/200 [00:15<00:00, 12.66it/s]\n",
      "100%|██████████| 200/200 [00:15<00:00, 12.52it/s]\n",
      "100%|██████████| 200/200 [00:16<00:00, 12.45it/s]\n",
      "100%|██████████| 200/200 [00:15<00:00, 12.52it/s]\n",
      "100%|██████████| 200/200 [00:15<00:00, 12.61it/s]\n"
     ]
    },
    {
     "name": "stdout",
     "output_type": "stream",
     "text": [
      "\n",
      "Avg Train Loss: 218.72930403032078, Avg Test Loss: 15.952817682424822\n",
      "\n",
      "Combination: ([7, 50, 50, 1], 1e-06, 40)\n"
     ]
    },
    {
     "name": "stderr",
     "output_type": "stream",
     "text": [
      "100%|██████████| 200/200 [00:15<00:00, 12.77it/s]\n",
      "100%|██████████| 200/200 [00:15<00:00, 12.74it/s]\n",
      "100%|██████████| 200/200 [00:15<00:00, 12.84it/s]\n",
      "100%|██████████| 200/200 [00:15<00:00, 12.70it/s]\n",
      "100%|██████████| 200/200 [00:15<00:00, 12.83it/s]\n"
     ]
    },
    {
     "name": "stdout",
     "output_type": "stream",
     "text": [
      "\n",
      "Avg Train Loss: 807.8224800864946, Avg Test Loss: 21.91229606394649\n",
      "\n",
      "Combination: ([7, 50, 50, 1], 1e-09, 6)\n"
     ]
    },
    {
     "name": "stderr",
     "output_type": "stream",
     "text": [
      "100%|██████████| 200/200 [00:16<00:00, 12.12it/s]\n",
      "100%|██████████| 200/200 [00:16<00:00, 12.22it/s]\n",
      "100%|██████████| 200/200 [00:16<00:00, 12.13it/s]\n",
      "100%|██████████| 200/200 [00:16<00:00, 12.22it/s]\n",
      "100%|██████████| 200/200 [00:16<00:00, 12.21it/s]\n"
     ]
    },
    {
     "name": "stdout",
     "output_type": "stream",
     "text": [
      "\n",
      "Avg Train Loss: 2158.4420797193357, Avg Test Loss: 287.0620833249709\n",
      "\n",
      "Combination: ([7, 50, 50, 1], 1e-09, 20)\n"
     ]
    },
    {
     "name": "stderr",
     "output_type": "stream",
     "text": [
      "100%|██████████| 200/200 [00:15<00:00, 12.58it/s]\n",
      "100%|██████████| 200/200 [00:15<00:00, 12.73it/s]\n",
      "100%|██████████| 200/200 [00:15<00:00, 12.66it/s]\n",
      "100%|██████████| 200/200 [00:15<00:00, 12.53it/s]\n",
      "100%|██████████| 200/200 [00:15<00:00, 12.65it/s]\n"
     ]
    },
    {
     "name": "stdout",
     "output_type": "stream",
     "text": [
      "\n",
      "Avg Train Loss: 34100.76344426611, Avg Test Loss: 596.6589673413055\n",
      "\n",
      "Combination: ([7, 50, 50, 1], 1e-09, 40)\n"
     ]
    },
    {
     "name": "stderr",
     "output_type": "stream",
     "text": [
      "100%|██████████| 200/200 [00:15<00:00, 12.70it/s]\n",
      "100%|██████████| 200/200 [00:15<00:00, 12.79it/s]\n",
      "100%|██████████| 200/200 [00:15<00:00, 12.73it/s]\n",
      "100%|██████████| 200/200 [00:15<00:00, 12.71it/s]\n",
      "100%|██████████| 200/200 [00:15<00:00, 12.82it/s]\n"
     ]
    },
    {
     "name": "stdout",
     "output_type": "stream",
     "text": [
      "\n",
      "Avg Train Loss: 123370.09788790857, Avg Test Loss: 823.0239761231387\n",
      "\n",
      "Combination: ([7, 1, 2, 1, 1], 1e-05, 6)\n"
     ]
    },
    {
     "name": "stderr",
     "output_type": "stream",
     "text": [
      "100%|██████████| 200/200 [00:18<00:00, 10.71it/s]\n",
      "100%|██████████| 200/200 [00:18<00:00, 10.95it/s]\n",
      "100%|██████████| 200/200 [00:18<00:00, 10.98it/s]\n",
      "100%|██████████| 200/200 [00:18<00:00, 11.09it/s]\n",
      "100%|██████████| 200/200 [00:18<00:00, 10.93it/s]\n"
     ]
    },
    {
     "name": "stdout",
     "output_type": "stream",
     "text": [
      "\n",
      "Avg Train Loss: 77.54130594174308, Avg Test Loss: 25.167193149128217\n",
      "\n",
      "Combination: ([7, 1, 2, 1, 1], 1e-05, 20)\n"
     ]
    },
    {
     "name": "stderr",
     "output_type": "stream",
     "text": [
      "100%|██████████| 200/200 [00:17<00:00, 11.47it/s]\n",
      "100%|██████████| 200/200 [00:17<00:00, 11.37it/s]\n",
      "100%|██████████| 200/200 [00:17<00:00, 11.53it/s]\n",
      "100%|██████████| 200/200 [00:17<00:00, 11.49it/s]\n",
      "100%|██████████| 200/200 [00:17<00:00, 11.50it/s]\n"
     ]
    },
    {
     "name": "stdout",
     "output_type": "stream",
     "text": [
      "\n",
      "Avg Train Loss: 657.0971066222608, Avg Test Loss: 40.94552542340519\n",
      "\n",
      "Combination: ([7, 1, 2, 1, 1], 1e-05, 40)\n"
     ]
    },
    {
     "name": "stderr",
     "output_type": "stream",
     "text": [
      "100%|██████████| 200/200 [00:17<00:00, 11.58it/s]\n",
      "100%|██████████| 200/200 [00:17<00:00, 11.59it/s]\n",
      "100%|██████████| 200/200 [00:17<00:00, 11.29it/s]\n",
      "100%|██████████| 200/200 [00:17<00:00, 11.52it/s]\n",
      "100%|██████████| 200/200 [00:17<00:00, 11.51it/s]\n"
     ]
    },
    {
     "name": "stdout",
     "output_type": "stream",
     "text": [
      "\n",
      "Avg Train Loss: 1903.4158780944254, Avg Test Loss: 46.131941855858244\n",
      "\n",
      "Combination: ([7, 1, 2, 1, 1], 1e-06, 6)\n"
     ]
    },
    {
     "name": "stderr",
     "output_type": "stream",
     "text": [
      "100%|██████████| 200/200 [00:18<00:00, 11.06it/s]\n",
      "100%|██████████| 200/200 [00:18<00:00, 11.03it/s]\n",
      "100%|██████████| 200/200 [00:18<00:00, 11.07it/s]\n",
      "100%|██████████| 200/200 [00:18<00:00, 10.96it/s]\n",
      "100%|██████████| 200/200 [00:18<00:00, 11.10it/s]\n"
     ]
    },
    {
     "name": "stdout",
     "output_type": "stream",
     "text": [
      "\n",
      "Avg Train Loss: 179.56009495426648, Avg Test Loss: 46.48809376515453\n",
      "\n",
      "Combination: ([7, 1, 2, 1, 1], 1e-06, 20)\n"
     ]
    },
    {
     "name": "stderr",
     "output_type": "stream",
     "text": [
      "100%|██████████| 200/200 [00:17<00:00, 11.50it/s]\n",
      "100%|██████████| 200/200 [00:17<00:00, 11.38it/s]\n",
      "100%|██████████| 200/200 [00:17<00:00, 11.38it/s]\n",
      "100%|██████████| 200/200 [00:17<00:00, 11.40it/s]\n",
      "100%|██████████| 200/200 [00:17<00:00, 11.38it/s]\n"
     ]
    },
    {
     "name": "stdout",
     "output_type": "stream",
     "text": [
      "\n",
      "Avg Train Loss: 1015.9366353396806, Avg Test Loss: 46.58063369115145\n",
      "\n",
      "Combination: ([7, 1, 2, 1, 1], 1e-06, 40)\n"
     ]
    },
    {
     "name": "stderr",
     "output_type": "stream",
     "text": [
      "100%|██████████| 200/200 [00:17<00:00, 11.52it/s]\n",
      "100%|██████████| 200/200 [00:17<00:00, 11.54it/s]\n",
      "100%|██████████| 200/200 [00:17<00:00, 11.56it/s]\n",
      "100%|██████████| 200/200 [00:17<00:00, 11.52it/s]\n",
      "100%|██████████| 200/200 [00:17<00:00, 11.57it/s]\n"
     ]
    },
    {
     "name": "stdout",
     "output_type": "stream",
     "text": [
      "\n",
      "Avg Train Loss: 2481.6217461475144, Avg Test Loss: 46.58063369115145\n",
      "\n",
      "Combination: ([7, 1, 2, 1, 1], 1e-09, 6)\n"
     ]
    },
    {
     "name": "stderr",
     "output_type": "stream",
     "text": [
      "100%|██████████| 200/200 [00:18<00:00, 11.01it/s]\n",
      "100%|██████████| 200/200 [00:18<00:00, 11.03it/s]\n",
      "100%|██████████| 200/200 [00:18<00:00, 11.04it/s]\n",
      "100%|██████████| 200/200 [00:18<00:00, 11.05it/s]\n",
      "100%|██████████| 200/200 [00:18<00:00, 11.09it/s]\n"
     ]
    },
    {
     "name": "stdout",
     "output_type": "stream",
     "text": [
      "\n",
      "Avg Train Loss: 226.37097957897777, Avg Test Loss: 46.58063369115145\n",
      "\n",
      "Combination: ([7, 1, 2, 1, 1], 1e-09, 20)\n"
     ]
    },
    {
     "name": "stderr",
     "output_type": "stream",
     "text": [
      "100%|██████████| 200/200 [00:17<00:00, 11.43it/s]\n",
      "100%|██████████| 200/200 [00:17<00:00, 11.45it/s]\n",
      "100%|██████████| 200/200 [00:17<00:00, 11.56it/s]\n",
      "100%|██████████| 200/200 [00:17<00:00, 11.45it/s]\n",
      "100%|██████████| 200/200 [00:17<00:00, 11.50it/s]\n"
     ]
    },
    {
     "name": "stdout",
     "output_type": "stream",
     "text": [
      "\n",
      "Avg Train Loss: 1110.4302729974693, Avg Test Loss: 46.58063369115145\n",
      "\n",
      "Combination: ([7, 1, 2, 1, 1], 1e-09, 40)\n"
     ]
    },
    {
     "name": "stderr",
     "output_type": "stream",
     "text": [
      "100%|██████████| 200/200 [00:17<00:00, 11.59it/s]\n",
      "100%|██████████| 200/200 [00:17<00:00, 11.59it/s]\n",
      "100%|██████████| 200/200 [00:17<00:00, 11.60it/s]\n",
      "100%|██████████| 200/200 [00:17<00:00, 11.49it/s]\n",
      "100%|██████████| 200/200 [00:17<00:00, 11.65it/s]\n"
     ]
    },
    {
     "name": "stdout",
     "output_type": "stream",
     "text": [
      "\n",
      "Avg Train Loss: 2586.5554962138312, Avg Test Loss: 46.58063369115145\n",
      "\n",
      "Combination: ([7, 6, 12, 6, 1], 1e-05, 6)\n"
     ]
    },
    {
     "name": "stderr",
     "output_type": "stream",
     "text": [
      "100%|██████████| 200/200 [00:18<00:00, 10.82it/s]\n",
      "100%|██████████| 200/200 [00:18<00:00, 10.80it/s]\n",
      "100%|██████████| 200/200 [00:18<00:00, 10.79it/s]\n",
      "100%|██████████| 200/200 [00:18<00:00, 10.84it/s]\n",
      "100%|██████████| 200/200 [00:18<00:00, 10.84it/s]\n"
     ]
    },
    {
     "name": "stdout",
     "output_type": "stream",
     "text": [
      "\n",
      "Avg Train Loss: 8.500828497044644, Avg Test Loss: 2.693422378225327\n",
      "\n",
      "Combination: ([7, 6, 12, 6, 1], 1e-05, 20)\n"
     ]
    },
    {
     "name": "stderr",
     "output_type": "stream",
     "text": [
      "100%|██████████| 200/200 [00:17<00:00, 11.28it/s]\n",
      "100%|██████████| 200/200 [00:17<00:00, 11.27it/s]\n",
      "100%|██████████| 200/200 [00:17<00:00, 11.30it/s]\n",
      "100%|██████████| 200/200 [00:17<00:00, 11.20it/s]\n",
      "100%|██████████| 200/200 [00:17<00:00, 11.32it/s]\n"
     ]
    },
    {
     "name": "stdout",
     "output_type": "stream",
     "text": [
      "\n",
      "Avg Train Loss: 140.87280477939618, Avg Test Loss: 6.933923518795001\n",
      "\n",
      "Combination: ([7, 6, 12, 6, 1], 1e-05, 40)\n"
     ]
    },
    {
     "name": "stderr",
     "output_type": "stream",
     "text": [
      "100%|██████████| 200/200 [00:17<00:00, 11.27it/s]\n",
      "100%|██████████| 200/200 [00:17<00:00, 11.40it/s]\n",
      "100%|██████████| 200/200 [00:17<00:00, 11.39it/s]\n",
      "100%|██████████| 200/200 [00:17<00:00, 11.31it/s]\n",
      "100%|██████████| 200/200 [00:17<00:00, 11.39it/s]\n"
     ]
    },
    {
     "name": "stdout",
     "output_type": "stream",
     "text": [
      "\n",
      "Avg Train Loss: 354.1478347260762, Avg Test Loss: 9.818295982732895\n",
      "\n",
      "Combination: ([7, 6, 12, 6, 1], 1e-06, 6)\n"
     ]
    },
    {
     "name": "stderr",
     "output_type": "stream",
     "text": [
      "100%|██████████| 200/200 [00:18<00:00, 10.84it/s]\n",
      "100%|██████████| 200/200 [00:18<00:00, 10.90it/s]\n",
      "100%|██████████| 200/200 [00:18<00:00, 10.82it/s]\n",
      "100%|██████████| 200/200 [00:18<00:00, 10.84it/s]\n",
      "100%|██████████| 200/200 [00:18<00:00, 10.81it/s]\n"
     ]
    },
    {
     "name": "stdout",
     "output_type": "stream",
     "text": [
      "\n",
      "Avg Train Loss: 9.47471912085741, Avg Test Loss: 10.734333557982415\n",
      "\n",
      "Combination: ([7, 6, 12, 6, 1], 1e-06, 20)\n"
     ]
    },
    {
     "name": "stderr",
     "output_type": "stream",
     "text": [
      "100%|██████████| 200/200 [00:17<00:00, 11.24it/s]\n",
      "100%|██████████| 200/200 [00:17<00:00, 11.23it/s]\n",
      "100%|██████████| 200/200 [00:17<00:00, 11.28it/s]\n",
      "100%|██████████| 200/200 [00:17<00:00, 11.22it/s]\n",
      "100%|██████████| 200/200 [00:17<00:00, 11.29it/s]\n"
     ]
    },
    {
     "name": "stdout",
     "output_type": "stream",
     "text": [
      "\n",
      "Avg Train Loss: 193.8270355844157, Avg Test Loss: 13.824786895657379\n",
      "\n",
      "Combination: ([7, 6, 12, 6, 1], 1e-06, 40)\n"
     ]
    },
    {
     "name": "stderr",
     "output_type": "stream",
     "text": [
      "100%|██████████| 200/200 [00:17<00:00, 11.32it/s]\n",
      "100%|██████████| 200/200 [00:17<00:00, 11.42it/s]\n",
      "100%|██████████| 200/200 [00:17<00:00, 11.34it/s]\n",
      "100%|██████████| 200/200 [00:17<00:00, 11.32it/s]\n",
      "100%|██████████| 200/200 [00:17<00:00, 11.35it/s]\n"
     ]
    },
    {
     "name": "stdout",
     "output_type": "stream",
     "text": [
      "\n",
      "Avg Train Loss: 667.6186031844043, Avg Test Loss: 15.017277673036364\n",
      "\n",
      "Combination: ([7, 6, 12, 6, 1], 1e-09, 6)\n"
     ]
    },
    {
     "name": "stderr",
     "output_type": "stream",
     "text": [
      "100%|██████████| 200/200 [00:18<00:00, 10.82it/s]\n",
      "100%|██████████| 200/200 [00:18<00:00, 10.83it/s]\n",
      "100%|██████████| 200/200 [00:18<00:00, 10.90it/s]\n",
      "100%|██████████| 200/200 [00:18<00:00, 10.79it/s]\n",
      "100%|██████████| 200/200 [00:18<00:00, 10.89it/s]\n"
     ]
    },
    {
     "name": "stdout",
     "output_type": "stream",
     "text": [
      "\n",
      "Avg Train Loss: 2023.8591857591114, Avg Test Loss: 119.70830182632884\n",
      "\n",
      "Combination: ([7, 6, 12, 6, 1], 1e-09, 20)\n"
     ]
    },
    {
     "name": "stderr",
     "output_type": "stream",
     "text": [
      "100%|██████████| 200/200 [00:17<00:00, 11.23it/s]\n",
      "100%|██████████| 200/200 [00:17<00:00, 11.27it/s]\n",
      "100%|██████████| 200/200 [00:17<00:00, 11.26it/s]\n",
      "100%|██████████| 200/200 [00:17<00:00, 11.24it/s]\n",
      "100%|██████████| 200/200 [00:17<00:00, 11.33it/s]\n"
     ]
    },
    {
     "name": "stdout",
     "output_type": "stream",
     "text": [
      "\n",
      "Avg Train Loss: 14661.136199955432, Avg Test Loss: 339.9562920340515\n",
      "\n",
      "Combination: ([7, 6, 12, 6, 1], 1e-09, 40)\n"
     ]
    },
    {
     "name": "stderr",
     "output_type": "stream",
     "text": [
      "100%|██████████| 200/200 [00:17<00:00, 11.37it/s]\n",
      "100%|██████████| 200/200 [00:17<00:00, 11.25it/s]\n",
      "100%|██████████| 200/200 [00:17<00:00, 11.42it/s]\n",
      "100%|██████████| 200/200 [00:17<00:00, 11.32it/s]\n",
      "100%|██████████| 200/200 [00:17<00:00, 11.41it/s]\n"
     ]
    },
    {
     "name": "stdout",
     "output_type": "stream",
     "text": [
      "\n",
      "Avg Train Loss: 35605.06467624641, Avg Test Loss: 499.56271880059387\n",
      "\n",
      "Combination: ([7, 12, 25, 12, 1], 1e-05, 6)\n"
     ]
    },
    {
     "name": "stderr",
     "output_type": "stream",
     "text": [
      "100%|██████████| 200/200 [00:19<00:00, 10.44it/s]\n",
      "100%|██████████| 200/200 [00:19<00:00, 10.47it/s]\n",
      "100%|██████████| 200/200 [00:19<00:00, 10.40it/s]\n",
      "100%|██████████| 200/200 [00:19<00:00, 10.44it/s]\n",
      "100%|██████████| 200/200 [00:19<00:00, 10.46it/s]\n"
     ]
    },
    {
     "name": "stdout",
     "output_type": "stream",
     "text": [
      "\n",
      "Avg Train Loss: nan, Avg Test Loss: nan\n",
      "\n",
      "Combination: ([7, 12, 25, 12, 1], 1e-05, 20)\n"
     ]
    },
    {
     "name": "stderr",
     "output_type": "stream",
     "text": [
      "100%|██████████| 200/200 [00:19<00:00, 10.52it/s]\n",
      "100%|██████████| 200/200 [00:18<00:00, 10.76it/s]\n",
      "100%|██████████| 200/200 [00:18<00:00, 10.69it/s]\n",
      "100%|██████████| 200/200 [00:18<00:00, 10.84it/s]\n",
      "100%|██████████| 200/200 [00:18<00:00, 10.76it/s]\n"
     ]
    },
    {
     "name": "stdout",
     "output_type": "stream",
     "text": [
      "\n",
      "Avg Train Loss: nan, Avg Test Loss: nan\n",
      "\n",
      "Combination: ([7, 12, 25, 12, 1], 1e-05, 40)\n"
     ]
    },
    {
     "name": "stderr",
     "output_type": "stream",
     "text": [
      "100%|██████████| 200/200 [00:18<00:00, 10.86it/s]\n",
      "100%|██████████| 200/200 [00:18<00:00, 10.79it/s]\n",
      "100%|██████████| 200/200 [00:18<00:00, 10.82it/s]\n",
      "100%|██████████| 200/200 [00:18<00:00, 10.89it/s]\n",
      "100%|██████████| 200/200 [00:18<00:00, 10.85it/s]\n"
     ]
    },
    {
     "name": "stdout",
     "output_type": "stream",
     "text": [
      "\n",
      "Avg Train Loss: nan, Avg Test Loss: nan\n",
      "\n",
      "Combination: ([7, 12, 25, 12, 1], 1e-06, 6)\n"
     ]
    },
    {
     "name": "stderr",
     "output_type": "stream",
     "text": [
      "100%|██████████| 200/200 [00:19<00:00, 10.04it/s]\n",
      "100%|██████████| 200/200 [00:19<00:00, 10.35it/s]\n",
      "100%|██████████| 200/200 [00:19<00:00, 10.44it/s]\n",
      "100%|██████████| 200/200 [00:19<00:00, 10.52it/s]\n",
      "100%|██████████| 200/200 [00:19<00:00, 10.47it/s]\n"
     ]
    },
    {
     "name": "stdout",
     "output_type": "stream",
     "text": [
      "\n",
      "Avg Train Loss: 14.774878072324322, Avg Test Loss: 6.90506357750412\n",
      "\n",
      "Combination: ([7, 12, 25, 12, 1], 1e-06, 20)\n"
     ]
    },
    {
     "name": "stderr",
     "output_type": "stream",
     "text": [
      "100%|██████████| 200/200 [00:18<00:00, 10.93it/s]\n",
      "100%|██████████| 200/200 [00:18<00:00, 10.85it/s]\n",
      "100%|██████████| 200/200 [00:18<00:00, 10.91it/s]\n",
      "100%|██████████| 200/200 [00:18<00:00, 10.89it/s]\n",
      "100%|██████████| 200/200 [00:18<00:00, 10.90it/s]\n"
     ]
    },
    {
     "name": "stdout",
     "output_type": "stream",
     "text": [
      "\n",
      "Avg Train Loss: 256.42419920339955, Avg Test Loss: 11.78149626824144\n",
      "\n",
      "Combination: ([7, 12, 25, 12, 1], 1e-06, 40)\n"
     ]
    },
    {
     "name": "stderr",
     "output_type": "stream",
     "text": [
      "100%|██████████| 200/200 [00:18<00:00, 10.94it/s]\n",
      "100%|██████████| 200/200 [00:18<00:00, 10.97it/s]\n",
      "100%|██████████| 200/200 [00:18<00:00, 11.01it/s]\n",
      "100%|██████████| 200/200 [00:18<00:00, 10.95it/s]\n",
      "100%|██████████| 200/200 [00:18<00:00, 10.99it/s]\n"
     ]
    },
    {
     "name": "stdout",
     "output_type": "stream",
     "text": [
      "\n",
      "Avg Train Loss: 985.7331658473544, Avg Test Loss: 19.182946347165036\n",
      "\n",
      "Combination: ([7, 12, 25, 12, 1], 1e-09, 6)\n"
     ]
    },
    {
     "name": "stderr",
     "output_type": "stream",
     "text": [
      "100%|██████████| 200/200 [00:19<00:00, 10.49it/s]\n",
      "100%|██████████| 200/200 [00:19<00:00, 10.44it/s]\n",
      "100%|██████████| 200/200 [00:19<00:00, 10.52it/s]\n",
      "100%|██████████| 200/200 [00:19<00:00, 10.43it/s]\n",
      "100%|██████████| 200/200 [00:19<00:00, 10.48it/s]\n"
     ]
    },
    {
     "name": "stdout",
     "output_type": "stream",
     "text": [
      "\n",
      "Avg Train Loss: 13933.504092898118, Avg Test Loss: 926.2070955764373\n",
      "\n",
      "Combination: ([7, 12, 25, 12, 1], 1e-09, 20)\n"
     ]
    },
    {
     "name": "stderr",
     "output_type": "stream",
     "text": [
      "100%|██████████| 200/200 [00:18<00:00, 10.81it/s]\n",
      "100%|██████████| 200/200 [00:18<00:00, 10.92it/s]\n",
      "100%|██████████| 200/200 [00:18<00:00, 10.91it/s]\n",
      "100%|██████████| 200/200 [00:18<00:00, 10.86it/s]\n",
      "100%|██████████| 200/200 [00:18<00:00, 10.87it/s]\n"
     ]
    },
    {
     "name": "stdout",
     "output_type": "stream",
     "text": [
      "\n",
      "Avg Train Loss: 96564.69928261456, Avg Test Loss: 1640.5777970557497\n",
      "\n",
      "Combination: ([7, 12, 25, 12, 1], 1e-09, 40)\n"
     ]
    },
    {
     "name": "stderr",
     "output_type": "stream",
     "text": [
      "100%|██████████| 200/200 [00:18<00:00, 10.92it/s]\n",
      "100%|██████████| 200/200 [00:18<00:00, 10.89it/s]\n",
      "100%|██████████| 200/200 [00:18<00:00, 10.89it/s]\n",
      "100%|██████████| 200/200 [00:18<00:00, 10.98it/s]\n",
      "100%|██████████| 200/200 [00:18<00:00, 10.95it/s]\n"
     ]
    },
    {
     "name": "stdout",
     "output_type": "stream",
     "text": [
      "\n",
      "Avg Train Loss: 197499.73440855104, Avg Test Loss: 1891.6119760481129\n",
      "\n",
      "Combination: ([7, 25, 50, 25, 1], 1e-05, 6)\n"
     ]
    },
    {
     "name": "stderr",
     "output_type": "stream",
     "text": [
      "100%|██████████| 200/200 [00:20<00:00,  9.69it/s]\n",
      "100%|██████████| 200/200 [00:20<00:00,  9.67it/s]\n",
      "100%|██████████| 200/200 [00:20<00:00,  9.67it/s]\n",
      "100%|██████████| 200/200 [00:20<00:00,  9.70it/s]\n",
      "100%|██████████| 200/200 [00:20<00:00,  9.65it/s]\n"
     ]
    },
    {
     "name": "stdout",
     "output_type": "stream",
     "text": [
      "\n",
      "Avg Train Loss: nan, Avg Test Loss: nan\n",
      "\n",
      "Combination: ([7, 25, 50, 25, 1], 1e-05, 20)\n"
     ]
    },
    {
     "name": "stderr",
     "output_type": "stream",
     "text": [
      "100%|██████████| 200/200 [00:19<00:00, 10.22it/s]\n",
      "100%|██████████| 200/200 [00:19<00:00, 10.16it/s]\n",
      "100%|██████████| 200/200 [00:19<00:00, 10.23it/s]\n",
      "100%|██████████| 200/200 [00:19<00:00, 10.12it/s]\n",
      "100%|██████████| 200/200 [00:19<00:00, 10.15it/s]\n"
     ]
    },
    {
     "name": "stdout",
     "output_type": "stream",
     "text": [
      "\n",
      "Avg Train Loss: nan, Avg Test Loss: nan\n",
      "\n",
      "Combination: ([7, 25, 50, 25, 1], 1e-05, 40)\n"
     ]
    },
    {
     "name": "stderr",
     "output_type": "stream",
     "text": [
      "100%|██████████| 200/200 [00:19<00:00, 10.22it/s]\n",
      "100%|██████████| 200/200 [00:19<00:00, 10.22it/s]\n",
      "100%|██████████| 200/200 [00:19<00:00, 10.31it/s]\n",
      "100%|██████████| 200/200 [00:19<00:00, 10.26it/s]\n",
      "100%|██████████| 200/200 [00:19<00:00, 10.29it/s]\n"
     ]
    },
    {
     "name": "stdout",
     "output_type": "stream",
     "text": [
      "\n",
      "Avg Train Loss: nan, Avg Test Loss: nan\n",
      "\n",
      "Combination: ([7, 25, 50, 25, 1], 1e-06, 6)\n"
     ]
    },
    {
     "name": "stderr",
     "output_type": "stream",
     "text": [
      "100%|██████████| 200/200 [00:20<00:00,  9.66it/s]\n",
      "100%|██████████| 200/200 [00:20<00:00,  9.68it/s]\n",
      "100%|██████████| 200/200 [00:20<00:00,  9.59it/s]\n",
      "100%|██████████| 200/200 [00:20<00:00,  9.65it/s]\n",
      "100%|██████████| 200/200 [00:20<00:00,  9.61it/s]\n"
     ]
    },
    {
     "name": "stdout",
     "output_type": "stream",
     "text": [
      "\n",
      "Avg Train Loss: nan, Avg Test Loss: nan\n",
      "\n",
      "Combination: ([7, 25, 50, 25, 1], 1e-06, 20)\n"
     ]
    },
    {
     "name": "stderr",
     "output_type": "stream",
     "text": [
      "100%|██████████| 200/200 [00:19<00:00, 10.18it/s]\n",
      "100%|██████████| 200/200 [00:19<00:00, 10.19it/s]\n",
      "100%|██████████| 200/200 [00:19<00:00, 10.23it/s]\n",
      "100%|██████████| 200/200 [00:19<00:00, 10.15it/s]\n",
      "100%|██████████| 200/200 [00:19<00:00, 10.22it/s]\n"
     ]
    },
    {
     "name": "stdout",
     "output_type": "stream",
     "text": [
      "\n",
      "Avg Train Loss: nan, Avg Test Loss: nan\n",
      "\n",
      "Combination: ([7, 25, 50, 25, 1], 1e-06, 40)\n"
     ]
    },
    {
     "name": "stderr",
     "output_type": "stream",
     "text": [
      "100%|██████████| 200/200 [00:19<00:00, 10.21it/s]\n",
      "100%|██████████| 200/200 [00:19<00:00, 10.30it/s]\n",
      "100%|██████████| 200/200 [00:19<00:00, 10.26it/s]\n",
      "100%|██████████| 200/200 [00:19<00:00, 10.22it/s]\n",
      "100%|██████████| 200/200 [00:19<00:00, 10.29it/s]\n"
     ]
    },
    {
     "name": "stdout",
     "output_type": "stream",
     "text": [
      "\n",
      "Avg Train Loss: nan, Avg Test Loss: nan\n",
      "\n",
      "Combination: ([7, 25, 50, 25, 1], 1e-09, 6)\n"
     ]
    },
    {
     "name": "stderr",
     "output_type": "stream",
     "text": [
      "100%|██████████| 200/200 [00:20<00:00,  9.65it/s]\n",
      "100%|██████████| 200/200 [00:20<00:00,  9.70it/s]\n",
      "100%|██████████| 200/200 [00:20<00:00,  9.76it/s]\n",
      "100%|██████████| 200/200 [00:20<00:00,  9.73it/s]\n",
      "100%|██████████| 200/200 [00:20<00:00,  9.67it/s]\n"
     ]
    },
    {
     "name": "stdout",
     "output_type": "stream",
     "text": [
      "\n",
      "Avg Train Loss: 16588.288726838553, Avg Test Loss: 1722.2792851461363\n",
      "\n",
      "Combination: ([7, 25, 50, 25, 1], 1e-09, 20)\n"
     ]
    },
    {
     "name": "stderr",
     "output_type": "stream",
     "text": [
      "100%|██████████| 200/200 [00:19<00:00, 10.19it/s]\n",
      "100%|██████████| 200/200 [00:19<00:00, 10.26it/s]\n",
      "100%|██████████| 200/200 [00:19<00:00, 10.10it/s]\n",
      "100%|██████████| 200/200 [00:19<00:00, 10.23it/s]\n",
      "100%|██████████| 200/200 [00:19<00:00, 10.24it/s]\n"
     ]
    },
    {
     "name": "stdout",
     "output_type": "stream",
     "text": [
      "\n",
      "Avg Train Loss: 215536.25339143834, Avg Test Loss: 4580.867977480329\n",
      "\n",
      "Combination: ([7, 25, 50, 25, 1], 1e-09, 40)\n"
     ]
    },
    {
     "name": "stderr",
     "output_type": "stream",
     "text": [
      "100%|██████████| 200/200 [00:19<00:00, 10.25it/s]\n",
      "100%|██████████| 200/200 [00:19<00:00, 10.33it/s]\n",
      "100%|██████████| 200/200 [00:19<00:00, 10.33it/s]\n",
      "100%|██████████| 200/200 [00:19<00:00, 10.37it/s]\n",
      "100%|██████████| 200/200 [00:19<00:00, 10.27it/s]"
     ]
    },
    {
     "name": "stdout",
     "output_type": "stream",
     "text": [
      "\n",
      "Avg Train Loss: 613668.6164902423, Avg Test Loss: 6675.05294706825\n"
     ]
    },
    {
     "name": "stderr",
     "output_type": "stream",
     "text": [
      "\n"
     ]
    }
   ],
   "source": [
    "numbers = [5, 25, 50, 100]\n",
    "lay_1 = [[X_train.shape[1], i, 1] for i in numbers]\n",
    "lay_2 = [[X_train.shape[1], i//2, i//2, 1] for i in numbers]\n",
    "lay_3 = [[X_train.shape[1], i//4, i//2, i//4, 1] for i in numbers]\n",
    "\n",
    "# build table of hiperparameters to test\n",
    "hiperparameters = {\n",
    "    'layers': [*lay_1, *lay_2, *lay_3],\n",
    "    'alpha': [1e-5, 1e-6, 1e-9],\n",
    "    'mini_batch_size': [6, 20, 40]\n",
    "}\n",
    "\n",
    "# create a list of all possible combinations of hiperparameters\n",
    "all_combinations = list(itertools.product(*hiperparameters.values()))\n",
    "print(len(all_combinations))\n",
    "all_combinations\n",
    "\n",
    "\n",
    "# Define the number of folds for cross-validation\n",
    "k_folds = 5\n",
    "\n",
    "# Shuffle the dataset indices\n",
    "indices = np.arange(len(X))\n",
    "np.random.shuffle(indices)\n",
    "\n",
    "# Split the dataset into k folds\n",
    "fold_size = len(indices) // k_folds\n",
    "folds = [indices[i:i+fold_size] for i in range(0, len(indices), fold_size)]\n",
    "\n",
    "\n",
    "# Perform k-fold cross-validation\n",
    "for combination in all_combinations:\n",
    "    print(f\"\\nCombination: {combination}\")\n",
    "    # Unpack the hyperparameters\n",
    "    layers, alpha, mini_batch_size = combination\n",
    "    \n",
    "    # Initialize lists to store evaluation results for each fold\n",
    "    fold_train_losses = []\n",
    "    fold_test_losses = []\n",
    "    \n",
    "    for fold_num, fold_indices in enumerate(folds):\n",
    "        # print(f\"Fold {fold_num + 1}:\")\n",
    "\n",
    "        # Extract train and test indices\n",
    "        train_indices = np.concatenate([folds[i] for i in range(k_folds) if i != fold_num])\n",
    "        test_indices = fold_indices\n",
    "\n",
    "        # Prepare train and test data\n",
    "        X_train_fold = X.iloc[train_indices]\n",
    "        y_train_fold = y[train_indices]\n",
    "        X_test_fold = X.iloc[test_indices]\n",
    "        y_test_fold = y[test_indices]\n",
    "\n",
    "        # print(f\"Train size: {X_train_fold.shape[1]}\")\n",
    "        # Train the model with the current hyperparameters\n",
    "        nn = MLP(input_size=X_train_fold.shape[1], layers=layers) \n",
    "        # print(f\"Layers: {nn.layers}, Alpha: {alpha}, Mini Batch Size: {mini_batch_size}, len: {len(nn.layers)} = num_layers: {nn.num_layers}, activations: {nn.activations}\")\n",
    "        train_losses, test_losses = nn.fit(list(zip(X_train_fold.values, y_train_fold)), \n",
    "                                            list(zip(X_test_fold.values, y_test_fold)),\n",
    "                                            mini_batch_size, \n",
    "                                            max_epochs=200, \n",
    "                                            alpha=alpha)\n",
    "        \n",
    "        # Evaluate the model on the current fold\n",
    "        train_loss = train_losses[-1]\n",
    "        test_loss = test_losses[-1]\n",
    "        \n",
    "        # Store the evaluation results\n",
    "        fold_train_losses.append(train_loss)\n",
    "        fold_test_losses.append(test_loss)\n",
    "        \n",
    "        # Print the evaluation results for the current fold\n",
    "        # print(f\"Fold {fold_num+1} - Train Loss: {train_loss}, Test Loss: {test_loss}\")\n",
    "    \n",
    "    # Compute the average evaluation results across all folds for the current hyperparameter combination\n",
    "    avg_train_loss = np.mean(fold_train_losses)\n",
    "    avg_test_loss = np.mean(fold_test_losses)\n",
    "    \n",
    "    # Print the average evaluation results for the current hyperparameter combination\n",
    "    print(f\"\\nAvg Train Loss: {avg_train_loss}, Avg Test Loss: {avg_test_loss}\")\n"
   ]
  },
  {
   "cell_type": "code",
   "execution_count": null,
   "metadata": {},
   "outputs": [],
   "source": [
    "# train the optimum model, with the best hiperparamaters\n"
   ]
  },
  {
   "cell_type": "markdown",
   "metadata": {},
   "source": [
    "### e)\n",
    "Analizar la performance de su modelo final en términos de $RMSE$, $MAE$ y $R^2$, y graficar $\\hat{y}$ vs. $y$ sobre los datos “held out” de los folds de cross-validaion. Compare esto con la performance del modelo de regresión lineal desarrollado en el problema anterior. ¿Cuál de los dos modelos cree usted que generalizará mejor? ¿Por qué?\n"
   ]
  },
  {
   "cell_type": "code",
   "execution_count": null,
   "metadata": {},
   "outputs": [],
   "source": []
  }
 ],
 "metadata": {
  "kernelspec": {
   "display_name": "base",
   "language": "python",
   "name": "python3"
  },
  "language_info": {
   "codemirror_mode": {
    "name": "ipython",
    "version": 3
   },
   "file_extension": ".py",
   "mimetype": "text/x-python",
   "name": "python",
   "nbconvert_exporter": "python",
   "pygments_lexer": "ipython3",
   "version": "3.9.7"
  }
 },
 "nbformat": 4,
 "nbformat_minor": 2
}
