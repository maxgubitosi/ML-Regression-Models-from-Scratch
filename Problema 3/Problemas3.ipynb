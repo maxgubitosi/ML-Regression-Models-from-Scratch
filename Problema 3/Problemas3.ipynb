{
 "cells": [
  {
   "cell_type": "markdown",
   "metadata": {},
   "source": [
    "# Redes Multicapa para Regresión"
   ]
  },
  {
   "cell_type": "code",
   "execution_count": 1,
   "metadata": {},
   "outputs": [],
   "source": [
    "%load_ext autoreload\n",
    "%autoreload 2"
   ]
  },
  {
   "cell_type": "code",
   "execution_count": 2,
   "metadata": {},
   "outputs": [],
   "source": [
    "import numpy as np\n",
    "import matplotlib.pyplot as plt\n",
    "import pandas as pd\n",
    "import tqdm\n",
    "from functions3 import *"
   ]
  },
  {
   "cell_type": "code",
   "execution_count": 3,
   "metadata": {},
   "outputs": [
    {
     "data": {
      "text/html": [
       "<div>\n",
       "<style scoped>\n",
       "    .dataframe tbody tr th:only-of-type {\n",
       "        vertical-align: middle;\n",
       "    }\n",
       "\n",
       "    .dataframe tbody tr th {\n",
       "        vertical-align: top;\n",
       "    }\n",
       "\n",
       "    .dataframe thead th {\n",
       "        text-align: right;\n",
       "    }\n",
       "</style>\n",
       "<table border=\"1\" class=\"dataframe\">\n",
       "  <thead>\n",
       "    <tr style=\"text-align: right;\">\n",
       "      <th></th>\n",
       "      <th>forecasted_performance</th>\n",
       "      <th>hs_sleep</th>\n",
       "      <th>hs_study</th>\n",
       "      <th>prev_scores</th>\n",
       "      <th>practice</th>\n",
       "      <th>extracurricular_activities</th>\n",
       "    </tr>\n",
       "  </thead>\n",
       "  <tbody>\n",
       "    <tr>\n",
       "      <th>0</th>\n",
       "      <td>6.326605</td>\n",
       "      <td>6.560017</td>\n",
       "      <td>5.043475</td>\n",
       "      <td>4.958906</td>\n",
       "      <td>4</td>\n",
       "      <td>False</td>\n",
       "    </tr>\n",
       "    <tr>\n",
       "      <th>1</th>\n",
       "      <td>7.774666</td>\n",
       "      <td>6.459315</td>\n",
       "      <td>3.529156</td>\n",
       "      <td>9.601236</td>\n",
       "      <td>5</td>\n",
       "      <td>False</td>\n",
       "    </tr>\n",
       "    <tr>\n",
       "      <th>2</th>\n",
       "      <td>7.343601</td>\n",
       "      <td>6.487913</td>\n",
       "      <td>2.500939</td>\n",
       "      <td>6.390868</td>\n",
       "      <td>4</td>\n",
       "      <td>False</td>\n",
       "    </tr>\n",
       "    <tr>\n",
       "      <th>3</th>\n",
       "      <td>1.851852</td>\n",
       "      <td>10.126572</td>\n",
       "      <td>2.311390</td>\n",
       "      <td>4.000000</td>\n",
       "      <td>5</td>\n",
       "      <td>False</td>\n",
       "    </tr>\n",
       "    <tr>\n",
       "      <th>4</th>\n",
       "      <td>3.607081</td>\n",
       "      <td>8.093355</td>\n",
       "      <td>3.419712</td>\n",
       "      <td>4.857238</td>\n",
       "      <td>9</td>\n",
       "      <td>False</td>\n",
       "    </tr>\n",
       "    <tr>\n",
       "      <th>...</th>\n",
       "      <td>...</td>\n",
       "      <td>...</td>\n",
       "      <td>...</td>\n",
       "      <td>...</td>\n",
       "      <td>...</td>\n",
       "      <td>...</td>\n",
       "    </tr>\n",
       "    <tr>\n",
       "      <th>1395</th>\n",
       "      <td>5.010497</td>\n",
       "      <td>6.481511</td>\n",
       "      <td>2.531747</td>\n",
       "      <td>4.598361</td>\n",
       "      <td>3</td>\n",
       "      <td>False</td>\n",
       "    </tr>\n",
       "    <tr>\n",
       "      <th>1396</th>\n",
       "      <td>6.280722</td>\n",
       "      <td>6.056482</td>\n",
       "      <td>5.997887</td>\n",
       "      <td>4.408789</td>\n",
       "      <td>8</td>\n",
       "      <td>False</td>\n",
       "    </tr>\n",
       "    <tr>\n",
       "      <th>1397</th>\n",
       "      <td>5.492269</td>\n",
       "      <td>5.402522</td>\n",
       "      <td>5.867482</td>\n",
       "      <td>4.000000</td>\n",
       "      <td>5</td>\n",
       "      <td>False</td>\n",
       "    </tr>\n",
       "    <tr>\n",
       "      <th>1398</th>\n",
       "      <td>7.002018</td>\n",
       "      <td>6.425094</td>\n",
       "      <td>5.027055</td>\n",
       "      <td>5.284618</td>\n",
       "      <td>6</td>\n",
       "      <td>False</td>\n",
       "    </tr>\n",
       "    <tr>\n",
       "      <th>1399</th>\n",
       "      <td>5.278553</td>\n",
       "      <td>8.119775</td>\n",
       "      <td>2.149788</td>\n",
       "      <td>6.454177</td>\n",
       "      <td>5</td>\n",
       "      <td>False</td>\n",
       "    </tr>\n",
       "  </tbody>\n",
       "</table>\n",
       "<p>1400 rows × 6 columns</p>\n",
       "</div>"
      ],
      "text/plain": [
       "      forecasted_performance   hs_sleep  hs_study  prev_scores  practice  \\\n",
       "0                   6.326605   6.560017  5.043475     4.958906         4   \n",
       "1                   7.774666   6.459315  3.529156     9.601236         5   \n",
       "2                   7.343601   6.487913  2.500939     6.390868         4   \n",
       "3                   1.851852  10.126572  2.311390     4.000000         5   \n",
       "4                   3.607081   8.093355  3.419712     4.857238         9   \n",
       "...                      ...        ...       ...          ...       ...   \n",
       "1395                5.010497   6.481511  2.531747     4.598361         3   \n",
       "1396                6.280722   6.056482  5.997887     4.408789         8   \n",
       "1397                5.492269   5.402522  5.867482     4.000000         5   \n",
       "1398                7.002018   6.425094  5.027055     5.284618         6   \n",
       "1399                5.278553   8.119775  2.149788     6.454177         5   \n",
       "\n",
       "      extracurricular_activities  \n",
       "0                          False  \n",
       "1                          False  \n",
       "2                          False  \n",
       "3                          False  \n",
       "4                          False  \n",
       "...                          ...  \n",
       "1395                       False  \n",
       "1396                       False  \n",
       "1397                       False  \n",
       "1398                       False  \n",
       "1399                       False  \n",
       "\n",
       "[1400 rows x 6 columns]"
      ]
     },
     "execution_count": 3,
     "metadata": {},
     "output_type": "execute_result"
    }
   ],
   "source": [
    "# import data from csv\n",
    "data = pd.read_csv('/Users/maxi/Downloads/Actuales/ML/ML-TP2/datasets/Student_Performance_DEV.csv').drop(columns='idx')\n",
    "data"
   ]
  },
  {
   "cell_type": "markdown",
   "metadata": {},
   "source": [
    "### a)\n",
    "Implementar una red neuronal multicapa, que funcione para cualquier valor $L \\ge 1$, y $M^{(l)} \\ge 1$, así como el algoritmo de optimización de descenso por gradiente y backpropagation para optimizar los pesos de las unidades ocultas, asumiendo una “loss-function” que sea la suma de los errores cuadráticos."
   ]
  },
  {
   "cell_type": "code",
   "execution_count": 4,
   "metadata": {},
   "outputs": [
    {
     "data": {
      "text/html": [
       "<div>\n",
       "<style scoped>\n",
       "    .dataframe tbody tr th:only-of-type {\n",
       "        vertical-align: middle;\n",
       "    }\n",
       "\n",
       "    .dataframe tbody tr th {\n",
       "        vertical-align: top;\n",
       "    }\n",
       "\n",
       "    .dataframe thead th {\n",
       "        text-align: right;\n",
       "    }\n",
       "</style>\n",
       "<table border=\"1\" class=\"dataframe\">\n",
       "  <thead>\n",
       "    <tr style=\"text-align: right;\">\n",
       "      <th></th>\n",
       "      <th>hs_sleep</th>\n",
       "      <th>hs_study</th>\n",
       "      <th>prev_scores</th>\n",
       "      <th>practice</th>\n",
       "      <th>extracurricular_activities_False</th>\n",
       "      <th>extracurricular_activities_True</th>\n",
       "    </tr>\n",
       "  </thead>\n",
       "  <tbody>\n",
       "    <tr>\n",
       "      <th>0</th>\n",
       "      <td>7.512345</td>\n",
       "      <td>5.072058</td>\n",
       "      <td>8.775325</td>\n",
       "      <td>14</td>\n",
       "      <td>0</td>\n",
       "      <td>1</td>\n",
       "    </tr>\n",
       "    <tr>\n",
       "      <th>1</th>\n",
       "      <td>7.645378</td>\n",
       "      <td>5.266626</td>\n",
       "      <td>8.351701</td>\n",
       "      <td>6</td>\n",
       "      <td>0</td>\n",
       "      <td>1</td>\n",
       "    </tr>\n",
       "    <tr>\n",
       "      <th>2</th>\n",
       "      <td>7.096499</td>\n",
       "      <td>3.071855</td>\n",
       "      <td>8.498025</td>\n",
       "      <td>2</td>\n",
       "      <td>0</td>\n",
       "      <td>1</td>\n",
       "    </tr>\n",
       "    <tr>\n",
       "      <th>3</th>\n",
       "      <td>6.454375</td>\n",
       "      <td>3.299192</td>\n",
       "      <td>9.913947</td>\n",
       "      <td>9</td>\n",
       "      <td>1</td>\n",
       "      <td>0</td>\n",
       "    </tr>\n",
       "    <tr>\n",
       "      <th>4</th>\n",
       "      <td>7.731830</td>\n",
       "      <td>2.091205</td>\n",
       "      <td>4.052463</td>\n",
       "      <td>17</td>\n",
       "      <td>1</td>\n",
       "      <td>0</td>\n",
       "    </tr>\n",
       "    <tr>\n",
       "      <th>...</th>\n",
       "      <td>...</td>\n",
       "      <td>...</td>\n",
       "      <td>...</td>\n",
       "      <td>...</td>\n",
       "      <td>...</td>\n",
       "      <td>...</td>\n",
       "    </tr>\n",
       "    <tr>\n",
       "      <th>1115</th>\n",
       "      <td>8.401831</td>\n",
       "      <td>5.314130</td>\n",
       "      <td>4.808138</td>\n",
       "      <td>16</td>\n",
       "      <td>1</td>\n",
       "      <td>0</td>\n",
       "    </tr>\n",
       "    <tr>\n",
       "      <th>1116</th>\n",
       "      <td>6.644282</td>\n",
       "      <td>4.947815</td>\n",
       "      <td>5.392057</td>\n",
       "      <td>2</td>\n",
       "      <td>1</td>\n",
       "      <td>0</td>\n",
       "    </tr>\n",
       "    <tr>\n",
       "      <th>1117</th>\n",
       "      <td>7.629650</td>\n",
       "      <td>4.989611</td>\n",
       "      <td>6.980204</td>\n",
       "      <td>9</td>\n",
       "      <td>1</td>\n",
       "      <td>0</td>\n",
       "    </tr>\n",
       "    <tr>\n",
       "      <th>1118</th>\n",
       "      <td>8.681235</td>\n",
       "      <td>5.776701</td>\n",
       "      <td>8.484583</td>\n",
       "      <td>9</td>\n",
       "      <td>1</td>\n",
       "      <td>0</td>\n",
       "    </tr>\n",
       "    <tr>\n",
       "      <th>1119</th>\n",
       "      <td>8.592443</td>\n",
       "      <td>4.060003</td>\n",
       "      <td>7.849113</td>\n",
       "      <td>2</td>\n",
       "      <td>1</td>\n",
       "      <td>0</td>\n",
       "    </tr>\n",
       "  </tbody>\n",
       "</table>\n",
       "<p>1120 rows × 6 columns</p>\n",
       "</div>"
      ],
      "text/plain": [
       "      hs_sleep  hs_study  prev_scores  practice  \\\n",
       "0     7.512345  5.072058     8.775325        14   \n",
       "1     7.645378  5.266626     8.351701         6   \n",
       "2     7.096499  3.071855     8.498025         2   \n",
       "3     6.454375  3.299192     9.913947         9   \n",
       "4     7.731830  2.091205     4.052463        17   \n",
       "...        ...       ...          ...       ...   \n",
       "1115  8.401831  5.314130     4.808138        16   \n",
       "1116  6.644282  4.947815     5.392057         2   \n",
       "1117  7.629650  4.989611     6.980204         9   \n",
       "1118  8.681235  5.776701     8.484583         9   \n",
       "1119  8.592443  4.060003     7.849113         2   \n",
       "\n",
       "      extracurricular_activities_False  extracurricular_activities_True  \n",
       "0                                    0                                1  \n",
       "1                                    0                                1  \n",
       "2                                    0                                1  \n",
       "3                                    1                                0  \n",
       "4                                    1                                0  \n",
       "...                                ...                              ...  \n",
       "1115                                 1                                0  \n",
       "1116                                 1                                0  \n",
       "1117                                 1                                0  \n",
       "1118                                 1                                0  \n",
       "1119                                 1                                0  \n",
       "\n",
       "[1120 rows x 6 columns]"
      ]
     },
     "execution_count": 4,
     "metadata": {},
     "output_type": "execute_result"
    }
   ],
   "source": [
    "data = one_hot_encoding(data, 'extracurricular_activities')\n",
    "train_data, test_data = train_test_split(data, test_size=0.2, seed=42)\n",
    "\n",
    "X_train = train_data.drop(columns=['forecasted_performance'])\n",
    "y_train = train_data['forecasted_performance'].values\n",
    "\n",
    "X_test = test_data.drop(columns=['forecasted_performance'])\n",
    "y_test = test_data['forecasted_performance'].values\n",
    "\n",
    "X_train"
   ]
  },
  {
   "cell_type": "code",
   "execution_count": 5,
   "metadata": {},
   "outputs": [
    {
     "name": "stdout",
     "output_type": "stream",
     "text": [
      "b.shape: (6, 1)\n",
      "W.shape: (6, 6)\n"
     ]
    },
    {
     "name": "stderr",
     "output_type": "stream",
     "text": [
      "  0%|          | 1/500 [00:00<01:24,  5.91it/s]"
     ]
    },
    {
     "name": "stderr",
     "output_type": "stream",
     "text": [
      "  0%|          | 2/500 [00:00<01:05,  7.65it/s]"
     ]
    },
    {
     "name": "stdout",
     "output_type": "stream",
     "text": [
      "Epoch 0: Train loss: 26310.304406657, Test loss: 654.299721503175\n",
      "Epoch 1: Train loss: 16616.545071439148, Test loss: 284.3926524464913\n",
      "Epoch 2: Train loss: 1911.6575559134042, Test loss: 185.75660677992454\n"
     ]
    },
    {
     "name": "stderr",
     "output_type": "stream",
     "text": [
      "  1%|          | 6/500 [00:00<00:40, 12.30it/s]"
     ]
    },
    {
     "name": "stdout",
     "output_type": "stream",
     "text": [
      "Epoch 3: Train loss: 3734.879464063519, Test loss: 141.9425307918632\n",
      "Epoch 4: Train loss: 1546.7227588823341, Test loss: 120.2394943892882\n",
      "Epoch 5: Train loss: 1019.0897468086603, Test loss: 104.92456303408136\n"
     ]
    },
    {
     "name": "stderr",
     "output_type": "stream",
     "text": [
      "  2%|▏         | 8/500 [00:00<00:37, 13.11it/s]"
     ]
    },
    {
     "name": "stdout",
     "output_type": "stream",
     "text": [
      "Epoch 6: Train loss: 1438.0935892393757, Test loss: 94.55591773210452\n",
      "Epoch 7: Train loss: 2198.2025822125056, Test loss: 86.2680425047947\n",
      "Epoch 8: Train loss: 1460.4223510071795, Test loss: 79.58879171803794\n"
     ]
    },
    {
     "name": "stderr",
     "output_type": "stream",
     "text": [
      "  2%|▏         | 12/500 [00:00<00:34, 14.06it/s]"
     ]
    },
    {
     "name": "stdout",
     "output_type": "stream",
     "text": [
      "Epoch 9: Train loss: 1448.3193663792688, Test loss: 74.23098638335536\n",
      "Epoch 10: Train loss: 1027.0423271807097, Test loss: 69.60682425362975\n",
      "Epoch 11: Train loss: 1191.6606165520739, Test loss: 65.50379231379458\n"
     ]
    },
    {
     "name": "stderr",
     "output_type": "stream",
     "text": [
      "  3%|▎         | 16/500 [00:01<00:32, 14.78it/s]"
     ]
    },
    {
     "name": "stdout",
     "output_type": "stream",
     "text": [
      "Epoch 12: Train loss: 844.0186669738592, Test loss: 61.73059055956264\n",
      "Epoch 13: Train loss: 986.7582428164125, Test loss: 58.31807732879023\n",
      "Epoch 14: Train loss: 509.79048632045766, Test loss: 55.1361295334467\n",
      "Epoch 15: Train loss: 1034.048157376119, Test loss: 52.18048874035655\n"
     ]
    },
    {
     "name": "stderr",
     "output_type": "stream",
     "text": [
      "  4%|▍         | 20/500 [00:01<00:32, 14.85it/s]"
     ]
    },
    {
     "name": "stdout",
     "output_type": "stream",
     "text": [
      "Epoch 16: Train loss: 596.4683735143223, Test loss: 49.55047128533772\n",
      "Epoch 17: Train loss: 689.0239777535476, Test loss: 47.1288849944611\n",
      "Epoch 18: Train loss: 890.1342957723091, Test loss: 44.924121178845816\n",
      "Epoch 19: Train loss: 719.9348334587769, Test loss: 42.837855941345914\n"
     ]
    },
    {
     "name": "stderr",
     "output_type": "stream",
     "text": [
      "  5%|▍         | 24/500 [00:01<00:32, 14.85it/s]"
     ]
    },
    {
     "name": "stdout",
     "output_type": "stream",
     "text": [
      "Epoch 20: Train loss: 1541.9361450957185, Test loss: 40.82129617865732\n",
      "Epoch 21: Train loss: 656.7234480494028, Test loss: 39.113429230378145\n",
      "Epoch 22: Train loss: 451.455301250294, Test loss: 37.512307894644096\n",
      "Epoch 23: Train loss: 368.704770524456, Test loss: 36.030195748215725\n"
     ]
    },
    {
     "name": "stderr",
     "output_type": "stream",
     "text": [
      "  5%|▌         | 26/500 [00:01<00:31, 14.86it/s]"
     ]
    },
    {
     "name": "stdout",
     "output_type": "stream",
     "text": [
      "Epoch 24: Train loss: 286.3728964018481, Test loss: 34.59828170565893\n",
      "Epoch 25: Train loss: 395.69075957022216, Test loss: 33.272828100594786\n",
      "Epoch 26: Train loss: 460.7188017271886, Test loss: 31.992141947201194\n"
     ]
    },
    {
     "name": "stderr",
     "output_type": "stream",
     "text": [
      "  6%|▌         | 28/500 [00:02<00:31, 14.75it/s]"
     ]
    },
    {
     "name": "stdout",
     "output_type": "stream",
     "text": [
      "Epoch 27: Train loss: 531.1745267248122, Test loss: 30.747307249465713\n",
      "Epoch 28: Train loss: 475.6134445604633, Test loss: 29.600982497086477\n"
     ]
    },
    {
     "name": "stderr",
     "output_type": "stream",
     "text": [
      "  6%|▋         | 32/500 [00:02<00:40, 11.69it/s]"
     ]
    },
    {
     "name": "stdout",
     "output_type": "stream",
     "text": [
      "Epoch 29: Train loss: 596.4048195356892, Test loss: 28.528053564814225\n",
      "Epoch 30: Train loss: 514.6984511465653, Test loss: 27.516666270822373\n",
      "Epoch 31: Train loss: 402.1339967438907, Test loss: 26.583920783288505\n"
     ]
    },
    {
     "name": "stderr",
     "output_type": "stream",
     "text": [
      "  7%|▋         | 36/500 [00:02<00:35, 13.21it/s]"
     ]
    },
    {
     "name": "stdout",
     "output_type": "stream",
     "text": [
      "Epoch 32: Train loss: 349.05461404828344, Test loss: 25.706676678628643\n",
      "Epoch 33: Train loss: 303.28678003481025, Test loss: 24.85275709600074\n",
      "Epoch 34: Train loss: 427.4699243880549, Test loss: 24.05177542742238\n",
      "Epoch 35: Train loss: 549.446999391231, Test loss: 23.2765545683094\n"
     ]
    },
    {
     "name": "stderr",
     "output_type": "stream",
     "text": [
      "  8%|▊         | 40/500 [00:02<00:32, 14.13it/s]"
     ]
    },
    {
     "name": "stdout",
     "output_type": "stream",
     "text": [
      "Epoch 36: Train loss: 1982.1104284965802, Test loss: 22.418929523355313\n",
      "Epoch 37: Train loss: 1220.0307672633319, Test loss: 21.658271180792443\n",
      "Epoch 38: Train loss: 264.4469056252969, Test loss: 20.994970249234232\n",
      "Epoch 39: Train loss: 282.1768877509685, Test loss: 20.37748241349862\n"
     ]
    },
    {
     "name": "stderr",
     "output_type": "stream",
     "text": [
      "  9%|▉         | 44/500 [00:03<00:31, 14.66it/s]"
     ]
    },
    {
     "name": "stdout",
     "output_type": "stream",
     "text": [
      "Epoch 40: Train loss: 200.85870935680103, Test loss: 19.79604429326879\n",
      "Epoch 41: Train loss: 185.16017944147373, Test loss: 19.246637839428622\n",
      "Epoch 42: Train loss: 150.5875443921922, Test loss: 18.729535466798996\n",
      "Epoch 43: Train loss: 263.0794551923803, Test loss: 18.237366640740355\n"
     ]
    },
    {
     "name": "stderr",
     "output_type": "stream",
     "text": [
      " 10%|▉         | 48/500 [00:03<00:30, 15.00it/s]"
     ]
    },
    {
     "name": "stdout",
     "output_type": "stream",
     "text": [
      "Epoch 44: Train loss: 169.8657935314036, Test loss: 17.773323179081068\n",
      "Epoch 45: Train loss: 586.6144124690668, Test loss: 17.317418636563893\n",
      "Epoch 46: Train loss: 631.487524105976, Test loss: 16.86833682384268\n",
      "Epoch 47: Train loss: 210.4413871492578, Test loss: 16.46525559838106\n"
     ]
    },
    {
     "name": "stderr",
     "output_type": "stream",
     "text": [
      " 10%|█         | 52/500 [00:03<00:29, 15.24it/s]"
     ]
    },
    {
     "name": "stdout",
     "output_type": "stream",
     "text": [
      "Epoch 48: Train loss: 117.65812264848539, Test loss: 16.075645100758294\n",
      "Epoch 49: Train loss: 249.70742079159808, Test loss: 15.689715284324475\n",
      "Epoch 50: Train loss: 194.13222233931884, Test loss: 15.319876495583097\n",
      "Epoch 51: Train loss: 158.2790860883872, Test loss: 14.973258147837821\n"
     ]
    },
    {
     "name": "stderr",
     "output_type": "stream",
     "text": [
      " 11%|█         | 56/500 [00:04<00:28, 15.36it/s]"
     ]
    },
    {
     "name": "stdout",
     "output_type": "stream",
     "text": [
      "Epoch 52: Train loss: 459.28049279998635, Test loss: 14.635815723694531\n",
      "Epoch 53: Train loss: 173.71987968982071, Test loss: 14.318871505157057\n",
      "Epoch 54: Train loss: 163.05597915398658, Test loss: 14.029068006482225\n",
      "Epoch 55: Train loss: 192.51012709663647, Test loss: 13.739715714952071\n"
     ]
    },
    {
     "name": "stderr",
     "output_type": "stream",
     "text": [
      " 12%|█▏        | 60/500 [00:04<00:28, 15.41it/s]"
     ]
    },
    {
     "name": "stdout",
     "output_type": "stream",
     "text": [
      "Epoch 56: Train loss: 280.4283619982645, Test loss: 13.460074541105282\n",
      "Epoch 57: Train loss: 73.81723700299803, Test loss: 13.198094532471169\n",
      "Epoch 58: Train loss: 162.61882638253718, Test loss: 12.967522171701795\n",
      "Epoch 59: Train loss: 146.2692424644102, Test loss: 12.746557848164462\n"
     ]
    },
    {
     "name": "stderr",
     "output_type": "stream",
     "text": [
      " 13%|█▎        | 64/500 [00:04<00:28, 15.41it/s]"
     ]
    },
    {
     "name": "stdout",
     "output_type": "stream",
     "text": [
      "Epoch 60: Train loss: 175.38823543640973, Test loss: 12.533842757721516\n",
      "Epoch 61: Train loss: 168.71094570346875, Test loss: 12.330706655811273\n",
      "Epoch 62: Train loss: 89.71705047189626, Test loss: 12.139292923806535\n",
      "Epoch 63: Train loss: 145.2956159128944, Test loss: 11.955071003672131\n"
     ]
    },
    {
     "name": "stderr",
     "output_type": "stream",
     "text": [
      " 14%|█▎        | 68/500 [00:04<00:28, 15.37it/s]"
     ]
    },
    {
     "name": "stdout",
     "output_type": "stream",
     "text": [
      "Epoch 64: Train loss: 764.0015830704968, Test loss: 11.7489343561276\n",
      "Epoch 65: Train loss: 99.9729118065114, Test loss: 11.578439486534817\n",
      "Epoch 66: Train loss: 175.92057864856318, Test loss: 11.413744944254661\n",
      "Epoch 67: Train loss: 177.00014633012924, Test loss: 11.259177962185422\n"
     ]
    },
    {
     "name": "stderr",
     "output_type": "stream",
     "text": [
      " 14%|█▍        | 70/500 [00:04<00:27, 15.38it/s]"
     ]
    },
    {
     "name": "stdout",
     "output_type": "stream",
     "text": [
      "Epoch 68: Train loss: 144.57981671096758, Test loss: 11.111443997884981\n",
      "Epoch 69: Train loss: 202.39190913115212, Test loss: 10.967208905666316\n",
      "Epoch 70: Train loss: 336.92713529191457, Test loss: 10.827606236074024\n"
     ]
    },
    {
     "name": "stderr",
     "output_type": "stream",
     "text": [
      " 15%|█▍        | 74/500 [00:05<00:31, 13.57it/s]"
     ]
    },
    {
     "name": "stdout",
     "output_type": "stream",
     "text": [
      "Epoch 71: Train loss: 286.5841842216525, Test loss: 10.693282524614975\n",
      "Epoch 72: Train loss: 251.9727294584116, Test loss: 10.562785519093575\n",
      "Epoch 73: Train loss: 300.6371503551421, Test loss: 10.439022860389162\n",
      "Epoch 74: Train loss: 641.5936592453903, Test loss: 10.313696117516717\n"
     ]
    },
    {
     "name": "stderr",
     "output_type": "stream",
     "text": [
      " 16%|█▌        | 78/500 [00:05<00:29, 14.43it/s]"
     ]
    },
    {
     "name": "stdout",
     "output_type": "stream",
     "text": [
      "Epoch 75: Train loss: 144.44888896434205, Test loss: 10.213901196367098\n",
      "Epoch 76: Train loss: 154.89831973342078, Test loss: 10.117900569876113\n",
      "Epoch 77: Train loss: 167.2956547160926, Test loss: 10.022748818069214\n",
      "Epoch 78: Train loss: 91.00958478065708, Test loss: 9.931382465354927\n"
     ]
    },
    {
     "name": "stderr",
     "output_type": "stream",
     "text": [
      " 16%|█▋        | 82/500 [00:05<00:28, 14.84it/s]"
     ]
    },
    {
     "name": "stdout",
     "output_type": "stream",
     "text": [
      "Epoch 79: Train loss: 114.74375520459171, Test loss: 9.84062419012953\n",
      "Epoch 80: Train loss: 127.31447745137145, Test loss: 9.754070583654235\n",
      "Epoch 81: Train loss: 163.6850568251839, Test loss: 9.669682760371241\n",
      "Epoch 82: Train loss: 431.0260027703134, Test loss: 9.5879415477216\n"
     ]
    },
    {
     "name": "stderr",
     "output_type": "stream",
     "text": [
      " 17%|█▋        | 86/500 [00:06<00:27, 15.15it/s]"
     ]
    },
    {
     "name": "stdout",
     "output_type": "stream",
     "text": [
      "Epoch 83: Train loss: 231.26700108514382, Test loss: 9.506604593983486\n",
      "Epoch 84: Train loss: 138.62591822516774, Test loss: 9.42599995677673\n",
      "Epoch 85: Train loss: 482.56991710861206, Test loss: 9.349601968761455\n",
      "Epoch 86: Train loss: 120.73472804517696, Test loss: 9.274814506695755\n"
     ]
    },
    {
     "name": "stderr",
     "output_type": "stream",
     "text": [
      " 18%|█▊        | 90/500 [00:06<00:26, 15.33it/s]"
     ]
    },
    {
     "name": "stdout",
     "output_type": "stream",
     "text": [
      "Epoch 87: Train loss: 195.6046819813026, Test loss: 9.200549456788698\n",
      "Epoch 88: Train loss: 135.83377109213077, Test loss: 9.132506719528307\n",
      "Epoch 89: Train loss: 159.911352767613, Test loss: 9.063675961535768\n",
      "Epoch 90: Train loss: 572.7980173159102, Test loss: 8.993833782663778\n"
     ]
    },
    {
     "name": "stderr",
     "output_type": "stream",
     "text": [
      " 19%|█▉        | 94/500 [00:06<00:26, 15.39it/s]"
     ]
    },
    {
     "name": "stdout",
     "output_type": "stream",
     "text": [
      "Epoch 91: Train loss: 160.6029790082342, Test loss: 8.93020714271299\n",
      "Epoch 92: Train loss: 103.72792354823174, Test loss: 8.867675816951973\n",
      "Epoch 93: Train loss: 139.69820722722682, Test loss: 8.807853947788171\n",
      "Epoch 94: Train loss: 119.1892329191911, Test loss: 8.748002673404624\n"
     ]
    },
    {
     "name": "stderr",
     "output_type": "stream",
     "text": [
      " 20%|█▉        | 98/500 [00:06<00:26, 15.42it/s]"
     ]
    },
    {
     "name": "stdout",
     "output_type": "stream",
     "text": [
      "Epoch 95: Train loss: 106.07220934804634, Test loss: 8.690632060364745\n",
      "Epoch 96: Train loss: 141.8352762568761, Test loss: 8.63438379415416\n",
      "Epoch 97: Train loss: 96.09047206285443, Test loss: 8.579640225624924\n",
      "Epoch 98: Train loss: 107.03390700951755, Test loss: 8.526261713697442\n"
     ]
    },
    {
     "name": "stderr",
     "output_type": "stream",
     "text": [
      " 20%|██        | 102/500 [00:07<00:25, 15.47it/s]"
     ]
    },
    {
     "name": "stdout",
     "output_type": "stream",
     "text": [
      "Epoch 99: Train loss: 77.51104747925274, Test loss: 8.473590436936485\n",
      "Epoch 100: Train loss: 136.0967908196658, Test loss: 8.422363213634199\n",
      "Epoch 101: Train loss: 100.88652086346164, Test loss: 8.372704362394936\n",
      "Epoch 102: Train loss: 391.36720976594415, Test loss: 8.321357208734023\n"
     ]
    },
    {
     "name": "stderr",
     "output_type": "stream",
     "text": [
      " 21%|██        | 106/500 [00:07<00:25, 15.49it/s]"
     ]
    },
    {
     "name": "stdout",
     "output_type": "stream",
     "text": [
      "Epoch 103: Train loss: 127.3407032388161, Test loss: 8.275023473617884\n",
      "Epoch 104: Train loss: 178.27584126036132, Test loss: 8.229172101153603\n",
      "Epoch 105: Train loss: 193.91359958879087, Test loss: 8.179464745786795\n",
      "Epoch 106: Train loss: 118.58390142560373, Test loss: 8.133759382503454\n"
     ]
    },
    {
     "name": "stderr",
     "output_type": "stream",
     "text": [
      " 22%|██▏       | 110/500 [00:07<00:25, 15.47it/s]"
     ]
    },
    {
     "name": "stdout",
     "output_type": "stream",
     "text": [
      "Epoch 107: Train loss: 145.42500229374028, Test loss: 8.088526802890835\n",
      "Epoch 108: Train loss: 83.15312243326034, Test loss: 8.044967358045426\n",
      "Epoch 109: Train loss: 102.89523256521008, Test loss: 8.002027888764111\n",
      "Epoch 110: Train loss: 74.243941632442, Test loss: 7.958460109098769\n"
     ]
    },
    {
     "name": "stderr",
     "output_type": "stream",
     "text": [
      " 23%|██▎       | 114/500 [00:07<00:26, 14.56it/s]"
     ]
    },
    {
     "name": "stdout",
     "output_type": "stream",
     "text": [
      "Epoch 111: Train loss: 146.23077089261687, Test loss: 7.916283644067328\n",
      "Epoch 112: Train loss: 148.43048981287586, Test loss: 7.873542875723762\n",
      "Epoch 113: Train loss: 81.50827081675422, Test loss: 7.830885081249899\n"
     ]
    },
    {
     "name": "stderr",
     "output_type": "stream",
     "text": [
      " 24%|██▎       | 118/500 [00:08<00:25, 15.02it/s]"
     ]
    },
    {
     "name": "stdout",
     "output_type": "stream",
     "text": [
      "Epoch 114: Train loss: 176.72710525939274, Test loss: 7.788573478030064\n",
      "Epoch 115: Train loss: 97.57547350002207, Test loss: 7.74906324918315\n",
      "Epoch 116: Train loss: 124.24912499393214, Test loss: 7.710246332102768\n",
      "Epoch 117: Train loss: 111.93443339617966, Test loss: 7.6700909505843695\n"
     ]
    },
    {
     "name": "stderr",
     "output_type": "stream",
     "text": [
      " 24%|██▍       | 122/500 [00:08<00:24, 15.22it/s]"
     ]
    },
    {
     "name": "stdout",
     "output_type": "stream",
     "text": [
      "Epoch 118: Train loss: 122.1893571211522, Test loss: 7.632044519903744\n",
      "Epoch 119: Train loss: 275.4881039623622, Test loss: 7.593781998406944\n",
      "Epoch 120: Train loss: 122.17475204304287, Test loss: 7.557383419393151\n",
      "Epoch 121: Train loss: 107.73405026698097, Test loss: 7.521689125953815\n"
     ]
    },
    {
     "name": "stderr",
     "output_type": "stream",
     "text": [
      " 25%|██▌       | 126/500 [00:08<00:24, 15.36it/s]"
     ]
    },
    {
     "name": "stdout",
     "output_type": "stream",
     "text": [
      "Epoch 122: Train loss: 171.4963226958518, Test loss: 7.486595841275255\n",
      "Epoch 123: Train loss: 134.93672628283363, Test loss: 7.452296716156991\n",
      "Epoch 124: Train loss: 102.00689355276982, Test loss: 7.419976678677192\n",
      "Epoch 125: Train loss: 173.58371519261334, Test loss: 7.387336270329674\n"
     ]
    },
    {
     "name": "stderr",
     "output_type": "stream",
     "text": [
      " 26%|██▌       | 130/500 [00:08<00:24, 15.40it/s]"
     ]
    },
    {
     "name": "stdout",
     "output_type": "stream",
     "text": [
      "Epoch 126: Train loss: 78.86474689353149, Test loss: 7.354275476799242\n",
      "Epoch 127: Train loss: 123.64979628395344, Test loss: 7.3217654712895\n",
      "Epoch 128: Train loss: 97.46559889964878, Test loss: 7.291579537753722\n",
      "Epoch 129: Train loss: 333.49937688212935, Test loss: 7.245509500720229\n"
     ]
    },
    {
     "name": "stderr",
     "output_type": "stream",
     "text": [
      " 27%|██▋       | 134/500 [00:09<00:23, 15.38it/s]"
     ]
    },
    {
     "name": "stdout",
     "output_type": "stream",
     "text": [
      "Epoch 130: Train loss: 153.66485845662322, Test loss: 7.213953690448285\n",
      "Epoch 131: Train loss: 77.31478085324619, Test loss: 7.184994398318408\n",
      "Epoch 132: Train loss: 169.69511457208003, Test loss: 7.156740214900343\n",
      "Epoch 133: Train loss: 138.4893914517674, Test loss: 7.1265431791623906\n"
     ]
    },
    {
     "name": "stderr",
     "output_type": "stream",
     "text": [
      " 28%|██▊       | 138/500 [00:09<00:23, 15.38it/s]"
     ]
    },
    {
     "name": "stdout",
     "output_type": "stream",
     "text": [
      "Epoch 134: Train loss: 140.47584611218394, Test loss: 7.098482803703352\n",
      "Epoch 135: Train loss: 313.06956161562493, Test loss: 7.070011359525167\n",
      "Epoch 136: Train loss: 118.83810194992918, Test loss: 7.041766591704667\n",
      "Epoch 137: Train loss: 127.04290626509507, Test loss: 7.016759106327404\n"
     ]
    },
    {
     "name": "stderr",
     "output_type": "stream",
     "text": [
      " 28%|██▊       | 142/500 [00:09<00:23, 15.43it/s]"
     ]
    },
    {
     "name": "stdout",
     "output_type": "stream",
     "text": [
      "Epoch 138: Train loss: 139.08316202532367, Test loss: 6.9879958923619325\n",
      "Epoch 139: Train loss: 92.84557972132555, Test loss: 6.961528136600934\n",
      "Epoch 140: Train loss: 166.31425430850555, Test loss: 6.936696133476158\n",
      "Epoch 141: Train loss: 322.2789134419269, Test loss: 6.909363394448463\n"
     ]
    },
    {
     "name": "stderr",
     "output_type": "stream",
     "text": [
      " 29%|██▉       | 146/500 [00:09<00:22, 15.41it/s]"
     ]
    },
    {
     "name": "stdout",
     "output_type": "stream",
     "text": [
      "Epoch 142: Train loss: 111.9794655480088, Test loss: 6.883467725171528\n",
      "Epoch 143: Train loss: 178.7779206307208, Test loss: 6.8597205990538\n",
      "Epoch 144: Train loss: 390.5593877568297, Test loss: 6.834653905837442\n",
      "Epoch 145: Train loss: 90.61015411168451, Test loss: 6.812165833114949\n"
     ]
    },
    {
     "name": "stderr",
     "output_type": "stream",
     "text": [
      " 30%|███       | 150/500 [00:10<00:22, 15.43it/s]"
     ]
    },
    {
     "name": "stdout",
     "output_type": "stream",
     "text": [
      "Epoch 146: Train loss: 101.23287467578754, Test loss: 6.789341058761547\n",
      "Epoch 147: Train loss: 154.48609678294983, Test loss: 6.767200977760889\n",
      "Epoch 148: Train loss: 92.36697116855431, Test loss: 6.745507528441114\n",
      "Epoch 149: Train loss: 184.68886612467315, Test loss: 6.724499901083377\n"
     ]
    },
    {
     "name": "stderr",
     "output_type": "stream",
     "text": [
      " 30%|███       | 152/500 [00:10<00:23, 14.65it/s]"
     ]
    },
    {
     "name": "stdout",
     "output_type": "stream",
     "text": [
      "Epoch 150: Train loss: 112.98058021859836, Test loss: 6.69799193828921\n",
      "Epoch 151: Train loss: 98.83019176447671, Test loss: 6.675369968463985\n",
      "Epoch 152: Train loss: 121.695527330916, Test loss: 6.652994210663349\n"
     ]
    },
    {
     "name": "stderr",
     "output_type": "stream",
     "text": [
      " 31%|███       | 156/500 [00:10<00:23, 14.91it/s]"
     ]
    },
    {
     "name": "stdout",
     "output_type": "stream",
     "text": [
      "Epoch 153: Train loss: 95.36029563361276, Test loss: 6.631804578192018\n",
      "Epoch 154: Train loss: 137.64263718491407, Test loss: 6.610015317490459\n",
      "Epoch 155: Train loss: 93.10473474139896, Test loss: 6.589051126012507\n",
      "Epoch 156: Train loss: 90.78630930401653, Test loss: 6.570038742789912\n"
     ]
    },
    {
     "name": "stderr",
     "output_type": "stream",
     "text": [
      " 32%|███▏      | 160/500 [00:10<00:22, 15.16it/s]"
     ]
    },
    {
     "name": "stdout",
     "output_type": "stream",
     "text": [
      "Epoch 157: Train loss: 148.3640348623574, Test loss: 6.551574179773646\n",
      "Epoch 158: Train loss: 127.19481442247836, Test loss: 6.526617307973661\n",
      "Epoch 159: Train loss: 366.8300797250149, Test loss: 6.510471002755635\n"
     ]
    },
    {
     "name": "stderr",
     "output_type": "stream",
     "text": [
      " 32%|███▏      | 162/500 [00:11<00:26, 12.94it/s]"
     ]
    },
    {
     "name": "stdout",
     "output_type": "stream",
     "text": [
      "Epoch 160: Train loss: 116.25276495229545, Test loss: 6.491578110252846\n",
      "Epoch 161: Train loss: 151.39242843373364, Test loss: 6.4688177073938\n",
      "Epoch 162: Train loss: 127.47219857609902, Test loss: 6.450741064073618\n"
     ]
    },
    {
     "name": "stderr",
     "output_type": "stream",
     "text": [
      " 33%|███▎      | 166/500 [00:11<00:23, 14.03it/s]"
     ]
    },
    {
     "name": "stdout",
     "output_type": "stream",
     "text": [
      "Epoch 163: Train loss: 106.56459190373273, Test loss: 6.4321681887658935\n",
      "Epoch 164: Train loss: 83.25261722176005, Test loss: 6.414501622509635\n",
      "Epoch 165: Train loss: 116.24702580243442, Test loss: 6.397043111965864\n",
      "Epoch 166: Train loss: 179.9358357686669, Test loss: 6.381431322573922\n"
     ]
    },
    {
     "name": "stderr",
     "output_type": "stream",
     "text": [
      " 34%|███▍      | 170/500 [00:11<00:22, 14.70it/s]"
     ]
    },
    {
     "name": "stdout",
     "output_type": "stream",
     "text": [
      "Epoch 167: Train loss: 90.82190970995651, Test loss: 6.363100633064718\n",
      "Epoch 168: Train loss: 110.79066648192202, Test loss: 6.343147172546513\n",
      "Epoch 169: Train loss: 123.8825659595452, Test loss: 6.326147493961199\n"
     ]
    },
    {
     "name": "stderr",
     "output_type": "stream",
     "text": [
      " 35%|███▍      | 174/500 [00:11<00:22, 14.18it/s]"
     ]
    },
    {
     "name": "stdout",
     "output_type": "stream",
     "text": [
      "Epoch 170: Train loss: 106.88941065046477, Test loss: 6.309075021821268\n",
      "Epoch 171: Train loss: 119.60046934739297, Test loss: 6.292613950669228\n",
      "Epoch 172: Train loss: 69.12230619020579, Test loss: 6.276180800124787\n",
      "Epoch 173: Train loss: 140.5158314907238, Test loss: 6.26160551275425\n"
     ]
    },
    {
     "name": "stderr",
     "output_type": "stream",
     "text": [
      " 36%|███▌      | 178/500 [00:12<00:21, 14.81it/s]"
     ]
    },
    {
     "name": "stdout",
     "output_type": "stream",
     "text": [
      "Epoch 174: Train loss: 103.99782619225522, Test loss: 6.2451163662391584\n",
      "Epoch 175: Train loss: 118.41538715690723, Test loss: 6.228920309766175\n",
      "Epoch 176: Train loss: 126.66272403452652, Test loss: 6.212441162369356\n",
      "Epoch 177: Train loss: 208.01634824675654, Test loss: 6.189862223040001\n"
     ]
    },
    {
     "name": "stderr",
     "output_type": "stream",
     "text": [
      " 36%|███▋      | 182/500 [00:12<00:21, 15.11it/s]"
     ]
    },
    {
     "name": "stdout",
     "output_type": "stream",
     "text": [
      "Epoch 178: Train loss: 124.97154896760237, Test loss: 6.175529769481113\n",
      "Epoch 179: Train loss: 255.07649760169758, Test loss: 6.159980392395472\n",
      "Epoch 180: Train loss: 133.22653141420335, Test loss: 6.144934202605625\n",
      "Epoch 181: Train loss: 127.15724627714833, Test loss: 6.131090323539982\n"
     ]
    },
    {
     "name": "stderr",
     "output_type": "stream",
     "text": [
      " 37%|███▋      | 184/500 [00:12<00:20, 15.20it/s]"
     ]
    },
    {
     "name": "stdout",
     "output_type": "stream",
     "text": [
      "Epoch 182: Train loss: 90.55523284320991, Test loss: 6.1163863584152285\n",
      "Epoch 183: Train loss: 298.58811029468734, Test loss: 6.100981080520311\n",
      "Epoch 184: Train loss: 118.9274393822525, Test loss: 6.086326043669076\n"
     ]
    },
    {
     "name": "stderr",
     "output_type": "stream",
     "text": [
      " 38%|███▊      | 188/500 [00:12<00:22, 14.14it/s]"
     ]
    },
    {
     "name": "stdout",
     "output_type": "stream",
     "text": [
      "Epoch 185: Train loss: 226.39149083283715, Test loss: 6.0724370967293995\n",
      "Epoch 186: Train loss: 85.67748034530693, Test loss: 6.05981025035211\n",
      "Epoch 187: Train loss: 223.06475472397958, Test loss: 6.038931479163799\n",
      "Epoch 188: Train loss: 86.41179319421978, Test loss: 6.025347968443545\n"
     ]
    },
    {
     "name": "stderr",
     "output_type": "stream",
     "text": [
      " 38%|███▊      | 192/500 [00:13<00:20, 14.77it/s]"
     ]
    },
    {
     "name": "stdout",
     "output_type": "stream",
     "text": [
      "Epoch 189: Train loss: 109.01788968352719, Test loss: 6.0120681364918305\n",
      "Epoch 190: Train loss: 154.9526779690406, Test loss: 6.0004606464651955\n",
      "Epoch 191: Train loss: 100.3402660103017, Test loss: 5.988578965631609\n",
      "Epoch 192: Train loss: 114.13644185290319, Test loss: 5.974048042224358\n"
     ]
    },
    {
     "name": "stderr",
     "output_type": "stream",
     "text": [
      " 39%|███▉      | 196/500 [00:13<00:20, 14.92it/s]"
     ]
    },
    {
     "name": "stdout",
     "output_type": "stream",
     "text": [
      "Epoch 193: Train loss: 68.36744317421797, Test loss: 5.962076332919437\n",
      "Epoch 194: Train loss: 160.31280481506053, Test loss: 5.950670302796187\n",
      "Epoch 195: Train loss: 116.0295437209328, Test loss: 5.939811797299153\n",
      "Epoch 196: Train loss: 106.83054406071331, Test loss: 5.92638319593823\n"
     ]
    },
    {
     "name": "stderr",
     "output_type": "stream",
     "text": [
      " 40%|████      | 200/500 [00:13<00:19, 15.17it/s]"
     ]
    },
    {
     "name": "stdout",
     "output_type": "stream",
     "text": [
      "Epoch 197: Train loss: 122.88788238250774, Test loss: 5.913613125957663\n",
      "Epoch 198: Train loss: 76.17560498922897, Test loss: 5.902525305848769\n",
      "Epoch 199: Train loss: 134.35278331873147, Test loss: 5.890501150793874\n",
      "Epoch 200: Train loss: 114.78573827472866, Test loss: 5.878947106781677\n"
     ]
    },
    {
     "name": "stderr",
     "output_type": "stream",
     "text": [
      " 41%|████      | 204/500 [00:13<00:19, 15.31it/s]"
     ]
    },
    {
     "name": "stdout",
     "output_type": "stream",
     "text": [
      "Epoch 201: Train loss: 223.8466521589634, Test loss: 5.866784569021627\n",
      "Epoch 202: Train loss: 95.1171629857398, Test loss: 5.85509218160538\n",
      "Epoch 203: Train loss: 75.14720781767986, Test loss: 5.844090793869797\n",
      "Epoch 204: Train loss: 263.9223342232934, Test loss: 5.832948491600251\n"
     ]
    },
    {
     "name": "stderr",
     "output_type": "stream",
     "text": [
      " 42%|████▏     | 208/500 [00:14<00:18, 15.43it/s]"
     ]
    },
    {
     "name": "stdout",
     "output_type": "stream",
     "text": [
      "Epoch 205: Train loss: 138.30932348373472, Test loss: 5.821437627319455\n",
      "Epoch 206: Train loss: 93.75961922071576, Test loss: 5.810738579707204\n",
      "Epoch 207: Train loss: 167.88494027168548, Test loss: 5.8001147396586\n",
      "Epoch 208: Train loss: 120.26001086178927, Test loss: 5.7877671507297705\n"
     ]
    },
    {
     "name": "stderr",
     "output_type": "stream",
     "text": [
      " 42%|████▏     | 212/500 [00:14<00:19, 15.08it/s]"
     ]
    },
    {
     "name": "stdout",
     "output_type": "stream",
     "text": [
      "Epoch 209: Train loss: 151.73716282957585, Test loss: 5.777400659039053\n",
      "Epoch 210: Train loss: 107.67299659666672, Test loss: 5.768919455957621\n",
      "Epoch 211: Train loss: 138.72694647881238, Test loss: 5.756972351719104\n"
     ]
    },
    {
     "name": "stderr",
     "output_type": "stream",
     "text": [
      " 43%|████▎     | 216/500 [00:14<00:18, 15.28it/s]"
     ]
    },
    {
     "name": "stdout",
     "output_type": "stream",
     "text": [
      "Epoch 212: Train loss: 117.50711889268845, Test loss: 5.74701479758599\n",
      "Epoch 213: Train loss: 161.12580085198303, Test loss: 5.736766539349862\n",
      "Epoch 214: Train loss: 103.01923179667602, Test loss: 5.728481243663791\n",
      "Epoch 215: Train loss: 127.91854139651335, Test loss: 5.719152290001477\n"
     ]
    },
    {
     "name": "stderr",
     "output_type": "stream",
     "text": [
      " 44%|████▍     | 220/500 [00:14<00:18, 15.38it/s]"
     ]
    },
    {
     "name": "stdout",
     "output_type": "stream",
     "text": [
      "Epoch 216: Train loss: 161.13664690457358, Test loss: 5.708764499437425\n",
      "Epoch 217: Train loss: 119.76928849748803, Test loss: 5.697041597114038\n",
      "Epoch 218: Train loss: 104.02038914166731, Test loss: 5.688527218428665\n",
      "Epoch 219: Train loss: 95.06272829151291, Test loss: 5.677759505061031\n"
     ]
    },
    {
     "name": "stderr",
     "output_type": "stream",
     "text": [
      " 45%|████▍     | 224/500 [00:15<00:17, 15.40it/s]"
     ]
    },
    {
     "name": "stdout",
     "output_type": "stream",
     "text": [
      "Epoch 220: Train loss: 94.42144073737039, Test loss: 5.66618207034111\n",
      "Epoch 221: Train loss: 150.89424963619663, Test loss: 5.6561402557997225\n",
      "Epoch 222: Train loss: 125.35730569653295, Test loss: 5.646759688814354\n",
      "Epoch 223: Train loss: 149.40010005596588, Test loss: 5.6373168798386555\n"
     ]
    },
    {
     "name": "stderr",
     "output_type": "stream",
     "text": [
      " 45%|████▌     | 226/500 [00:15<00:20, 13.68it/s]"
     ]
    },
    {
     "name": "stdout",
     "output_type": "stream",
     "text": [
      "Epoch 224: Train loss: 94.14703264659131, Test loss: 5.628610451384035\n",
      "Epoch 225: Train loss: 160.0585569192868, Test loss: 5.61957622831454\n",
      "Epoch 226: Train loss: 97.98578375485792, Test loss: 5.610148009333177\n"
     ]
    },
    {
     "name": "stderr",
     "output_type": "stream",
     "text": [
      " 46%|████▋     | 232/500 [00:15<00:18, 14.81it/s]"
     ]
    },
    {
     "name": "stdout",
     "output_type": "stream",
     "text": [
      "Epoch 227: Train loss: 117.14408234798753, Test loss: 5.60154218552204\n",
      "Epoch 228: Train loss: 69.13313839399765, Test loss: 5.59277941910638\n",
      "Epoch 229: Train loss: 63.65267806152886, Test loss: 5.584243215823666\n",
      "Epoch 230: Train loss: 158.34016596679137, Test loss: 5.574475962745388\n",
      "Epoch 231: Train loss: 174.05576296117957, Test loss: 5.565450093927926\n"
     ]
    },
    {
     "name": "stderr",
     "output_type": "stream",
     "text": [
      " 47%|████▋     | 236/500 [00:16<00:17, 15.13it/s]"
     ]
    },
    {
     "name": "stdout",
     "output_type": "stream",
     "text": [
      "Epoch 232: Train loss: 134.89633555248082, Test loss: 5.556592186512964\n",
      "Epoch 233: Train loss: 114.51894425268826, Test loss: 5.54839561190762\n",
      "Epoch 234: Train loss: 206.36025612010084, Test loss: 5.540428256205397\n",
      "Epoch 235: Train loss: 62.651998027257235, Test loss: 5.53132203204011\n"
     ]
    },
    {
     "name": "stderr",
     "output_type": "stream",
     "text": [
      " 48%|████▊     | 240/500 [00:16<00:16, 15.30it/s]"
     ]
    },
    {
     "name": "stdout",
     "output_type": "stream",
     "text": [
      "Epoch 236: Train loss: 95.616226817691, Test loss: 5.521637889222092\n",
      "Epoch 237: Train loss: 108.54302341287955, Test loss: 5.514854240842685\n",
      "Epoch 238: Train loss: 131.78818498065678, Test loss: 5.506001924184352\n",
      "Epoch 239: Train loss: 143.1315540886538, Test loss: 5.498082344002127\n"
     ]
    },
    {
     "name": "stderr",
     "output_type": "stream",
     "text": [
      " 49%|████▉     | 244/500 [00:16<00:16, 15.36it/s]"
     ]
    },
    {
     "name": "stdout",
     "output_type": "stream",
     "text": [
      "Epoch 240: Train loss: 82.34699675803344, Test loss: 5.489983826281143\n",
      "Epoch 241: Train loss: 80.51299584412693, Test loss: 5.480251803520594\n",
      "Epoch 242: Train loss: 103.60679286557897, Test loss: 5.474737804466353\n",
      "Epoch 243: Train loss: 132.60424520892062, Test loss: 5.467011636407283\n"
     ]
    },
    {
     "name": "stderr",
     "output_type": "stream",
     "text": [
      " 50%|████▉     | 248/500 [00:16<00:16, 15.42it/s]"
     ]
    },
    {
     "name": "stdout",
     "output_type": "stream",
     "text": [
      "Epoch 244: Train loss: 68.62257329400823, Test loss: 5.461033623144086\n",
      "Epoch 245: Train loss: 124.80190429006907, Test loss: 5.4514760202270205\n",
      "Epoch 246: Train loss: 116.24534685271226, Test loss: 5.44211152888857\n",
      "Epoch 247: Train loss: 163.59594204054804, Test loss: 5.433511157977716\n"
     ]
    },
    {
     "name": "stderr",
     "output_type": "stream",
     "text": [
      " 50%|█████     | 252/500 [00:17<00:16, 15.42it/s]"
     ]
    },
    {
     "name": "stdout",
     "output_type": "stream",
     "text": [
      "Epoch 248: Train loss: 107.0067174929336, Test loss: 5.425808929000929\n",
      "Epoch 249: Train loss: 87.25472311920569, Test loss: 5.418424663694101\n",
      "Epoch 250: Train loss: 122.12543576756407, Test loss: 5.410873482379203\n",
      "Epoch 251: Train loss: 118.00855654377445, Test loss: 5.404174980272567\n"
     ]
    },
    {
     "name": "stderr",
     "output_type": "stream",
     "text": [
      " 51%|█████     | 256/500 [00:17<00:15, 15.37it/s]"
     ]
    },
    {
     "name": "stdout",
     "output_type": "stream",
     "text": [
      "Epoch 252: Train loss: 130.5162241540894, Test loss: 5.398879643869942\n",
      "Epoch 253: Train loss: 141.60260375784256, Test loss: 5.391063942263817\n",
      "Epoch 254: Train loss: 117.66999143374103, Test loss: 5.382965168211963\n",
      "Epoch 255: Train loss: 107.35966984770273, Test loss: 5.376570546721095\n"
     ]
    },
    {
     "name": "stderr",
     "output_type": "stream",
     "text": [
      " 52%|█████▏    | 260/500 [00:17<00:15, 15.38it/s]"
     ]
    },
    {
     "name": "stdout",
     "output_type": "stream",
     "text": [
      "Epoch 256: Train loss: 114.02803223692604, Test loss: 5.3701763128009805\n",
      "Epoch 257: Train loss: 95.06420500922475, Test loss: 5.362513759822253\n",
      "Epoch 258: Train loss: 96.03877491761486, Test loss: 5.357232431873127\n",
      "Epoch 259: Train loss: 141.0848229547221, Test loss: 5.349150953797012\n"
     ]
    },
    {
     "name": "stderr",
     "output_type": "stream",
     "text": [
      " 52%|█████▏    | 262/500 [00:17<00:15, 15.34it/s]"
     ]
    },
    {
     "name": "stdout",
     "output_type": "stream",
     "text": [
      "Epoch 260: Train loss: 90.42875049630368, Test loss: 5.342150965905267\n",
      "Epoch 261: Train loss: 110.69615103764463, Test loss: 5.336277077474693\n",
      "Epoch 262: Train loss: 198.5589486501516, Test loss: 5.3290040729241195\n"
     ]
    },
    {
     "name": "stderr",
     "output_type": "stream",
     "text": [
      " 53%|█████▎    | 266/500 [00:18<00:16, 14.61it/s]"
     ]
    },
    {
     "name": "stdout",
     "output_type": "stream",
     "text": [
      "Epoch 263: Train loss: 120.7377618083426, Test loss: 5.321038977976284\n",
      "Epoch 264: Train loss: 96.80994261629273, Test loss: 5.316057814901669\n",
      "Epoch 265: Train loss: 125.1464922106225, Test loss: 5.308098049790987\n",
      "Epoch 266: Train loss: 105.81937701617758, Test loss: 5.302871583623657\n"
     ]
    },
    {
     "name": "stderr",
     "output_type": "stream",
     "text": [
      " 54%|█████▍    | 270/500 [00:18<00:15, 15.04it/s]"
     ]
    },
    {
     "name": "stdout",
     "output_type": "stream",
     "text": [
      "Epoch 267: Train loss: 195.21522361966208, Test loss: 5.29801120140361\n",
      "Epoch 268: Train loss: 117.88133711368545, Test loss: 5.29090479368169\n",
      "Epoch 269: Train loss: 100.21914802303812, Test loss: 5.283080504515449\n",
      "Epoch 270: Train loss: 91.6907548196908, Test loss: 5.276279506714732\n"
     ]
    },
    {
     "name": "stderr",
     "output_type": "stream",
     "text": [
      " 55%|█████▍    | 274/500 [00:18<00:14, 15.24it/s]"
     ]
    },
    {
     "name": "stdout",
     "output_type": "stream",
     "text": [
      "Epoch 271: Train loss: 86.82233923736693, Test loss: 5.270599224753133\n",
      "Epoch 272: Train loss: 202.61292877026378, Test loss: 5.261988845453945\n",
      "Epoch 273: Train loss: 97.1207582620168, Test loss: 5.256027512243531\n",
      "Epoch 274: Train loss: 132.30081186725448, Test loss: 5.250355533858993\n"
     ]
    },
    {
     "name": "stderr",
     "output_type": "stream",
     "text": [
      " 56%|█████▌    | 278/500 [00:18<00:14, 15.32it/s]"
     ]
    },
    {
     "name": "stdout",
     "output_type": "stream",
     "text": [
      "Epoch 275: Train loss: 136.66109568057274, Test loss: 5.244499465792175\n",
      "Epoch 276: Train loss: 131.91575439205047, Test loss: 5.237919718420642\n",
      "Epoch 277: Train loss: 84.78768191380745, Test loss: 5.233099738551098\n",
      "Epoch 278: Train loss: 135.79584147658258, Test loss: 5.226409069765103\n"
     ]
    },
    {
     "name": "stderr",
     "output_type": "stream",
     "text": [
      " 56%|█████▋    | 282/500 [00:19<00:14, 15.38it/s]"
     ]
    },
    {
     "name": "stdout",
     "output_type": "stream",
     "text": [
      "Epoch 279: Train loss: 142.98086168468464, Test loss: 5.220776639133819\n",
      "Epoch 280: Train loss: 114.27958261011763, Test loss: 5.215034833764817\n",
      "Epoch 281: Train loss: 85.54089098158744, Test loss: 5.208584734168918\n",
      "Epoch 282: Train loss: 81.16085609185028, Test loss: 5.20310874510279\n"
     ]
    },
    {
     "name": "stderr",
     "output_type": "stream",
     "text": [
      " 57%|█████▋    | 286/500 [00:19<00:13, 15.42it/s]"
     ]
    },
    {
     "name": "stdout",
     "output_type": "stream",
     "text": [
      "Epoch 283: Train loss: 124.1277120597381, Test loss: 5.19721023951449\n",
      "Epoch 284: Train loss: 104.01632906374277, Test loss: 5.192807447343035\n",
      "Epoch 285: Train loss: 104.58479745849255, Test loss: 5.187464471131468\n",
      "Epoch 286: Train loss: 129.87779937300158, Test loss: 5.183039820365379\n"
     ]
    },
    {
     "name": "stderr",
     "output_type": "stream",
     "text": [
      " 58%|█████▊    | 290/500 [00:19<00:13, 15.43it/s]"
     ]
    },
    {
     "name": "stdout",
     "output_type": "stream",
     "text": [
      "Epoch 287: Train loss: 115.21163502837534, Test loss: 5.180720303028129\n",
      "Epoch 288: Train loss: 108.73771542703045, Test loss: 5.1707295028404\n",
      "Epoch 289: Train loss: 103.20999423617742, Test loss: 5.1653549565347205\n",
      "Epoch 290: Train loss: 95.27347923639536, Test loss: 5.160050560971458\n"
     ]
    },
    {
     "name": "stderr",
     "output_type": "stream",
     "text": [
      " 59%|█████▉    | 294/500 [00:19<00:13, 15.42it/s]"
     ]
    },
    {
     "name": "stdout",
     "output_type": "stream",
     "text": [
      "Epoch 291: Train loss: 99.93127591414634, Test loss: 5.154096759931291\n",
      "Epoch 292: Train loss: 132.76028101342368, Test loss: 5.148151148764606\n",
      "Epoch 293: Train loss: 93.42388749521393, Test loss: 5.14311369279341\n",
      "Epoch 294: Train loss: 109.7833683844596, Test loss: 5.139122012709592\n"
     ]
    },
    {
     "name": "stderr",
     "output_type": "stream",
     "text": [
      " 60%|█████▉    | 298/500 [00:20<00:13, 15.41it/s]"
     ]
    },
    {
     "name": "stdout",
     "output_type": "stream",
     "text": [
      "Epoch 295: Train loss: 110.46215102502502, Test loss: 5.134217694523595\n",
      "Epoch 296: Train loss: 98.7746062039232, Test loss: 5.127885865695501\n",
      "Epoch 297: Train loss: 88.6942183414565, Test loss: 5.122289199285368\n",
      "Epoch 298: Train loss: 92.80168692745183, Test loss: 5.117318820251552\n"
     ]
    },
    {
     "name": "stderr",
     "output_type": "stream",
     "text": [
      " 60%|██████    | 302/500 [00:20<00:13, 14.47it/s]"
     ]
    },
    {
     "name": "stdout",
     "output_type": "stream",
     "text": [
      "Epoch 299: Train loss: 97.69485810671274, Test loss: 5.112414915409171\n",
      "Epoch 300: Train loss: 191.97303854295856, Test loss: 5.108691432597686\n",
      "Epoch 301: Train loss: 118.54990571485449, Test loss: 5.103985285958084\n"
     ]
    },
    {
     "name": "stderr",
     "output_type": "stream",
     "text": [
      " 61%|██████    | 306/500 [00:20<00:13, 14.89it/s]"
     ]
    },
    {
     "name": "stdout",
     "output_type": "stream",
     "text": [
      "Epoch 302: Train loss: 119.63311661509306, Test loss: 5.101513835578879\n",
      "Epoch 303: Train loss: 100.69404464584287, Test loss: 5.09554854309046\n",
      "Epoch 304: Train loss: 90.8433144722501, Test loss: 5.092519789431371\n",
      "Epoch 305: Train loss: 124.06337391489012, Test loss: 5.082514255244134\n"
     ]
    },
    {
     "name": "stderr",
     "output_type": "stream",
     "text": [
      " 62%|██████▏   | 310/500 [00:20<00:12, 15.15it/s]"
     ]
    },
    {
     "name": "stdout",
     "output_type": "stream",
     "text": [
      "Epoch 306: Train loss: 118.55328869201814, Test loss: 5.078366980708772\n",
      "Epoch 307: Train loss: 104.62745763135726, Test loss: 5.074394574539647\n",
      "Epoch 308: Train loss: 167.52089572550517, Test loss: 5.068821645399287\n",
      "Epoch 309: Train loss: 101.75413549371302, Test loss: 5.064191790325469\n"
     ]
    },
    {
     "name": "stderr",
     "output_type": "stream",
     "text": [
      " 63%|██████▎   | 314/500 [00:21<00:12, 15.28it/s]"
     ]
    },
    {
     "name": "stdout",
     "output_type": "stream",
     "text": [
      "Epoch 310: Train loss: 127.27421106525246, Test loss: 5.061761081477804\n",
      "Epoch 311: Train loss: 121.48175703314789, Test loss: 5.054030620868086\n",
      "Epoch 312: Train loss: 122.48240779780367, Test loss: 5.049827321849839\n",
      "Epoch 313: Train loss: 71.63211867859819, Test loss: 5.046095843101234\n"
     ]
    },
    {
     "name": "stderr",
     "output_type": "stream",
     "text": [
      " 64%|██████▎   | 318/500 [00:21<00:11, 15.35it/s]"
     ]
    },
    {
     "name": "stdout",
     "output_type": "stream",
     "text": [
      "Epoch 314: Train loss: 126.65400802043263, Test loss: 5.041901801800502\n",
      "Epoch 315: Train loss: 124.6207032155701, Test loss: 5.035039636804286\n",
      "Epoch 316: Train loss: 84.49921274862359, Test loss: 5.031458661051368\n",
      "Epoch 317: Train loss: 108.98309410300897, Test loss: 5.024538071101596\n"
     ]
    },
    {
     "name": "stderr",
     "output_type": "stream",
     "text": [
      " 64%|██████▍   | 322/500 [00:21<00:11, 15.37it/s]"
     ]
    },
    {
     "name": "stdout",
     "output_type": "stream",
     "text": [
      "Epoch 318: Train loss: 107.19950165970343, Test loss: 5.021782153574594\n",
      "Epoch 319: Train loss: 114.27410607466953, Test loss: 5.017018827802057\n",
      "Epoch 320: Train loss: 83.92986412530404, Test loss: 5.012349659954821\n",
      "Epoch 321: Train loss: 108.08427589928061, Test loss: 5.00939007929\n"
     ]
    },
    {
     "name": "stderr",
     "output_type": "stream",
     "text": [
      " 65%|██████▍   | 324/500 [00:21<00:11, 15.36it/s]"
     ]
    },
    {
     "name": "stdout",
     "output_type": "stream",
     "text": [
      "Epoch 322: Train loss: 104.49557272389728, Test loss: 5.008254368511481\n",
      "Epoch 323: Train loss: 73.23211521471396, Test loss: 5.004047042478443\n",
      "Epoch 324: Train loss: 111.08161714810373, Test loss: 4.99606151489354\n"
     ]
    },
    {
     "name": "stderr",
     "output_type": "stream",
     "text": [
      " 66%|██████▌   | 328/500 [00:22<00:11, 14.59it/s]"
     ]
    },
    {
     "name": "stdout",
     "output_type": "stream",
     "text": [
      "Epoch 325: Train loss: 128.56664641613364, Test loss: 4.990495934275377\n",
      "Epoch 326: Train loss: 134.22971217321165, Test loss: 4.988056080455148\n",
      "Epoch 327: Train loss: 85.98194791541948, Test loss: 4.985052476155047\n",
      "Epoch 328: Train loss: 173.13653944647345, Test loss: 4.97877349616239\n"
     ]
    },
    {
     "name": "stderr",
     "output_type": "stream",
     "text": [
      " 66%|██████▋   | 332/500 [00:22<00:11, 14.99it/s]"
     ]
    },
    {
     "name": "stdout",
     "output_type": "stream",
     "text": [
      "Epoch 329: Train loss: 126.27561895120104, Test loss: 4.97339008359481\n",
      "Epoch 330: Train loss: 97.90149024413441, Test loss: 4.968653366226875\n",
      "Epoch 331: Train loss: 76.64840912789396, Test loss: 4.964372892089809\n",
      "Epoch 332: Train loss: 112.97453751401216, Test loss: 4.961846757954665\n"
     ]
    },
    {
     "name": "stderr",
     "output_type": "stream",
     "text": [
      " 67%|██████▋   | 334/500 [00:22<00:11, 14.97it/s]"
     ]
    },
    {
     "name": "stdout",
     "output_type": "stream",
     "text": [
      "Epoch 333: Train loss: 89.07186833522643, Test loss: 4.956901530175311\n",
      "Epoch 334: Train loss: 154.64644780758715, Test loss: 4.952753983092489\n",
      "Epoch 335: Train loss: 181.18889274269057, Test loss: 4.947931331269528\n"
     ]
    },
    {
     "name": "stderr",
     "output_type": "stream",
     "text": [
      " 68%|██████▊   | 338/500 [00:22<00:11, 13.62it/s]"
     ]
    },
    {
     "name": "stdout",
     "output_type": "stream",
     "text": [
      "Epoch 336: Train loss: 109.75291106563712, Test loss: 4.944927667606144\n",
      "Epoch 337: Train loss: 70.08926124732002, Test loss: 4.941621378040581\n",
      "Epoch 338: Train loss: 117.62202017972233, Test loss: 4.935777502112221\n"
     ]
    },
    {
     "name": "stderr",
     "output_type": "stream",
     "text": [
      " 68%|██████▊   | 342/500 [00:23<00:10, 14.47it/s]"
     ]
    },
    {
     "name": "stdout",
     "output_type": "stream",
     "text": [
      "Epoch 339: Train loss: 196.48075272532262, Test loss: 4.931307828812308\n",
      "Epoch 340: Train loss: 119.96240711759324, Test loss: 4.9283736205631845\n",
      "Epoch 341: Train loss: 100.47917546294916, Test loss: 4.925241112412423\n",
      "Epoch 342: Train loss: 115.48792883661339, Test loss: 4.920411050781604\n"
     ]
    },
    {
     "name": "stderr",
     "output_type": "stream",
     "text": [
      " 69%|██████▉   | 346/500 [00:23<00:10, 14.82it/s]"
     ]
    },
    {
     "name": "stdout",
     "output_type": "stream",
     "text": [
      "Epoch 343: Train loss: 119.1343973405173, Test loss: 4.9179739453093365\n",
      "Epoch 344: Train loss: 94.66555972937012, Test loss: 4.914054041994221\n",
      "Epoch 345: Train loss: 139.75399420667404, Test loss: 4.913716912592467\n",
      "Epoch 346: Train loss: 122.03788529841827, Test loss: 4.906638789124957\n"
     ]
    },
    {
     "name": "stderr",
     "output_type": "stream",
     "text": [
      " 70%|███████   | 350/500 [00:23<00:09, 15.10it/s]"
     ]
    },
    {
     "name": "stdout",
     "output_type": "stream",
     "text": [
      "Epoch 347: Train loss: 123.99646758664242, Test loss: 4.9030010878955865\n",
      "Epoch 348: Train loss: 99.94398654258698, Test loss: 4.899669830319909\n",
      "Epoch 349: Train loss: 153.50575332721453, Test loss: 4.895441511185241\n",
      "Epoch 350: Train loss: 107.96099542307732, Test loss: 4.892897152800065\n"
     ]
    },
    {
     "name": "stderr",
     "output_type": "stream",
     "text": [
      " 71%|███████   | 354/500 [00:23<00:09, 15.26it/s]"
     ]
    },
    {
     "name": "stdout",
     "output_type": "stream",
     "text": [
      "Epoch 351: Train loss: 116.98440594834243, Test loss: 4.888175033960185\n",
      "Epoch 352: Train loss: 112.39482547825939, Test loss: 4.8854157131508105\n",
      "Epoch 353: Train loss: 131.21709237505743, Test loss: 4.880939338046057\n",
      "Epoch 354: Train loss: 166.62247014497984, Test loss: 4.877820722934296\n"
     ]
    },
    {
     "name": "stderr",
     "output_type": "stream",
     "text": [
      " 72%|███████▏  | 358/500 [00:24<00:09, 15.33it/s]"
     ]
    },
    {
     "name": "stdout",
     "output_type": "stream",
     "text": [
      "Epoch 355: Train loss: 86.50438091487004, Test loss: 4.875987925889844\n",
      "Epoch 356: Train loss: 56.02831507129614, Test loss: 4.873061278583788\n",
      "Epoch 357: Train loss: 116.52758369256101, Test loss: 4.869353316393024\n",
      "Epoch 358: Train loss: 111.70394857627417, Test loss: 4.866232106883635\n"
     ]
    },
    {
     "name": "stderr",
     "output_type": "stream",
     "text": [
      " 72%|███████▏  | 362/500 [00:24<00:08, 15.36it/s]"
     ]
    },
    {
     "name": "stdout",
     "output_type": "stream",
     "text": [
      "Epoch 359: Train loss: 104.41062735852975, Test loss: 4.862406161912404\n",
      "Epoch 360: Train loss: 88.61303186560436, Test loss: 4.859205806414162\n",
      "Epoch 361: Train loss: 133.5822311299644, Test loss: 4.8594351038152395\n",
      "Epoch 362: Train loss: 126.98279064373277, Test loss: 4.853738786447695\n"
     ]
    },
    {
     "name": "stderr",
     "output_type": "stream",
     "text": [
      " 73%|███████▎  | 366/500 [00:24<00:08, 15.39it/s]"
     ]
    },
    {
     "name": "stdout",
     "output_type": "stream",
     "text": [
      "Epoch 363: Train loss: 93.26702853981463, Test loss: 4.851927051553284\n",
      "Epoch 364: Train loss: 128.27005525795636, Test loss: 4.850887635767794\n",
      "Epoch 365: Train loss: 82.63875124656616, Test loss: 4.846279089202437\n",
      "Epoch 366: Train loss: 119.0769402701701, Test loss: 4.842283738503633\n"
     ]
    },
    {
     "name": "stderr",
     "output_type": "stream",
     "text": [
      " 74%|███████▍  | 370/500 [00:24<00:09, 13.88it/s]"
     ]
    },
    {
     "name": "stdout",
     "output_type": "stream",
     "text": [
      "Epoch 367: Train loss: 69.97465792139825, Test loss: 4.838813591328532\n",
      "Epoch 368: Train loss: 120.38734676361847, Test loss: 4.836885280854133\n",
      "Epoch 369: Train loss: 138.27272589805355, Test loss: 4.832637085437493\n"
     ]
    },
    {
     "name": "stderr",
     "output_type": "stream",
     "text": [
      " 75%|███████▍  | 374/500 [00:25<00:08, 14.55it/s]"
     ]
    },
    {
     "name": "stdout",
     "output_type": "stream",
     "text": [
      "Epoch 370: Train loss: 125.99306762390862, Test loss: 4.829456484712203\n",
      "Epoch 371: Train loss: 118.51159246857492, Test loss: 4.825701688370327\n",
      "Epoch 372: Train loss: 158.236559163066, Test loss: 4.822865075656395\n",
      "Epoch 373: Train loss: 106.15081832893001, Test loss: 4.819919292242363\n"
     ]
    },
    {
     "name": "stderr",
     "output_type": "stream",
     "text": [
      " 76%|███████▌  | 378/500 [00:25<00:08, 14.96it/s]"
     ]
    },
    {
     "name": "stdout",
     "output_type": "stream",
     "text": [
      "Epoch 374: Train loss: 101.24156651542137, Test loss: 4.81725322095411\n",
      "Epoch 375: Train loss: 158.64629433107515, Test loss: 4.81368215445858\n",
      "Epoch 376: Train loss: 114.67371936093903, Test loss: 4.813862658904113\n",
      "Epoch 377: Train loss: 96.12540017692689, Test loss: 4.8078132743517195\n"
     ]
    },
    {
     "name": "stderr",
     "output_type": "stream",
     "text": [
      " 76%|███████▋  | 382/500 [00:25<00:07, 15.17it/s]"
     ]
    },
    {
     "name": "stdout",
     "output_type": "stream",
     "text": [
      "Epoch 378: Train loss: 111.12873474435726, Test loss: 4.807507954529612\n",
      "Epoch 379: Train loss: 134.5266825762806, Test loss: 4.802473052593767\n",
      "Epoch 380: Train loss: 87.47996980193408, Test loss: 4.80075477164259\n",
      "Epoch 381: Train loss: 89.84396075641527, Test loss: 4.796972852215538\n"
     ]
    },
    {
     "name": "stderr",
     "output_type": "stream",
     "text": [
      " 77%|███████▋  | 386/500 [00:26<00:07, 15.30it/s]"
     ]
    },
    {
     "name": "stdout",
     "output_type": "stream",
     "text": [
      "Epoch 382: Train loss: 117.03669911126141, Test loss: 4.795289494804406\n",
      "Epoch 383: Train loss: 129.05558192387076, Test loss: 4.792207943160297\n",
      "Epoch 384: Train loss: 209.25254906809445, Test loss: 4.789399629747966\n",
      "Epoch 385: Train loss: 137.00738743087257, Test loss: 4.788483172997775\n"
     ]
    },
    {
     "name": "stderr",
     "output_type": "stream",
     "text": [
      " 78%|███████▊  | 390/500 [00:26<00:07, 15.37it/s]"
     ]
    },
    {
     "name": "stdout",
     "output_type": "stream",
     "text": [
      "Epoch 386: Train loss: 93.11328498075488, Test loss: 4.784296354277516\n",
      "Epoch 387: Train loss: 112.61138941236356, Test loss: 4.780968014246804\n",
      "Epoch 388: Train loss: 120.1982877179448, Test loss: 4.778402301617372\n",
      "Epoch 389: Train loss: 91.32466284315913, Test loss: 4.775975844999288\n"
     ]
    },
    {
     "name": "stderr",
     "output_type": "stream",
     "text": [
      " 79%|███████▉  | 394/500 [00:26<00:06, 15.39it/s]"
     ]
    },
    {
     "name": "stdout",
     "output_type": "stream",
     "text": [
      "Epoch 390: Train loss: 103.93792465031098, Test loss: 4.773729078645786\n",
      "Epoch 391: Train loss: 107.45868851022357, Test loss: 4.771158958987261\n",
      "Epoch 392: Train loss: 91.67854900206073, Test loss: 4.7686733616316745\n",
      "Epoch 393: Train loss: 90.2496073213447, Test loss: 4.767359913376716\n"
     ]
    },
    {
     "name": "stderr",
     "output_type": "stream",
     "text": [
      " 80%|███████▉  | 398/500 [00:26<00:06, 15.39it/s]"
     ]
    },
    {
     "name": "stdout",
     "output_type": "stream",
     "text": [
      "Epoch 394: Train loss: 178.6302608687108, Test loss: 4.763650260419017\n",
      "Epoch 395: Train loss: 142.51941977632563, Test loss: 4.760827567945173\n",
      "Epoch 396: Train loss: 105.57568144771254, Test loss: 4.7574915039319245\n",
      "Epoch 397: Train loss: 75.66609453739987, Test loss: 4.756862640200328\n"
     ]
    },
    {
     "name": "stderr",
     "output_type": "stream",
     "text": [
      " 80%|████████  | 402/500 [00:27<00:06, 15.42it/s]"
     ]
    },
    {
     "name": "stdout",
     "output_type": "stream",
     "text": [
      "Epoch 398: Train loss: 101.62311686100165, Test loss: 4.75254608812586\n",
      "Epoch 399: Train loss: 128.44874117836278, Test loss: 4.750416066016055\n",
      "Epoch 400: Train loss: 77.28150174851714, Test loss: 4.749185347955165\n",
      "Epoch 401: Train loss: 131.15823060671673, Test loss: 4.74864802586486\n"
     ]
    },
    {
     "name": "stderr",
     "output_type": "stream",
     "text": [
      " 81%|████████  | 404/500 [00:27<00:06, 15.40it/s]"
     ]
    },
    {
     "name": "stdout",
     "output_type": "stream",
     "text": [
      "Epoch 402: Train loss: 106.14582875478848, Test loss: 4.745235048914461\n",
      "Epoch 403: Train loss: 122.89838365536735, Test loss: 4.741560150971227\n",
      "Epoch 404: Train loss: 120.80100561047233, Test loss: 4.737914085122745\n"
     ]
    },
    {
     "name": "stderr",
     "output_type": "stream",
     "text": [
      " 82%|████████▏ | 408/500 [00:27<00:06, 13.91it/s]"
     ]
    },
    {
     "name": "stdout",
     "output_type": "stream",
     "text": [
      "Epoch 405: Train loss: 122.87917784103337, Test loss: 4.73491160324607\n",
      "Epoch 406: Train loss: 103.21199537298186, Test loss: 4.73286574969919\n",
      "Epoch 407: Train loss: 150.02607976584582, Test loss: 4.7303358951950765\n",
      "Epoch 408: Train loss: 121.50408408013587, Test loss: 4.727197754168915\n"
     ]
    },
    {
     "name": "stderr",
     "output_type": "stream",
     "text": [
      " 82%|████████▏ | 412/500 [00:27<00:06, 14.64it/s]"
     ]
    },
    {
     "name": "stdout",
     "output_type": "stream",
     "text": [
      "Epoch 409: Train loss: 173.0698303108163, Test loss: 4.724894582683897\n",
      "Epoch 410: Train loss: 131.62645285662379, Test loss: 4.722634799295236\n",
      "Epoch 411: Train loss: 103.57029390392894, Test loss: 4.719466158311497\n",
      "Epoch 412: Train loss: 79.17116056169016, Test loss: 4.716909764064159\n"
     ]
    },
    {
     "name": "stderr",
     "output_type": "stream",
     "text": [
      " 83%|████████▎ | 416/500 [00:28<00:05, 15.01it/s]"
     ]
    },
    {
     "name": "stdout",
     "output_type": "stream",
     "text": [
      "Epoch 413: Train loss: 108.42446728841927, Test loss: 4.715035999003508\n",
      "Epoch 414: Train loss: 112.29792929362566, Test loss: 4.713205621702483\n",
      "Epoch 415: Train loss: 110.23687360564766, Test loss: 4.711740111386005\n",
      "Epoch 416: Train loss: 125.68164775937241, Test loss: 4.710617746200681\n"
     ]
    },
    {
     "name": "stderr",
     "output_type": "stream",
     "text": [
      " 84%|████████▍ | 420/500 [00:28<00:05, 15.20it/s]"
     ]
    },
    {
     "name": "stdout",
     "output_type": "stream",
     "text": [
      "Epoch 417: Train loss: 84.22261896771042, Test loss: 4.7087882928003495\n",
      "Epoch 418: Train loss: 126.99237728472328, Test loss: 4.706033407009362\n",
      "Epoch 419: Train loss: 102.45667707398593, Test loss: 4.702818369124064\n",
      "Epoch 420: Train loss: 133.64576713574317, Test loss: 4.697939000723181\n"
     ]
    },
    {
     "name": "stderr",
     "output_type": "stream",
     "text": [
      " 85%|████████▍ | 424/500 [00:28<00:04, 15.28it/s]"
     ]
    },
    {
     "name": "stdout",
     "output_type": "stream",
     "text": [
      "Epoch 421: Train loss: 131.81194556533143, Test loss: 4.695791721824674\n",
      "Epoch 422: Train loss: 143.63024223048677, Test loss: 4.693633495688527\n",
      "Epoch 423: Train loss: 124.34973127689365, Test loss: 4.691410460749815\n",
      "Epoch 424: Train loss: 133.10890009029305, Test loss: 4.689912709951495\n"
     ]
    },
    {
     "name": "stderr",
     "output_type": "stream",
     "text": [
      " 86%|████████▌ | 428/500 [00:28<00:04, 15.35it/s]"
     ]
    },
    {
     "name": "stdout",
     "output_type": "stream",
     "text": [
      "Epoch 425: Train loss: 134.58631149683524, Test loss: 4.688712553187014\n",
      "Epoch 426: Train loss: 118.53747166504108, Test loss: 4.687202848448845\n",
      "Epoch 427: Train loss: 101.11571042784652, Test loss: 4.68328793554504\n",
      "Epoch 428: Train loss: 127.33308701149511, Test loss: 4.681495034492538\n"
     ]
    },
    {
     "name": "stderr",
     "output_type": "stream",
     "text": [
      " 86%|████████▋ | 432/500 [00:29<00:04, 15.36it/s]"
     ]
    },
    {
     "name": "stdout",
     "output_type": "stream",
     "text": [
      "Epoch 429: Train loss: 113.91958053237349, Test loss: 4.679533044833032\n",
      "Epoch 430: Train loss: 119.92394659193943, Test loss: 4.677759512317394\n",
      "Epoch 431: Train loss: 128.35861637853844, Test loss: 4.6793419391739315\n",
      "Epoch 432: Train loss: 115.12649022915096, Test loss: 4.675287661730619\n"
     ]
    },
    {
     "name": "stderr",
     "output_type": "stream",
     "text": [
      " 87%|████████▋ | 436/500 [00:29<00:04, 15.40it/s]"
     ]
    },
    {
     "name": "stdout",
     "output_type": "stream",
     "text": [
      "Epoch 433: Train loss: 112.10863162762497, Test loss: 4.673151393247937\n",
      "Epoch 434: Train loss: 139.54918919478396, Test loss: 4.673086352585062\n",
      "Epoch 435: Train loss: 119.74766535588441, Test loss: 4.668379058909886\n",
      "Epoch 436: Train loss: 98.03569638660679, Test loss: 4.665474933338708\n"
     ]
    },
    {
     "name": "stderr",
     "output_type": "stream",
     "text": [
      " 88%|████████▊ | 440/500 [00:29<00:03, 15.37it/s]"
     ]
    },
    {
     "name": "stdout",
     "output_type": "stream",
     "text": [
      "Epoch 437: Train loss: 128.77118398088393, Test loss: 4.663058564806131\n",
      "Epoch 438: Train loss: 100.6114355844798, Test loss: 4.66209342833285\n",
      "Epoch 439: Train loss: 124.00123113309738, Test loss: 4.6596889371357\n",
      "Epoch 440: Train loss: 131.19680754925213, Test loss: 4.657916207033094\n"
     ]
    },
    {
     "name": "stderr",
     "output_type": "stream",
     "text": [
      " 89%|████████▉ | 444/500 [00:29<00:04, 13.63it/s]"
     ]
    },
    {
     "name": "stdout",
     "output_type": "stream",
     "text": [
      "Epoch 441: Train loss: 119.50650154455751, Test loss: 4.655086435087158\n",
      "Epoch 442: Train loss: 105.35043589956837, Test loss: 4.652992650200895\n",
      "Epoch 443: Train loss: 156.03250547496117, Test loss: 4.649829907086507\n"
     ]
    },
    {
     "name": "stderr",
     "output_type": "stream",
     "text": [
      " 90%|████████▉ | 448/500 [00:30<00:03, 14.38it/s]"
     ]
    },
    {
     "name": "stdout",
     "output_type": "stream",
     "text": [
      "Epoch 444: Train loss: 142.06153867499188, Test loss: 4.648063373672445\n",
      "Epoch 445: Train loss: 109.19438671076462, Test loss: 4.64878113786531\n",
      "Epoch 446: Train loss: 137.4569457655013, Test loss: 4.643968697976006\n",
      "Epoch 447: Train loss: 64.65283298714259, Test loss: 4.642165206437152\n"
     ]
    },
    {
     "name": "stderr",
     "output_type": "stream",
     "text": [
      " 90%|█████████ | 452/500 [00:30<00:03, 14.86it/s]"
     ]
    },
    {
     "name": "stdout",
     "output_type": "stream",
     "text": [
      "Epoch 448: Train loss: 104.07746685194255, Test loss: 4.640996127020594\n",
      "Epoch 449: Train loss: 80.8884933537291, Test loss: 4.640244259292308\n",
      "Epoch 450: Train loss: 113.1048323614442, Test loss: 4.63809694467974\n",
      "Epoch 451: Train loss: 100.42667155298723, Test loss: 4.634864160105455\n"
     ]
    },
    {
     "name": "stderr",
     "output_type": "stream",
     "text": [
      " 91%|█████████ | 456/500 [00:30<00:02, 15.10it/s]"
     ]
    },
    {
     "name": "stdout",
     "output_type": "stream",
     "text": [
      "Epoch 452: Train loss: 146.22334178410603, Test loss: 4.632895727114956\n",
      "Epoch 453: Train loss: 150.49067512828435, Test loss: 4.63105226332469\n",
      "Epoch 454: Train loss: 159.83021133397855, Test loss: 4.629260432357043\n",
      "Epoch 455: Train loss: 147.81516856781738, Test loss: 4.6265648895850395\n"
     ]
    },
    {
     "name": "stderr",
     "output_type": "stream",
     "text": [
      " 92%|█████████▏| 460/500 [00:30<00:02, 15.28it/s]"
     ]
    },
    {
     "name": "stdout",
     "output_type": "stream",
     "text": [
      "Epoch 456: Train loss: 112.65803036339351, Test loss: 4.624530590408007\n",
      "Epoch 457: Train loss: 167.453056031026, Test loss: 4.623394721959304\n",
      "Epoch 458: Train loss: 136.57779019247113, Test loss: 4.62091753589285\n",
      "Epoch 459: Train loss: 89.22235171656104, Test loss: 4.62016798643529\n"
     ]
    },
    {
     "name": "stderr",
     "output_type": "stream",
     "text": [
      " 93%|█████████▎| 464/500 [00:31<00:02, 15.37it/s]"
     ]
    },
    {
     "name": "stdout",
     "output_type": "stream",
     "text": [
      "Epoch 460: Train loss: 110.30476483200627, Test loss: 4.617344184047758\n",
      "Epoch 461: Train loss: 92.70760817055377, Test loss: 4.614798098400789\n",
      "Epoch 462: Train loss: 96.29986476741041, Test loss: 4.612920581813814\n",
      "Epoch 463: Train loss: 119.95365234667669, Test loss: 4.6113127631420125\n"
     ]
    },
    {
     "name": "stderr",
     "output_type": "stream",
     "text": [
      " 94%|█████████▎| 468/500 [00:31<00:02, 15.38it/s]"
     ]
    },
    {
     "name": "stdout",
     "output_type": "stream",
     "text": [
      "Epoch 464: Train loss: 105.55959652030916, Test loss: 4.609408920570099\n",
      "Epoch 465: Train loss: 134.06301499996573, Test loss: 4.608912350389003\n",
      "Epoch 466: Train loss: 129.26147104804622, Test loss: 4.6083037758248695\n",
      "Epoch 467: Train loss: 129.26901334556632, Test loss: 4.6038024025291335\n"
     ]
    },
    {
     "name": "stderr",
     "output_type": "stream",
     "text": [
      " 94%|█████████▍| 470/500 [00:31<00:01, 15.35it/s]"
     ]
    },
    {
     "name": "stdout",
     "output_type": "stream",
     "text": [
      "Epoch 468: Train loss: 124.43744804742936, Test loss: 4.603276860132702\n",
      "Epoch 469: Train loss: 91.99815615268105, Test loss: 4.600601579297102\n",
      "Epoch 470: Train loss: 103.79296962883988, Test loss: 4.599992630130446\n"
     ]
    },
    {
     "name": "stderr",
     "output_type": "stream",
     "text": [
      " 95%|█████████▍| 474/500 [00:31<00:01, 14.71it/s]"
     ]
    },
    {
     "name": "stdout",
     "output_type": "stream",
     "text": [
      "Epoch 471: Train loss: 76.40942899914917, Test loss: 4.598181348061981\n",
      "Epoch 472: Train loss: 92.86507942988804, Test loss: 4.5950627517672755\n",
      "Epoch 473: Train loss: 161.0216734036357, Test loss: 4.5932354339345665\n",
      "Epoch 474: Train loss: 93.14553274456304, Test loss: 4.590987439295735\n"
     ]
    },
    {
     "name": "stderr",
     "output_type": "stream",
     "text": [
      " 96%|█████████▌| 478/500 [00:32<00:01, 13.36it/s]"
     ]
    },
    {
     "name": "stdout",
     "output_type": "stream",
     "text": [
      "Epoch 475: Train loss: 109.59756413225847, Test loss: 4.589391643993609\n",
      "Epoch 476: Train loss: 107.8643571270983, Test loss: 4.589070423193894\n",
      "Epoch 477: Train loss: 109.81288208682184, Test loss: 4.585864344765589\n"
     ]
    },
    {
     "name": "stderr",
     "output_type": "stream",
     "text": [
      " 96%|█████████▋| 482/500 [00:32<00:01, 14.25it/s]"
     ]
    },
    {
     "name": "stdout",
     "output_type": "stream",
     "text": [
      "Epoch 478: Train loss: 135.5379204361456, Test loss: 4.5839847490696535\n",
      "Epoch 479: Train loss: 102.50151520170876, Test loss: 4.581569222501013\n",
      "Epoch 480: Train loss: 126.85485391555889, Test loss: 4.580452946006798\n",
      "Epoch 481: Train loss: 110.18283991099351, Test loss: 4.578477123624316\n"
     ]
    },
    {
     "name": "stderr",
     "output_type": "stream",
     "text": [
      " 97%|█████████▋| 486/500 [00:32<00:00, 14.77it/s]"
     ]
    },
    {
     "name": "stdout",
     "output_type": "stream",
     "text": [
      "Epoch 482: Train loss: 127.65171199143295, Test loss: 4.575854944219671\n",
      "Epoch 483: Train loss: 74.89063311554881, Test loss: 4.574392192694315\n",
      "Epoch 484: Train loss: 124.85057387838475, Test loss: 4.573736055826976\n",
      "Epoch 485: Train loss: 150.59684555666934, Test loss: 4.573208750070269\n"
     ]
    },
    {
     "name": "stderr",
     "output_type": "stream",
     "text": [
      " 98%|█████████▊| 490/500 [00:33<00:00, 15.10it/s]"
     ]
    },
    {
     "name": "stdout",
     "output_type": "stream",
     "text": [
      "Epoch 486: Train loss: 83.13194007997403, Test loss: 4.570969092241343\n",
      "Epoch 487: Train loss: 119.05819936695497, Test loss: 4.569557112464738\n",
      "Epoch 488: Train loss: 135.0001058418953, Test loss: 4.569686809180681\n",
      "Epoch 489: Train loss: 103.41817563631236, Test loss: 4.565367708269446\n"
     ]
    },
    {
     "name": "stderr",
     "output_type": "stream",
     "text": [
      " 99%|█████████▉| 494/500 [00:33<00:00, 15.23it/s]"
     ]
    },
    {
     "name": "stdout",
     "output_type": "stream",
     "text": [
      "Epoch 490: Train loss: 128.44393359621958, Test loss: 4.564233490087157\n",
      "Epoch 491: Train loss: 197.1644415125367, Test loss: 4.566524729063063\n",
      "Epoch 492: Train loss: 136.96434430159033, Test loss: 4.561719714040499\n",
      "Epoch 493: Train loss: 152.85572194369865, Test loss: 4.561066295000319\n"
     ]
    },
    {
     "name": "stderr",
     "output_type": "stream",
     "text": [
      "100%|█████████▉| 498/500 [00:33<00:00, 15.28it/s]"
     ]
    },
    {
     "name": "stdout",
     "output_type": "stream",
     "text": [
      "Epoch 494: Train loss: 108.31967273359608, Test loss: 4.560059193289782\n",
      "Epoch 495: Train loss: 119.76791970165344, Test loss: 4.558628132116037\n",
      "Epoch 496: Train loss: 132.51466193688194, Test loss: 4.555081095781096\n",
      "Epoch 497: Train loss: 141.69326588847855, Test loss: 4.552316900461787\n"
     ]
    },
    {
     "name": "stderr",
     "output_type": "stream",
     "text": [
      "100%|██████████| 500/500 [00:33<00:00, 14.85it/s]"
     ]
    },
    {
     "name": "stdout",
     "output_type": "stream",
     "text": [
      "Epoch 498: Train loss: 111.75743000695435, Test loss: 4.55043489090529\n",
      "Epoch 499: Train loss: 112.90170133093055, Test loss: 4.549273020650834\n"
     ]
    },
    {
     "name": "stderr",
     "output_type": "stream",
     "text": [
      "\n"
     ]
    }
   ],
   "source": [
    "nn = MLP(input_size=X_train.shape[1], layers=[X_train.shape[1], 50, 1], activations=['relu', 'linear'], verbose=True)\n",
    "\n",
    "# Fit the MLP model to the training data\n",
    "train_losses, test_losses = nn.fit(training_data=list(zip(X_train.values, y_train)), \n",
    "                                    test_data=list(zip(X_test.values, y_test)), \n",
    "                                    max_epochs=500, \n",
    "                                    mini_batch_size=64, \n",
    "                                    alpha=1e-5)\n"
   ]
  },
  {
   "cell_type": "code",
   "execution_count": 6,
   "metadata": {},
   "outputs": [
    {
     "data": {
      "image/png": "[encoded data removed]",
      "text/plain": [
       "<Figure size 576x432 with 1 Axes>"
      ]
     },
     "metadata": {
      "needs_background": "light"
     },
     "output_type": "display_data"
    }
   ],
   "source": [
    "plt.figure(figsize=(8, 6))\n",
    "plt.plot(range(1, len(train_losses) + 1), train_losses, label='Train Loss')\n",
    "plt.plot(range(1, len(test_losses) + 1), test_losses, label='Test Loss')\n",
    "plt.yscale('log')\n",
    "plt.xlabel('Epochs')\n",
    "plt.ylabel('Loss')\n",
    "plt.title('Train and Test Loss')\n",
    "plt.legend()\n",
    "plt.show()"
   ]
  },
  {
   "cell_type": "code",
   "execution_count": 9,
   "metadata": {},
   "outputs": [
    {
     "name": "stdout",
     "output_type": "stream",
     "text": [
      "X.shape: (280, 6)\n",
      "X: \n",
      " [[ 8.55108677  5.28900346  6.47087856  8.          0.          1.        ]\n",
      " [ 7.40955901  2.19223162  5.83208764  4.          0.          1.        ]\n",
      " [ 6.28946919  3.25448845  4.          7.          1.          0.        ]\n",
      " ...\n",
      " [ 8.43320614  2.69401173  8.55926968 14.          0.          1.        ]\n",
      " [ 6.0495974   3.58273148  7.96523693  4.          0.          1.        ]\n",
      " [ 8.30749849  5.05960638  4.79239682 18.          1.          0.        ]]\n",
      "  Predictions  |   Test\n",
      "[6.6211174] 9.678152468405315\n",
      "[6.51047362] 7.337679311836268\n",
      "[6.27138817] 4.542551445452206\n",
      "[6.6959624] 4.408466887658554\n",
      "[6.78538083] 6.5918391130432274\n",
      "[6.42631992] 7.126303113365252\n",
      "[6.17838731] 5.824865318066567\n",
      "[6.35068506] 4.318271770712224\n",
      "[6.44445586] 2.6946935959490674\n",
      "[6.50400582] 4.621360632505932\n",
      "[6.04839938] 6.289601307408167\n",
      "[6.86575636] 6.659869395546703\n",
      "[6.11376753] 8.050121380949898\n",
      "[6.29052943] 1.851851851851852\n",
      "[6.59642126] 7.629186838253545\n",
      "[6.44509879] 3.628587783482679\n",
      "[6.70138212] 6.490047212114392\n",
      "[6.69579224] 10.0\n",
      "[6.23552666] 7.926128337307125\n",
      "[6.7127323] 5.3777726427393455\n",
      "[6.34437942] 7.71268659291545\n",
      "[6.59522822] 1.851851851851852\n",
      "[6.48099446] 6.9952581159936535\n",
      "[6.66079157] 8.652310141516276\n",
      "[6.16485559] 8.104721281886103\n",
      "[6.18356716] 5.10361369184111\n",
      "[6.45973446] 8.99645782049267\n",
      "[6.39089652] 6.235928190854355\n",
      "[6.50114155] 5.7733074895165295\n",
      "[6.05536379] 7.697125657561498\n",
      "[6.55555379] 6.698293228713865\n",
      "[6.91079378] 4.8051094649325865\n",
      "[6.87737725] 5.88535735192808\n",
      "[6.33159279] 9.812243420198824\n",
      "[6.61789014] 9.026993870331069\n",
      "[6.58855632] 6.829178919202152\n",
      "[6.72746848] 6.850488817449615\n",
      "[6.00481303] 7.220273352710861\n",
      "[6.5964842] 6.092571619586716\n",
      "[6.69422092] 7.831163231092303\n",
      "[6.31793116] 5.855187227917766\n",
      "[6.4338904] 2.3991097521211104\n",
      "[-6.03690629] 7.130027097160447\n",
      "[6.42405541] 7.455975073551501\n",
      "[6.3018062] 3.839433378833896\n",
      "[6.22202719] 4.729313415274334\n",
      "[6.81810989] 6.417834061095757\n",
      "[6.64367242] 7.43195391665195\n",
      "[6.66099827] 10.0\n",
      "[6.4764912] 6.2235686309135225\n",
      "[6.9725723] 3.916905586373556\n",
      "[6.3119347] 7.853345560476516\n",
      "[6.56969715] 6.678783257215971\n",
      "[6.82726194] 7.693881706844417\n",
      "[6.52380281] 4.04830879843461\n",
      "[6.48643517] 7.697675549459332\n",
      "[6.17191647] 8.616421338645985\n",
      "[6.5067912] 9.8205789684851\n",
      "[6.81051134] 5.591443771170499\n",
      "[6.75968817] 4.234447967478822\n",
      "[6.67642562] 9.372264847021324\n",
      "[6.52208224] 6.086691110151598\n",
      "[6.51051097] 7.93090306430204\n",
      "[6.8300488] 6.5715193914351255\n",
      "[6.69785873] 5.857555133446171\n",
      "[6.3855987] 7.140359042192372\n",
      "[6.65723471] 5.773383693190968\n",
      "[6.67873893] 5.545563748913312\n",
      "[6.51560269] 6.527046711226614\n",
      "[6.71081852] 9.61489355830388\n",
      "[6.34051351] 4.670991822114346\n",
      "[6.40184366] 4.905126195718866\n",
      "[6.23258553] 8.539677102214675\n",
      "[6.44780235] 2.445026580927401\n",
      "[6.47570759] 7.428749043357068\n",
      "[6.36548172] 7.427608399204245\n",
      "[6.42515061] 3.353426343703587\n",
      "[6.5277682] 6.703324494202079\n",
      "[6.40205844] 4.422722669549343\n",
      "[6.90098581] 5.401628890207007\n",
      "[6.65186013] 7.0214092102133705\n",
      "[6.59908487] 7.36898683970395\n",
      "[6.63868344] 9.303098624890875\n",
      "[6.60049675] 8.323197616567995\n",
      "[6.18328776] 8.397646156593888\n",
      "[6.63341674] 7.76150814157945\n",
      "[6.65139723] 3.1527410578268995\n",
      "[6.49728954] 6.788871633535091\n",
      "[6.5436219] 7.484849980734305\n",
      "[6.61624514] 6.953883354512839\n",
      "[6.98254308] 7.460020069520389\n",
      "[6.61880565] 6.57922812385583\n",
      "[6.97335581] 8.052887460935686\n",
      "[6.5473829] 8.51106417323274\n",
      "[6.7022403] 7.528361342633898\n",
      "[6.15959926] 8.744514850462306\n",
      "[6.70743918] 9.416814309186956\n",
      "[6.61400479] 7.085841111755837\n",
      "[6.36885436] 4.017129476895292\n",
      "[6.60276929] 6.068285552001813\n",
      "[6.48438934] 7.732426866582186\n",
      "[6.38405102] 9.62294539524904\n",
      "[6.53075933] 9.502242842132748\n",
      "[6.71423598] 4.786597230034527\n",
      "[6.67812119] 4.398700046396327\n",
      "[6.5043121] 6.403931169773522\n",
      "[6.66910263] 8.141309313439354\n",
      "[6.4864718] 7.774666080208885\n",
      "[6.57836835] 9.415062225336204\n",
      "[6.47809308] 3.3508994784176105\n",
      "[7.03053236] 8.424345779469341\n",
      "[6.678996] 3.667628392571016\n",
      "[6.77440259] 7.268141250929147\n",
      "[6.47896849] 5.864951635896716\n",
      "[6.44983096] 6.455178969148361\n",
      "[6.74915689] 5.562442741915923\n",
      "[6.43210436] 3.539388742041167\n",
      "[6.96157374] 7.0054893866381605\n",
      "[6.49802656] 2.0115855105298164\n",
      "[6.11129331] 4.779656887834538\n",
      "[6.7997425] 4.852054158288751\n",
      "[6.3929382] 7.168212731997052\n",
      "[6.56230061] 2.3870365662974287\n",
      "[6.63894527] 6.228308815533413\n",
      "[6.69340434] 8.565020101562524\n",
      "[6.50057969] 6.121199072735244\n",
      "[6.56459526] 5.0777242331350525\n",
      "[6.43368555] 7.609252729898098\n",
      "[6.72708486] 10.0\n",
      "[6.43098525] 5.926197346668048\n",
      "[6.66296639] 9.917304426558296\n",
      "[6.81285338] 5.008970969459362\n",
      "[6.62237974] 10.0\n",
      "[6.55382006] 7.406735971008565\n",
      "[6.55500763] 5.439953443998031\n",
      "[6.60469267] 5.131396695783959\n",
      "[6.3216842] 7.459258601930566\n",
      "[6.66448196] 7.214956829120206\n",
      "[6.53869957] 1.851851851851852\n",
      "[6.22872517] 4.539161964144308\n",
      "[6.5604835] 2.4202864541269857\n",
      "[6.44794272] 9.738921524383914\n",
      "[6.44523528] 7.600965616311389\n",
      "[6.64584103] 6.5368313209396\n",
      "[6.31311156] 3.68413563566261\n",
      "[6.87626173] 5.916263249940056\n",
      "[6.48946191] 1.8700372326561148\n",
      "[6.55934528] 6.182824282100945\n",
      "[6.35737601] 8.177116116252755\n",
      "[6.7048161] 4.739907278240945\n",
      "[6.32648435] 6.820726411134219\n",
      "[6.54932212] 7.776847800308603\n",
      "[6.11643472] 4.163937694471125\n",
      "[6.69657495] 8.498133030310102\n",
      "[6.68817719] 4.840610413999844\n",
      "[6.9319891] 9.954259037050916\n",
      "[6.77817637] 8.854750065067972\n",
      "[6.41173474] 8.00594305841284\n",
      "[6.61535654] 6.628133277088092\n",
      "[5.88104344] 2.2848432569028327\n",
      "[6.67962899] 7.582033487599176\n",
      "[6.89039347] 7.341067788650251\n",
      "[6.6208267] 6.47086865304802\n",
      "[6.61181913] 9.432421948715271\n",
      "[6.55969904] 5.835714725527012\n",
      "[6.93940957] 10.0\n",
      "[6.57234192] 7.499119217121452\n",
      "[6.21910355] 6.739829052380251\n",
      "[6.81852221] 5.26428307818077\n",
      "[6.72282825] 8.075860159401408\n",
      "[7.07627688] 5.091114712917372\n",
      "[6.41247791] 6.1596829919475375\n",
      "[6.42561086] 9.707809896934556\n",
      "[6.63550103] 9.37378931879819\n",
      "[6.19375029] 8.018011177604297\n",
      "[6.3600567] 7.634665171226384\n",
      "[6.33918954] 7.75915544711984\n",
      "[6.81239001] 4.615577744899654\n",
      "[6.29935561] 9.232990678605082\n",
      "[6.35501163] 3.3863057771118275\n",
      "[6.71672292] 9.952696898560028\n",
      "[6.33528872] 3.417512181472918\n",
      "[6.50929429] 5.771965865654502\n",
      "[6.87643833] 7.151728041441432\n",
      "[6.84644443] 6.878611733124606\n",
      "[6.31191411] 4.948118794025939\n",
      "[6.43271749] 5.083964232766949\n",
      "[6.14928853] 5.421010522207244\n",
      "[6.25756701] 1.851851851851852\n",
      "[6.58306946] 8.578818177388193\n",
      "[6.8956456] 6.65937708058702\n",
      "[6.61862103] 6.61629895471467\n",
      "[6.71937964] 1.851851851851852\n",
      "[6.46035002] 7.423819666391299\n",
      "[6.58601586] 7.716914660783912\n",
      "[6.63208463] 7.5415046990706145\n",
      "[6.55951508] 6.049329321176241\n",
      "[6.67336744] 2.250382772970725\n",
      "[6.63875301] 9.90798867352064\n",
      "[5.96236623] 2.931300075839756\n",
      "[6.35224014] 7.863806008845423\n",
      "[6.50782182] 9.296410702126392\n",
      "[6.60645364] 8.244454971376689\n",
      "[6.90095164] 6.061848331826649\n",
      "[6.64577995] 5.439450516199926\n",
      "[5.93409061] 5.492269473343678\n",
      "[6.778615] 7.511558107037333\n",
      "[6.43009441] 6.697565428279466\n",
      "[6.80440752] 10.0\n",
      "[6.34588452] 7.848320992919247\n",
      "[6.20496826] 4.094862968810799\n",
      "[6.55706954] 6.436878506557429\n",
      "[6.71732445] 8.878239101078316\n",
      "[6.5434021] 2.935395652150902\n",
      "[6.4057683] 5.040501150643223\n",
      "[6.62589702] 5.786532833769113\n",
      "[6.33546707] 5.979586664749691\n",
      "[6.09282228] 5.306279822204499\n",
      "[6.58762471] 2.8468897787232805\n",
      "[6.59126431] 6.475822091545631\n",
      "[6.56860833] 5.1286134940852826\n",
      "[6.34163666] 6.479241160255439\n",
      "[6.48891139] 8.26365943775248\n",
      "[6.53125597] 3.926358560050596\n",
      "[7.25630814] 1.851851851851852\n",
      "[6.66050056] 6.217647718864438\n",
      "[6.71961114] 8.615936128999689\n",
      "[6.57133612] 8.445644563357412\n",
      "[6.64634905] 5.501240699731439\n",
      "[6.38011145] 9.331951529417958\n",
      "[6.5937988] 4.960118556994908\n",
      "[6.42067138] 6.661716658956585\n",
      "[6.54364443] 6.16252056098483\n",
      "[6.70741038] 6.606884116655985\n",
      "[6.59037394] 6.178471199021354\n",
      "[6.27415065] 8.648189535699306\n",
      "[6.53730436] 7.293873578105795\n",
      "[6.68458676] 8.58900182293059\n",
      "[7.3328907] 6.919001354136199\n",
      "[6.67311946] 5.782641789750783\n",
      "[6.56711873] 6.745188230708847\n",
      "[6.23464848] 8.729895310763187\n",
      "[6.60580836] 8.7520702745822\n",
      "[6.41934135] 2.956251130925136\n",
      "[6.10488918] 4.901682489457501\n",
      "[6.88318764] 7.702868405019511\n",
      "[6.32633229] 4.940154551128343\n",
      "[6.96068303] 6.937318930605292\n",
      "[6.71292385] 4.611939973759612\n",
      "[6.53274162] 5.370445928558012\n",
      "[5.98592826] 6.365217867485603\n",
      "[6.42875733] 10.0\n",
      "[6.6208913] 6.386895591770129\n",
      "[6.60687848] 5.570361684625506\n",
      "[6.33781038] 6.738211445254173\n",
      "[6.43520528] 5.695169184106348\n",
      "[6.6515451] 8.487494479679516\n",
      "[6.28232231] 7.334634318477685\n",
      "[6.25453828] 4.018484331007162\n",
      "[6.54839008] 6.907635045131309\n",
      "[6.65020549] 4.532711140346562\n",
      "[6.95239686] 6.824645591042441\n",
      "[6.46859845] 2.2785416789526334\n",
      "[6.56360366] 6.884307261274248\n",
      "[6.36851973] 4.6045944810957815\n",
      "[6.46177194] 7.227234989705268\n",
      "[6.60650743] 5.194487096750931\n",
      "[6.57061488] 5.276434979707855\n",
      "[6.65951371] 8.28226890228201\n",
      "[6.36449574] 5.096369072556445\n",
      "[6.34803768] 7.453364710650697\n",
      "[6.35168722] 7.913231463617754\n",
      "[6.52820166] 7.01712659468858\n",
      "[6.33714432] 8.241735056808233\n",
      "[7.09421379] 6.759185265998009\n",
      "[6.53650853] 7.406332267222321\n",
      "[6.20664108] 6.090466185289252\n",
      "[6.99848392] 10.0\n",
      "[6.32081531] 5.357620879306063\n",
      "[6.76621295] 5.660658121913187\n"
     ]
    }
   ],
   "source": [
    "predictions = nn.predict(X_test)\n",
    "\n",
    "print(\"  Predictions  |   Test\")\n",
    "for i in range(len(predictions)):\n",
    "    print(predictions[i], y_test[i])"
   ]
  },
  {
   "cell_type": "markdown",
   "metadata": {},
   "source": [
    "### b)\n",
    "Implementar descenso por gradiente estocástico y graficar la evolución del error de entrenamiento en función de las  épocas."
   ]
  },
  {
   "cell_type": "code",
   "execution_count": null,
   "metadata": {},
   "outputs": [],
   "source": []
  },
  {
   "cell_type": "markdown",
   "metadata": {},
   "source": [
    "### c)\n",
    "Implementar descenso por gradiente con mini-baches, y graficar la evolución del error de entrenamiento en función de las épocas, para distintos tamaños de baches. Deberáas elegir a tu criterio el tamaño de los mini-batches."
   ]
  },
  {
   "cell_type": "code",
   "execution_count": null,
   "metadata": {},
   "outputs": [],
   "source": []
  },
  {
   "cell_type": "markdown",
   "metadata": {},
   "source": [
    "### d)\n",
    "Implementar descenso por gradiente con mini-baches, y graficar la evolución del error de entrenamiento en función de las épocas, para distintos tamaños de baches. Deberás elegir a tu criterio el tamaño de los mini-batches.\n",
    "\n",
    "**Sugerencia:** si bien uno puede hacer una búsqueda exhaustiva sobre el espacio de hiperparámetros $L$ y $M^{(l)}$, esto puede resultar computacionalmente demasiado costoso, debido a que para cada combinación y cada fold, se de debe re-entrenar el modelo y evaluarlo. Piense si hay alguna manera de recorrer el espacio de búsqueda con menor costo computacional. Además, recuerde que dados dos modelos de performance similar, se privilegia elegir el de menor complejidad (menor cantidad de parámetros), porque tenderá a tener menor varianza en el error predictivo sobre data sets “nuevos” (es decir, que no hayan sido usados para el deasrrollo del modelo).\n"
   ]
  },
  {
   "cell_type": "code",
   "execution_count": null,
   "metadata": {},
   "outputs": [],
   "source": []
  },
  {
   "cell_type": "markdown",
   "metadata": {},
   "source": [
    "### e)\n",
    "Analizar la performance de su modelo final en términos de $RMSE$, $MAE$ y $R^2$, y graficar $\\hat{y}$ vs. $y$ sobre los datos “held out” de los folds de cross-validaion. Compare esto con la performance del modelo de regresión lineal desarrollado en el problema anterior. ¿Cuál de los dos modelos cree usted que generalizará mejor? ¿Por qué?\n"
   ]
  },
  {
   "cell_type": "code",
   "execution_count": null,
   "metadata": {},
   "outputs": [],
   "source": []
  }
 ],
 "metadata": {
  "kernelspec": {
   "display_name": "base",
   "language": "python",
   "name": "python3"
  },
  "language_info": {
   "codemirror_mode": {
    "name": "ipython",
    "version": 3
   },
   "file_extension": ".py",
   "mimetype": "text/x-python",
   "name": "python",
   "nbconvert_exporter": "python",
   "pygments_lexer": "ipython3",
   "version": "3.9.7"
  }
 },
 "nbformat": 4,
 "nbformat_minor": 2
}
